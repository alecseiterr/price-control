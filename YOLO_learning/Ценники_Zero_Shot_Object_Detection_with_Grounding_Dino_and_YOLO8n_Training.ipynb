{
  "cells": [
    {
      "cell_type": "code",
      "execution_count": null,
      "metadata": {
        "colab": {
          "base_uri": "https://localhost:8080/"
        },
        "id": "j3z1I5HpzWUy",
        "outputId": "83f46938-d32d-4fa5-b056-a7f542622f96"
      },
      "outputs": [
        {
          "output_type": "stream",
          "name": "stdout",
          "text": [
            "Mounted at /content/drive\n"
          ]
        }
      ],
      "source": [
        "# Подключаем Google диск\n",
        "from google.colab import drive\n",
        "drive.mount('/content/drive')"
      ]
    },
    {
      "cell_type": "markdown",
      "metadata": {
        "id": "70bxmZqkKk32"
      },
      "source": [
        "[![Roboflow Notebooks](https://media.roboflow.com/notebooks/template/bannertest2-2.png?ik-sdk-version=javascript-1.4.3&updatedAt=1672932710194)](https://github.com/roboflow/notebooks)\n",
        "\n",
        "# Zero-Shot Object Detection with Grounding DINO\n",
        "\n",
        "---\n",
        "\n",
        "[![Colab](https://colab.research.google.com/assets/colab-badge.svg)](https://colab.research.google.com/github/roboflow-ai/notebooks/blob/main/notebooks/zero-shot-object-detection-with-grounding-dino.ipynb) [![GitHub](https://badges.aleen42.com/src/github.svg)](https://github.com/IDEA-Research/GroundingDINO) [![arXiv](https://img.shields.io/badge/arXiv-2303.05499-b31b1b.svg)](https://arxiv.org/abs/2303.05499)\n",
        "\n",
        "Grounding DINO can detect **arbitrary objects** with human inputs such as category names or referring expressions. The key solution of open-set object detection is introducing language to a closed-set detector DINO. for open-set concept generalization. If you want to learn more visit official GitHub [repository](https://github.com/IDEA-Research/GroundingDINO) and read the [paper](https://arxiv.org/abs/2303.05499).\n",
        "\n",
        "![grounding dino figure](https://media.roboflow.com/notebooks/examples/grounding-dino-figure.png)\n",
        "\n",
        "## Complementary Materials\n",
        "\n",
        "---\n",
        "\n",
        "[![Roboflow](https://raw.githubusercontent.com/roboflow-ai/notebooks/main/assets/badges/roboflow-blogpost.svg)](https://blog.roboflow.com/grounding-dino-zero-shot-object-detection) [![YouTube](https://badges.aleen42.com/src/youtube.svg)](https://youtu.be/cMa77r3YrDk)\n",
        "\n",
        "We recommend that you follow along in this notebook while reading the blog post on Grounding DINO. We will talk about the advantages of Grounding DINO, analyze the model architecture, and provide real prompt examples.\n",
        "\n",
        "![grounding dino](https://media.roboflow.com/notebooks/examples/grounding-dino.png)\n",
        "\n",
        "## ⚠️ Disclaimer\n",
        "\n",
        "Grounding DINO codebase is still under development. If you experience any problems with launching the notebook, please let us know and create [issues](https://github.com/roboflow/notebooks/issues) on our GitHub.\n",
        "\n",
        "## Pro Tip: Use GPU Acceleration\n",
        "\n",
        "If you are running this notebook in Google Colab, navigate to `Edit` -> `Notebook settings` -> `Hardware accelerator`, set it to `GPU`, and then click `Save`. This will ensure your notebook uses a GPU, which will significantly speed up model training times.\n",
        "\n",
        "## Steps in this Tutorial\n",
        "\n",
        "In this tutorial, we are going to cover:\n",
        "\n",
        "- Before you start\n",
        "- Install Grounding DINO 🦕\n",
        "- Download Grounding DINO Weights 🏋️\n",
        "- Download Example Data\n",
        "- Load Grounding DINO Model\n",
        "- Grounding DINO Demo\n",
        "- Grounding DINO with Roboflow Dataset\n",
        "- 🏆 Congratulations\n",
        "\n",
        "**Let's begin!**"
      ]
    },
    {
      "cell_type": "markdown",
      "metadata": {
        "id": "PSbs0qbULMk7"
      },
      "source": [
        "## Before you start\n",
        "\n",
        "Let's make sure that we have access to GPU. We can use `nvidia-smi` command to do that. In case of any problems navigate to `Edit` -> `Notebook settings` -> `Hardware accelerator`, set it to `GPU`, and then click `Save`."
      ]
    },
    {
      "cell_type": "code",
      "execution_count": null,
      "metadata": {
        "colab": {
          "base_uri": "https://localhost:8080/"
        },
        "id": "o2kSrSPdP9YS",
        "outputId": "e0565ecc-172f-46b9-812b-16e784c55ee2"
      },
      "outputs": [
        {
          "name": "stdout",
          "output_type": "stream",
          "text": [
            "Sat Apr 13 10:48:25 2024       \n",
            "+---------------------------------------------------------------------------------------+\n",
            "| NVIDIA-SMI 535.104.05             Driver Version: 535.104.05   CUDA Version: 12.2     |\n",
            "|-----------------------------------------+----------------------+----------------------+\n",
            "| GPU  Name                 Persistence-M | Bus-Id        Disp.A | Volatile Uncorr. ECC |\n",
            "| Fan  Temp   Perf          Pwr:Usage/Cap |         Memory-Usage | GPU-Util  Compute M. |\n",
            "|                                         |                      |               MIG M. |\n",
            "|=========================================+======================+======================|\n",
            "|   0  Tesla T4                       Off | 00000000:00:04.0 Off |                    0 |\n",
            "| N/A   46C    P8               9W /  70W |      0MiB / 15360MiB |      0%      Default |\n",
            "|                                         |                      |                  N/A |\n",
            "+-----------------------------------------+----------------------+----------------------+\n",
            "                                                                                         \n",
            "+---------------------------------------------------------------------------------------+\n",
            "| Processes:                                                                            |\n",
            "|  GPU   GI   CI        PID   Type   Process name                            GPU Memory |\n",
            "|        ID   ID                                                             Usage      |\n",
            "|=======================================================================================|\n",
            "|  No running processes found                                                           |\n",
            "+---------------------------------------------------------------------------------------+\n"
          ]
        }
      ],
      "source": [
        "!nvidia-smi"
      ]
    },
    {
      "cell_type": "code",
      "execution_count": null,
      "metadata": {
        "colab": {
          "base_uri": "https://localhost:8080/"
        },
        "id": "pdsIsTKIRxMS",
        "outputId": "7a1a5f01-95d9-468a-b300-9784bd005bd3"
      },
      "outputs": [
        {
          "output_type": "stream",
          "name": "stdout",
          "text": [
            "/content/drive/MyDrive/HAKATON\n"
          ]
        }
      ],
      "source": [
        "import os\n",
        "#HOME = os.getcwd()\n",
        "HOME = '/content/drive/MyDrive/HAKATON'\n",
        "if not os.path.exists(HOME):\n",
        "    os.makedirs(HOME)\n",
        "\n",
        "print(HOME)"
      ]
    },
    {
      "cell_type": "markdown",
      "metadata": {
        "id": "zkrSv4BjMCce"
      },
      "source": [
        "## Install Grounding DINO 🦕"
      ]
    },
    {
      "cell_type": "code",
      "execution_count": null,
      "metadata": {
        "colab": {
          "base_uri": "https://localhost:8080/"
        },
        "id": "8er1uLGdSQvy",
        "outputId": "aebbf96f-32fb-4709-a381-4943bdbebd04"
      },
      "outputs": [
        {
          "name": "stdout",
          "output_type": "stream",
          "text": [
            "/content/drive/MyDrive/HAKATON\n",
            "/content/drive/MyDrive/HAKATON/GroundingDINO\n",
            "  Preparing metadata (setup.py) ... \u001b[?25l\u001b[?25hdone\n",
            "\u001b[2K     \u001b[90m━━━━━━━━━━━━━━━━━━━━━━━━━━━━━━━━━━━━━━━━\u001b[0m \u001b[32m254.7/254.7 kB\u001b[0m \u001b[31m8.5 MB/s\u001b[0m eta \u001b[36m0:00:00\u001b[0m\n",
            "\u001b[2K     \u001b[90m━━━━━━━━━━━━━━━━━━━━━━━━━━━━━━━━━━━━━━━━\u001b[0m \u001b[32m2.2/2.2 MB\u001b[0m \u001b[31m28.5 MB/s\u001b[0m eta \u001b[36m0:00:00\u001b[0m\n",
            "\u001b[2K     \u001b[90m━━━━━━━━━━━━━━━━━━━━━━━━━━━━━━━━━━━━━━━━\u001b[0m \u001b[32m97.1/97.1 kB\u001b[0m \u001b[31m13.1 MB/s\u001b[0m eta \u001b[36m0:00:00\u001b[0m\n",
            "\u001b[?25h"
          ]
        }
      ],
      "source": [
        "%cd {HOME}\n",
        "#!git clone https://github.com/IDEA-Research/GroundingDINO.git\n",
        "%cd {HOME}/GroundingDINO\n",
        "!pip install -q -e .\n",
        "!pip install -q roboflow"
      ]
    },
    {
      "cell_type": "code",
      "execution_count": null,
      "metadata": {
        "colab": {
          "base_uri": "https://localhost:8080/"
        },
        "id": "Nkrkkj7CUlkh",
        "outputId": "2d07b9af-8fc6-4ddd-ec8d-b253305bd3f9"
      },
      "outputs": [
        {
          "name": "stdout",
          "output_type": "stream",
          "text": [
            "/content/drive/MyDrive/HAKATON/GroundingDINO/groundingdino/config/GroundingDINO_SwinT_OGC.py ; exist: True\n"
          ]
        }
      ],
      "source": [
        "import os\n",
        "\n",
        "CONFIG_PATH = os.path.join(HOME, \"GroundingDINO/groundingdino/config/GroundingDINO_SwinT_OGC.py\")\n",
        "print(CONFIG_PATH, \"; exist:\", os.path.isfile(CONFIG_PATH))"
      ]
    },
    {
      "cell_type": "markdown",
      "metadata": {
        "id": "w5XwJupYO4L7"
      },
      "source": [
        "## Download Grounding DINO Weights 🏋️"
      ]
    },
    {
      "cell_type": "code",
      "execution_count": null,
      "metadata": {
        "colab": {
          "base_uri": "https://localhost:8080/"
        },
        "id": "wcYHE6buT_L-",
        "outputId": "9da6ad3f-64a3-41e3-9251-e9a7908a3ac3"
      },
      "outputs": [
        {
          "name": "stdout",
          "output_type": "stream",
          "text": [
            "/content/drive/MyDrive/HAKATON\n",
            "/content/drive/MyDrive/HAKATON/weights\n"
          ]
        }
      ],
      "source": [
        "%cd {HOME}\n",
        "#!mkdir {HOME}/weights\n",
        "%cd {HOME}/weights\n",
        "\n",
        "#!wget -q https://github.com/IDEA-Research/GroundingDINO/releases/download/v0.1.0-alpha/groundingdino_swint_ogc.pth"
      ]
    },
    {
      "cell_type": "code",
      "execution_count": null,
      "metadata": {
        "colab": {
          "base_uri": "https://localhost:8080/"
        },
        "id": "3t97tFbEUS3-",
        "outputId": "cd235f56-dac4-47b0-b420-177048cbbcf2"
      },
      "outputs": [
        {
          "output_type": "stream",
          "name": "stdout",
          "text": [
            "/content/drive/MyDrive/HAKATON/weights/groundingdino_swint_ogc.pth ; exist: True\n"
          ]
        }
      ],
      "source": [
        "import os\n",
        "\n",
        "WEIGHTS_NAME = \"groundingdino_swint_ogc.pth\"\n",
        "WEIGHTS_PATH = os.path.join(HOME, \"weights\", WEIGHTS_NAME)\n",
        "print(WEIGHTS_PATH, \"; exist:\", os.path.isfile(WEIGHTS_PATH))"
      ]
    },
    {
      "cell_type": "markdown",
      "metadata": {
        "id": "-pKiv3-CPaVn"
      },
      "source": [
        "## Download Example Data"
      ]
    },
    {
      "cell_type": "markdown",
      "metadata": {
        "id": "XehYdTlPQkim"
      },
      "source": [
        "## Load Grounding DINO Model"
      ]
    },
    {
      "cell_type": "code",
      "execution_count": null,
      "metadata": {
        "colab": {
          "base_uri": "https://localhost:8080/",
          "height": 316,
          "referenced_widgets": [
            "58451693bfb84469ac6be230bd26c742",
            "8f54c859da1748c585fa8ed38b9f6d3d",
            "e0d5520c570d463cbdd1162619928731",
            "e4919e38e7914fd1b6f34f418288a97f",
            "94ea585a2f7b40718e5cb0a0259a3e8c",
            "731f6db8ae8c48749df41ceacf35c082",
            "3751ecbaceb24d6eac90965b7babaae8",
            "4436725c1e9847c7b39fb16d112a68eb",
            "9adaeaf34eeb4ef0a30a5564668737d1",
            "aec6b0d14f5643169a11a97cea2daf29",
            "228ff703608e4a40849eda56f6b44330",
            "06d3af9020b745cbb729aba19cf65486",
            "af101509501444648209a00d1dd600f5",
            "55e4395f0eff48eb8e34dc28a3c339c2",
            "06a32189c59a453ea0f69ecc4dc3f064",
            "70c7b2e9be7a4edcad0ed82f4f9cb21b",
            "60748112968f4af098b2c86cb10d59d1",
            "63d950112fe345c89d7fa9f13a1e7636",
            "0df68d99967b471faead7238d18a37c7",
            "dd9b23d03c714d4ca2f61c1e38390bbd",
            "b23d02c9ca73443fa483261666ffbdf7",
            "8631228025584ddba60b921b29a006c0",
            "ebb7bf66face4616ad851cff5edda982",
            "f3d87b9c0b0c4ee08f6aac890561555b",
            "4794c57e7cc3471497920d6f410db1bd",
            "bc9b826900be4937ab240def85a083c4",
            "80c905800dd04d4883d89ef81d872d96",
            "a402362ba3ea4d45bf06b7e7050e9b82",
            "753c49aa90904a7398120c51cf0ecab9",
            "81ee9242bd744974b6821e76c7570ea5",
            "83ec722b8950444c96fb519f50d8f32c",
            "c2af45bd353d433685b6b1a22dcdd9cf",
            "7c293a952a694c0d8f431d5d33183c28",
            "816b098b431f43ad8c8586e8f3f10f04",
            "6a736b42168d45d8b98bfda33d396443",
            "64577a5df7df418c91b34b7364d04671",
            "eb949dcec50c423b8a8c3f0881625c04",
            "9fa138e917af4dbe81ff711f6018189b",
            "7c012a0aa0b14c368fca083613641ea4",
            "cbadfddb5c124c1a9838fd115aa16d0e",
            "3c546c0de695420685065550e0f51b99",
            "5c8f5608486b49dd87fe1473cc2f0df3",
            "6904f395d74c43c38d94f44fbe193a28",
            "2f72d8ec6c1f409d9508e11c4fa74a55",
            "78d7364a61eb4f43a70c9ffe01ce4453",
            "4d4402dc8cee4b80922394cf7d97e152",
            "0f320e202568496a817aa9bcc07f66f3",
            "b6c941496baf4148b8b546f38ca28b47",
            "8e9d7ef72c714b2fa25993426fa9af1d",
            "0b4120aff4064a9f9922514a707c5f7f",
            "bc57e281be1b4d27afa868355529faad",
            "8f08a08fa7be434b832802f2560ac1d7",
            "d828a95dfe14461eaab8c2f1c4dab02f",
            "335db62c3669443e80650617c2677c29",
            "c8362e4208c64b0886fd9d279ea4aecf"
          ]
        },
        "id": "rH62Frfih5lY",
        "outputId": "1a28197c-545a-498a-a3c4-aaf91665dc46"
      },
      "outputs": [
        {
          "name": "stdout",
          "output_type": "stream",
          "text": [
            "/content/drive/MyDrive/HAKATON/GroundingDINO\n"
          ]
        },
        {
          "name": "stderr",
          "output_type": "stream",
          "text": [
            "UserWarning: torch.meshgrid: in an upcoming release, it will be required to pass the indexing argument. (Triggered internally at ../aten/src/ATen/native/TensorShape.cpp:3549.)\n"
          ]
        },
        {
          "name": "stdout",
          "output_type": "stream",
          "text": [
            "final text_encoder_type: bert-base-uncased\n"
          ]
        },
        {
          "name": "stderr",
          "output_type": "stream",
          "text": [
            "UserWarning: \n",
            "The secret `HF_TOKEN` does not exist in your Colab secrets.\n",
            "To authenticate with the Hugging Face Hub, create a token in your settings tab (https://huggingface.co/settings/tokens), set it as secret in your Google Colab and restart your session.\n",
            "You will be able to reuse this secret in all of your notebooks.\n",
            "Please note that authentication is recommended but still optional to access public models or datasets.\n"
          ]
        },
        {
          "data": {
            "application/vnd.jupyter.widget-view+json": {
              "model_id": "58451693bfb84469ac6be230bd26c742",
              "version_major": 2,
              "version_minor": 0
            },
            "text/plain": [
              "tokenizer_config.json:   0%|          | 0.00/48.0 [00:00<?, ?B/s]"
            ]
          },
          "metadata": {},
          "output_type": "display_data"
        },
        {
          "data": {
            "application/vnd.jupyter.widget-view+json": {
              "model_id": "06d3af9020b745cbb729aba19cf65486",
              "version_major": 2,
              "version_minor": 0
            },
            "text/plain": [
              "config.json:   0%|          | 0.00/570 [00:00<?, ?B/s]"
            ]
          },
          "metadata": {},
          "output_type": "display_data"
        },
        {
          "data": {
            "application/vnd.jupyter.widget-view+json": {
              "model_id": "ebb7bf66face4616ad851cff5edda982",
              "version_major": 2,
              "version_minor": 0
            },
            "text/plain": [
              "vocab.txt:   0%|          | 0.00/232k [00:00<?, ?B/s]"
            ]
          },
          "metadata": {},
          "output_type": "display_data"
        },
        {
          "data": {
            "application/vnd.jupyter.widget-view+json": {
              "model_id": "816b098b431f43ad8c8586e8f3f10f04",
              "version_major": 2,
              "version_minor": 0
            },
            "text/plain": [
              "tokenizer.json:   0%|          | 0.00/466k [00:00<?, ?B/s]"
            ]
          },
          "metadata": {},
          "output_type": "display_data"
        },
        {
          "data": {
            "application/vnd.jupyter.widget-view+json": {
              "model_id": "78d7364a61eb4f43a70c9ffe01ce4453",
              "version_major": 2,
              "version_minor": 0
            },
            "text/plain": [
              "model.safetensors:   0%|          | 0.00/440M [00:00<?, ?B/s]"
            ]
          },
          "metadata": {},
          "output_type": "display_data"
        }
      ],
      "source": [
        "%cd {HOME}/GroundingDINO\n",
        "\n",
        "from groundingdino.util.inference import load_model, load_image, predict, annotate\n",
        "\n",
        "model = load_model(CONFIG_PATH, WEIGHTS_PATH)"
      ]
    },
    {
      "cell_type": "code",
      "execution_count": null,
      "metadata": {
        "id": "UHulCOd1pMRZ"
      },
      "outputs": [],
      "source": [
        "# @title Вспомогательные функции\n",
        "\n",
        "import time\n",
        "\n",
        "# Контекстный менеджер для измерения времени операций\n",
        "class timex:\n",
        "    def __enter__(self):\n",
        "        # Фиксация времени старта процесса\n",
        "        self.t = time.time()\n",
        "        return self\n",
        "\n",
        "    def __exit__(self, type, value, traceback):\n",
        "        # Вывод времени работы\n",
        "        # Расчет времени выполнения\n",
        "        result_time = time.time()-self.t\n",
        "        hour = int(result_time//3600)\n",
        "        min = int(result_time//60)-hour*60\n",
        "        sec = int(round(result_time%60))\n",
        "        msec = round(1000*result_time%60)\n",
        "\n",
        "        if hour > 0:\n",
        "          print('Время обработки: ' + str(hour)+' час. ' + str(min)+' мин.')\n",
        "        elif min > 0:\n",
        "          print('Время обработки: ' + str(min)+' мин. ' + str(sec)+' сек.')\n",
        "        elif sec > 0:\n",
        "          print('Время обработки: ' + str(sec)+' сек.')\n",
        "        else:\n",
        "          print('Время обработки: ' + str(msec)+' мс.')"
      ]
    },
    {
      "cell_type": "markdown",
      "metadata": {
        "id": "SRczSnprsfEN"
      },
      "source": [
        "# Загрузка и распаковка изображений\n",
        "\n",
        "https://drive.google.com/file/d/1c1xi5pvwEh1vGLvainJfXrzJn-EjfenX/view?usp=sharing"
      ]
    },
    {
      "cell_type": "markdown",
      "metadata": {
        "id": "1QzPZYdsvmJ4"
      },
      "source": [
        "https://pylot.me/article/35-rabota-s-zip-arhivami-s-pomoshyu-python/"
      ]
    },
    {
      "cell_type": "code",
      "execution_count": null,
      "metadata": {
        "id": "qcAl3mX-uCHS"
      },
      "outputs": [],
      "source": [
        "DATA_PATH = os.path.join(HOME, 'data')\n",
        "IMAGE_PATH = os.path.join(DATA_PATH, 'images')\n",
        "LABEL_PATH = os.path.join(DATA_PATH, 'labels')\n",
        "\n",
        "\n",
        "if not os.path.exists(IMAGE_PATH):\n",
        "    os.makedirs(IMAGE_PATH)\n",
        "\n",
        "if not os.path.exists(LABEL_PATH):\n",
        "    os.makedirs(LABEL_PATH)"
      ]
    },
    {
      "cell_type": "code",
      "execution_count": null,
      "metadata": {
        "colab": {
          "base_uri": "https://localhost:8080/"
        },
        "id": "Bs7AQkoAGABq",
        "outputId": "aedb3e95-7308-497f-efe4-8a912ae7f89b"
      },
      "outputs": [
        {
          "name": "stdout",
          "output_type": "stream",
          "text": [
            "/content/drive/MyDrive/HAKATON/data\n"
          ]
        }
      ],
      "source": [
        "%cd {DATA_PATH}"
      ]
    },
    {
      "cell_type": "code",
      "execution_count": null,
      "metadata": {
        "colab": {
          "base_uri": "https://localhost:8080/"
        },
        "id": "VvWga8bwsknS",
        "outputId": "1be45710-1f4d-47da-9027-2be951278667"
      },
      "outputs": [
        {
          "name": "stdout",
          "output_type": "stream",
          "text": [
            "price_tags_images.zip\n"
          ]
        }
      ],
      "source": [
        "import gdown\n",
        "import zipfile\n",
        "\n",
        "output = gdown.download('https://drive.google.com/uc?id=1c1xi5pvwEh1vGLvainJfXrzJn-EjfenX', None, quiet=True)\n",
        "print(output)\n",
        "\n",
        "# Распаковываем архив в текущую директорию\n",
        "with zipfile.ZipFile(output, 'r') as zip_ref:\n",
        "    zip_ref.extractall(IMAGE_PATH)"
      ]
    },
    {
      "cell_type": "markdown",
      "metadata": {
        "id": "Dwhq3RgwQ5Y0"
      },
      "source": [
        "## Grounding DINO"
      ]
    },
    {
      "cell_type": "code",
      "execution_count": null,
      "metadata": {
        "id": "JpMEN1g0KQZe"
      },
      "outputs": [],
      "source": [
        "import os\n",
        "import supervision as sv"
      ]
    },
    {
      "cell_type": "code",
      "execution_count": null,
      "metadata": {
        "id": "CeWzYYUDaG4Z"
      },
      "outputs": [],
      "source": [
        "def detect(path, promt):\n",
        "  IMAGE_PATH = path\n",
        "\n",
        "  TEXT_PROMPT = promt\n",
        "  BOX_TRESHOLD = 0.35\n",
        "  TEXT_TRESHOLD = 0.25\n",
        "\n",
        "  image_source, image = load_image(IMAGE_PATH)\n",
        "\n",
        "  boxes, logits, phrases = predict(\n",
        "      model=model,\n",
        "      image=image,\n",
        "      caption=TEXT_PROMPT,\n",
        "      box_threshold=BOX_TRESHOLD,\n",
        "      text_threshold=TEXT_TRESHOLD\n",
        "  )\n",
        "\n",
        "  annotated_frame = annotate(image_source=image_source, boxes=boxes, logits=logits, phrases=phrases)\n",
        "\n",
        "  %matplotlib inline\n",
        "  sv.plot_image(annotated_frame, (16, 16))"
      ]
    },
    {
      "cell_type": "code",
      "execution_count": null,
      "metadata": {
        "id": "nBPPnKEDK6b3"
      },
      "outputs": [],
      "source": [
        "def extract_data(path, promt):\n",
        "  IMAGE_PATH = path\n",
        "\n",
        "  TEXT_PROMPT = promt\n",
        "  BOX_TRESHOLD = 0.35\n",
        "  TEXT_TRESHOLD = 0.25\n",
        "\n",
        "  image_source, image = load_image(IMAGE_PATH)\n",
        "\n",
        "  boxes, logits, phrases = predict(\n",
        "      model=model,\n",
        "      image=image,\n",
        "      caption=TEXT_PROMPT,\n",
        "      box_threshold=BOX_TRESHOLD,\n",
        "      text_threshold=TEXT_TRESHOLD\n",
        "  )\n",
        "\n",
        "  return boxes, logits, phrases"
      ]
    },
    {
      "cell_type": "code",
      "execution_count": null,
      "metadata": {
        "id": "BYFcY7UiHMoY"
      },
      "outputs": [],
      "source": [
        "import warnings\n",
        "warnings.filterwarnings(\"ignore\")\n",
        "\n",
        "import pandas as pd"
      ]
    },
    {
      "cell_type": "code",
      "execution_count": null,
      "metadata": {
        "colab": {
          "base_uri": "https://localhost:8080/"
        },
        "id": "rD5CCb8QKcJx",
        "outputId": "ebd27261-16da-4a6f-b99d-af2002987c40"
      },
      "outputs": [
        {
          "name": "stderr",
          "output_type": "stream",
          "text": [
            "FutureWarning: The `device` argument is deprecated and will be removed in v5 of Transformers.\n",
            "UserWarning: torch.utils.checkpoint: please pass in use_reentrant=True or use_reentrant=False explicitly. The default value of use_reentrant will be updated to be False in the future. To maintain current behavior, pass use_reentrant=True. It is recommended that you use use_reentrant=False. Refer to docs for more details on the differences between the two variants.\n",
            "UserWarning: None of the inputs have requires_grad=True. Gradients will be None\n",
            "FutureWarning: The `device` argument is deprecated and will be removed in v5 of Transformers.\n",
            "UserWarning: torch.utils.checkpoint: please pass in use_reentrant=True or use_reentrant=False explicitly. The default value of use_reentrant will be updated to be False in the future. To maintain current behavior, pass use_reentrant=True. It is recommended that you use use_reentrant=False. Refer to docs for more details on the differences between the two variants.\n",
            "UserWarning: None of the inputs have requires_grad=True. Gradients will be None\n",
            "FutureWarning: The `device` argument is deprecated and will be removed in v5 of Transformers.\n",
            "UserWarning: torch.utils.checkpoint: please pass in use_reentrant=True or use_reentrant=False explicitly. The default value of use_reentrant will be updated to be False in the future. To maintain current behavior, pass use_reentrant=True. It is recommended that you use use_reentrant=False. Refer to docs for more details on the differences between the two variants.\n",
            "UserWarning: None of the inputs have requires_grad=True. Gradients will be None\n",
            "FutureWarning: The `device` argument is deprecated and will be removed in v5 of Transformers.\n",
            "UserWarning: torch.utils.checkpoint: please pass in use_reentrant=True or use_reentrant=False explicitly. The default value of use_reentrant will be updated to be False in the future. To maintain current behavior, pass use_reentrant=True. It is recommended that you use use_reentrant=False. Refer to docs for more details on the differences between the two variants.\n",
            "UserWarning: None of the inputs have requires_grad=True. Gradients will be None\n",
            "FutureWarning: The `device` argument is deprecated and will be removed in v5 of Transformers.\n",
            "UserWarning: torch.utils.checkpoint: please pass in use_reentrant=True or use_reentrant=False explicitly. The default value of use_reentrant will be updated to be False in the future. To maintain current behavior, pass use_reentrant=True. It is recommended that you use use_reentrant=False. Refer to docs for more details on the differences between the two variants.\n",
            "UserWarning: None of the inputs have requires_grad=True. Gradients will be None\n",
            "FutureWarning: The `device` argument is deprecated and will be removed in v5 of Transformers.\n",
            "UserWarning: torch.utils.checkpoint: please pass in use_reentrant=True or use_reentrant=False explicitly. The default value of use_reentrant will be updated to be False in the future. To maintain current behavior, pass use_reentrant=True. It is recommended that you use use_reentrant=False. Refer to docs for more details on the differences between the two variants.\n",
            "UserWarning: None of the inputs have requires_grad=True. Gradients will be None\n",
            "FutureWarning: The `device` argument is deprecated and will be removed in v5 of Transformers.\n",
            "UserWarning: torch.utils.checkpoint: please pass in use_reentrant=True or use_reentrant=False explicitly. The default value of use_reentrant will be updated to be False in the future. To maintain current behavior, pass use_reentrant=True. It is recommended that you use use_reentrant=False. Refer to docs for more details on the differences between the two variants.\n",
            "UserWarning: None of the inputs have requires_grad=True. Gradients will be None\n",
            "FutureWarning: The `device` argument is deprecated and will be removed in v5 of Transformers.\n",
            "UserWarning: torch.utils.checkpoint: please pass in use_reentrant=True or use_reentrant=False explicitly. The default value of use_reentrant will be updated to be False in the future. To maintain current behavior, pass use_reentrant=True. It is recommended that you use use_reentrant=False. Refer to docs for more details on the differences between the two variants.\n",
            "UserWarning: None of the inputs have requires_grad=True. Gradients will be None\n",
            "FutureWarning: The `device` argument is deprecated and will be removed in v5 of Transformers.\n",
            "UserWarning: torch.utils.checkpoint: please pass in use_reentrant=True or use_reentrant=False explicitly. The default value of use_reentrant will be updated to be False in the future. To maintain current behavior, pass use_reentrant=True. It is recommended that you use use_reentrant=False. Refer to docs for more details on the differences between the two variants.\n",
            "UserWarning: None of the inputs have requires_grad=True. Gradients will be None\n",
            "FutureWarning: The `device` argument is deprecated and will be removed in v5 of Transformers.\n",
            "UserWarning: torch.utils.checkpoint: please pass in use_reentrant=True or use_reentrant=False explicitly. The default value of use_reentrant will be updated to be False in the future. To maintain current behavior, pass use_reentrant=True. It is recommended that you use use_reentrant=False. Refer to docs for more details on the differences between the two variants.\n",
            "UserWarning: None of the inputs have requires_grad=True. Gradients will be None\n",
            "FutureWarning: The `device` argument is deprecated and will be removed in v5 of Transformers.\n",
            "UserWarning: torch.utils.checkpoint: please pass in use_reentrant=True or use_reentrant=False explicitly. The default value of use_reentrant will be updated to be False in the future. To maintain current behavior, pass use_reentrant=True. It is recommended that you use use_reentrant=False. Refer to docs for more details on the differences between the two variants.\n",
            "UserWarning: None of the inputs have requires_grad=True. Gradients will be None\n",
            "FutureWarning: The `device` argument is deprecated and will be removed in v5 of Transformers.\n",
            "UserWarning: torch.utils.checkpoint: please pass in use_reentrant=True or use_reentrant=False explicitly. The default value of use_reentrant will be updated to be False in the future. To maintain current behavior, pass use_reentrant=True. It is recommended that you use use_reentrant=False. Refer to docs for more details on the differences between the two variants.\n",
            "UserWarning: None of the inputs have requires_grad=True. Gradients will be None\n",
            "FutureWarning: The `device` argument is deprecated and will be removed in v5 of Transformers.\n",
            "UserWarning: torch.utils.checkpoint: please pass in use_reentrant=True or use_reentrant=False explicitly. The default value of use_reentrant will be updated to be False in the future. To maintain current behavior, pass use_reentrant=True. It is recommended that you use use_reentrant=False. Refer to docs for more details on the differences between the two variants.\n",
            "UserWarning: None of the inputs have requires_grad=True. Gradients will be None\n",
            "FutureWarning: The `device` argument is deprecated and will be removed in v5 of Transformers.\n",
            "UserWarning: torch.utils.checkpoint: please pass in use_reentrant=True or use_reentrant=False explicitly. The default value of use_reentrant will be updated to be False in the future. To maintain current behavior, pass use_reentrant=True. It is recommended that you use use_reentrant=False. Refer to docs for more details on the differences between the two variants.\n",
            "UserWarning: None of the inputs have requires_grad=True. Gradients will be None\n",
            "FutureWarning: The `device` argument is deprecated and will be removed in v5 of Transformers.\n",
            "UserWarning: torch.utils.checkpoint: please pass in use_reentrant=True or use_reentrant=False explicitly. The default value of use_reentrant will be updated to be False in the future. To maintain current behavior, pass use_reentrant=True. It is recommended that you use use_reentrant=False. Refer to docs for more details on the differences between the two variants.\n",
            "UserWarning: None of the inputs have requires_grad=True. Gradients will be None\n",
            "FutureWarning: The `device` argument is deprecated and will be removed in v5 of Transformers.\n",
            "UserWarning: torch.utils.checkpoint: please pass in use_reentrant=True or use_reentrant=False explicitly. The default value of use_reentrant will be updated to be False in the future. To maintain current behavior, pass use_reentrant=True. It is recommended that you use use_reentrant=False. Refer to docs for more details on the differences between the two variants.\n",
            "UserWarning: None of the inputs have requires_grad=True. Gradients will be None\n",
            "FutureWarning: The `device` argument is deprecated and will be removed in v5 of Transformers.\n",
            "UserWarning: torch.utils.checkpoint: please pass in use_reentrant=True or use_reentrant=False explicitly. The default value of use_reentrant will be updated to be False in the future. To maintain current behavior, pass use_reentrant=True. It is recommended that you use use_reentrant=False. Refer to docs for more details on the differences between the two variants.\n",
            "UserWarning: None of the inputs have requires_grad=True. Gradients will be None\n",
            "FutureWarning: The `device` argument is deprecated and will be removed in v5 of Transformers.\n",
            "UserWarning: torch.utils.checkpoint: please pass in use_reentrant=True or use_reentrant=False explicitly. The default value of use_reentrant will be updated to be False in the future. To maintain current behavior, pass use_reentrant=True. It is recommended that you use use_reentrant=False. Refer to docs for more details on the differences between the two variants.\n",
            "UserWarning: None of the inputs have requires_grad=True. Gradients will be None\n",
            "FutureWarning: The `device` argument is deprecated and will be removed in v5 of Transformers.\n",
            "UserWarning: torch.utils.checkpoint: please pass in use_reentrant=True or use_reentrant=False explicitly. The default value of use_reentrant will be updated to be False in the future. To maintain current behavior, pass use_reentrant=True. It is recommended that you use use_reentrant=False. Refer to docs for more details on the differences between the two variants.\n",
            "UserWarning: None of the inputs have requires_grad=True. Gradients will be None\n",
            "FutureWarning: The `device` argument is deprecated and will be removed in v5 of Transformers.\n",
            "UserWarning: torch.utils.checkpoint: please pass in use_reentrant=True or use_reentrant=False explicitly. The default value of use_reentrant will be updated to be False in the future. To maintain current behavior, pass use_reentrant=True. It is recommended that you use use_reentrant=False. Refer to docs for more details on the differences between the two variants.\n",
            "UserWarning: None of the inputs have requires_grad=True. Gradients will be None\n",
            "FutureWarning: The `device` argument is deprecated and will be removed in v5 of Transformers.\n",
            "UserWarning: torch.utils.checkpoint: please pass in use_reentrant=True or use_reentrant=False explicitly. The default value of use_reentrant will be updated to be False in the future. To maintain current behavior, pass use_reentrant=True. It is recommended that you use use_reentrant=False. Refer to docs for more details on the differences between the two variants.\n",
            "UserWarning: None of the inputs have requires_grad=True. Gradients will be None\n",
            "FutureWarning: The `device` argument is deprecated and will be removed in v5 of Transformers.\n",
            "UserWarning: torch.utils.checkpoint: please pass in use_reentrant=True or use_reentrant=False explicitly. The default value of use_reentrant will be updated to be False in the future. To maintain current behavior, pass use_reentrant=True. It is recommended that you use use_reentrant=False. Refer to docs for more details on the differences between the two variants.\n",
            "UserWarning: None of the inputs have requires_grad=True. Gradients will be None\n",
            "FutureWarning: The `device` argument is deprecated and will be removed in v5 of Transformers.\n",
            "UserWarning: torch.utils.checkpoint: please pass in use_reentrant=True or use_reentrant=False explicitly. The default value of use_reentrant will be updated to be False in the future. To maintain current behavior, pass use_reentrant=True. It is recommended that you use use_reentrant=False. Refer to docs for more details on the differences between the two variants.\n",
            "UserWarning: None of the inputs have requires_grad=True. Gradients will be None\n",
            "FutureWarning: The `device` argument is deprecated and will be removed in v5 of Transformers.\n",
            "UserWarning: torch.utils.checkpoint: please pass in use_reentrant=True or use_reentrant=False explicitly. The default value of use_reentrant will be updated to be False in the future. To maintain current behavior, pass use_reentrant=True. It is recommended that you use use_reentrant=False. Refer to docs for more details on the differences between the two variants.\n",
            "UserWarning: None of the inputs have requires_grad=True. Gradients will be None\n",
            "FutureWarning: The `device` argument is deprecated and will be removed in v5 of Transformers.\n",
            "UserWarning: torch.utils.checkpoint: please pass in use_reentrant=True or use_reentrant=False explicitly. The default value of use_reentrant will be updated to be False in the future. To maintain current behavior, pass use_reentrant=True. It is recommended that you use use_reentrant=False. Refer to docs for more details on the differences between the two variants.\n",
            "UserWarning: None of the inputs have requires_grad=True. Gradients will be None\n",
            "FutureWarning: The `device` argument is deprecated and will be removed in v5 of Transformers.\n",
            "UserWarning: torch.utils.checkpoint: please pass in use_reentrant=True or use_reentrant=False explicitly. The default value of use_reentrant will be updated to be False in the future. To maintain current behavior, pass use_reentrant=True. It is recommended that you use use_reentrant=False. Refer to docs for more details on the differences between the two variants.\n",
            "UserWarning: None of the inputs have requires_grad=True. Gradients will be None\n",
            "FutureWarning: The `device` argument is deprecated and will be removed in v5 of Transformers.\n",
            "UserWarning: torch.utils.checkpoint: please pass in use_reentrant=True or use_reentrant=False explicitly. The default value of use_reentrant will be updated to be False in the future. To maintain current behavior, pass use_reentrant=True. It is recommended that you use use_reentrant=False. Refer to docs for more details on the differences between the two variants.\n",
            "UserWarning: None of the inputs have requires_grad=True. Gradients will be None\n",
            "FutureWarning: The `device` argument is deprecated and will be removed in v5 of Transformers.\n",
            "UserWarning: torch.utils.checkpoint: please pass in use_reentrant=True or use_reentrant=False explicitly. The default value of use_reentrant will be updated to be False in the future. To maintain current behavior, pass use_reentrant=True. It is recommended that you use use_reentrant=False. Refer to docs for more details on the differences between the two variants.\n",
            "UserWarning: None of the inputs have requires_grad=True. Gradients will be None\n",
            "FutureWarning: The `device` argument is deprecated and will be removed in v5 of Transformers.\n",
            "UserWarning: torch.utils.checkpoint: please pass in use_reentrant=True or use_reentrant=False explicitly. The default value of use_reentrant will be updated to be False in the future. To maintain current behavior, pass use_reentrant=True. It is recommended that you use use_reentrant=False. Refer to docs for more details on the differences between the two variants.\n",
            "UserWarning: None of the inputs have requires_grad=True. Gradients will be None\n",
            "FutureWarning: The `device` argument is deprecated and will be removed in v5 of Transformers.\n",
            "UserWarning: torch.utils.checkpoint: please pass in use_reentrant=True or use_reentrant=False explicitly. The default value of use_reentrant will be updated to be False in the future. To maintain current behavior, pass use_reentrant=True. It is recommended that you use use_reentrant=False. Refer to docs for more details on the differences between the two variants.\n",
            "UserWarning: None of the inputs have requires_grad=True. Gradients will be None\n",
            "FutureWarning: The `device` argument is deprecated and will be removed in v5 of Transformers.\n",
            "UserWarning: torch.utils.checkpoint: please pass in use_reentrant=True or use_reentrant=False explicitly. The default value of use_reentrant will be updated to be False in the future. To maintain current behavior, pass use_reentrant=True. It is recommended that you use use_reentrant=False. Refer to docs for more details on the differences between the two variants.\n",
            "UserWarning: None of the inputs have requires_grad=True. Gradients will be None\n",
            "FutureWarning: The `device` argument is deprecated and will be removed in v5 of Transformers.\n",
            "UserWarning: torch.utils.checkpoint: please pass in use_reentrant=True or use_reentrant=False explicitly. The default value of use_reentrant will be updated to be False in the future. To maintain current behavior, pass use_reentrant=True. It is recommended that you use use_reentrant=False. Refer to docs for more details on the differences between the two variants.\n",
            "UserWarning: None of the inputs have requires_grad=True. Gradients will be None\n",
            "FutureWarning: The `device` argument is deprecated and will be removed in v5 of Transformers.\n",
            "UserWarning: torch.utils.checkpoint: please pass in use_reentrant=True or use_reentrant=False explicitly. The default value of use_reentrant will be updated to be False in the future. To maintain current behavior, pass use_reentrant=True. It is recommended that you use use_reentrant=False. Refer to docs for more details on the differences between the two variants.\n",
            "UserWarning: None of the inputs have requires_grad=True. Gradients will be None\n",
            "FutureWarning: The `device` argument is deprecated and will be removed in v5 of Transformers.\n",
            "UserWarning: torch.utils.checkpoint: please pass in use_reentrant=True or use_reentrant=False explicitly. The default value of use_reentrant will be updated to be False in the future. To maintain current behavior, pass use_reentrant=True. It is recommended that you use use_reentrant=False. Refer to docs for more details on the differences between the two variants.\n",
            "UserWarning: None of the inputs have requires_grad=True. Gradients will be None\n",
            "FutureWarning: The `device` argument is deprecated and will be removed in v5 of Transformers.\n",
            "UserWarning: torch.utils.checkpoint: please pass in use_reentrant=True or use_reentrant=False explicitly. The default value of use_reentrant will be updated to be False in the future. To maintain current behavior, pass use_reentrant=True. It is recommended that you use use_reentrant=False. Refer to docs for more details on the differences between the two variants.\n",
            "UserWarning: None of the inputs have requires_grad=True. Gradients will be None\n",
            "FutureWarning: The `device` argument is deprecated and will be removed in v5 of Transformers.\n",
            "UserWarning: torch.utils.checkpoint: please pass in use_reentrant=True or use_reentrant=False explicitly. The default value of use_reentrant will be updated to be False in the future. To maintain current behavior, pass use_reentrant=True. It is recommended that you use use_reentrant=False. Refer to docs for more details on the differences between the two variants.\n",
            "UserWarning: None of the inputs have requires_grad=True. Gradients will be None\n",
            "FutureWarning: The `device` argument is deprecated and will be removed in v5 of Transformers.\n",
            "UserWarning: torch.utils.checkpoint: please pass in use_reentrant=True or use_reentrant=False explicitly. The default value of use_reentrant will be updated to be False in the future. To maintain current behavior, pass use_reentrant=True. It is recommended that you use use_reentrant=False. Refer to docs for more details on the differences between the two variants.\n",
            "UserWarning: None of the inputs have requires_grad=True. Gradients will be None\n",
            "FutureWarning: The `device` argument is deprecated and will be removed in v5 of Transformers.\n",
            "UserWarning: torch.utils.checkpoint: please pass in use_reentrant=True or use_reentrant=False explicitly. The default value of use_reentrant will be updated to be False in the future. To maintain current behavior, pass use_reentrant=True. It is recommended that you use use_reentrant=False. Refer to docs for more details on the differences between the two variants.\n",
            "UserWarning: None of the inputs have requires_grad=True. Gradients will be None\n",
            "FutureWarning: The `device` argument is deprecated and will be removed in v5 of Transformers.\n",
            "UserWarning: torch.utils.checkpoint: please pass in use_reentrant=True or use_reentrant=False explicitly. The default value of use_reentrant will be updated to be False in the future. To maintain current behavior, pass use_reentrant=True. It is recommended that you use use_reentrant=False. Refer to docs for more details on the differences between the two variants.\n",
            "UserWarning: None of the inputs have requires_grad=True. Gradients will be None\n",
            "FutureWarning: The `device` argument is deprecated and will be removed in v5 of Transformers.\n",
            "UserWarning: torch.utils.checkpoint: please pass in use_reentrant=True or use_reentrant=False explicitly. The default value of use_reentrant will be updated to be False in the future. To maintain current behavior, pass use_reentrant=True. It is recommended that you use use_reentrant=False. Refer to docs for more details on the differences between the two variants.\n",
            "UserWarning: None of the inputs have requires_grad=True. Gradients will be None\n",
            "FutureWarning: The `device` argument is deprecated and will be removed in v5 of Transformers.\n",
            "UserWarning: torch.utils.checkpoint: please pass in use_reentrant=True or use_reentrant=False explicitly. The default value of use_reentrant will be updated to be False in the future. To maintain current behavior, pass use_reentrant=True. It is recommended that you use use_reentrant=False. Refer to docs for more details on the differences between the two variants.\n",
            "UserWarning: None of the inputs have requires_grad=True. Gradients will be None\n",
            "FutureWarning: The `device` argument is deprecated and will be removed in v5 of Transformers.\n",
            "UserWarning: torch.utils.checkpoint: please pass in use_reentrant=True or use_reentrant=False explicitly. The default value of use_reentrant will be updated to be False in the future. To maintain current behavior, pass use_reentrant=True. It is recommended that you use use_reentrant=False. Refer to docs for more details on the differences between the two variants.\n",
            "UserWarning: None of the inputs have requires_grad=True. Gradients will be None\n",
            "FutureWarning: The `device` argument is deprecated and will be removed in v5 of Transformers.\n",
            "UserWarning: torch.utils.checkpoint: please pass in use_reentrant=True or use_reentrant=False explicitly. The default value of use_reentrant will be updated to be False in the future. To maintain current behavior, pass use_reentrant=True. It is recommended that you use use_reentrant=False. Refer to docs for more details on the differences between the two variants.\n",
            "UserWarning: None of the inputs have requires_grad=True. Gradients will be None\n",
            "FutureWarning: The `device` argument is deprecated and will be removed in v5 of Transformers.\n",
            "UserWarning: torch.utils.checkpoint: please pass in use_reentrant=True or use_reentrant=False explicitly. The default value of use_reentrant will be updated to be False in the future. To maintain current behavior, pass use_reentrant=True. It is recommended that you use use_reentrant=False. Refer to docs for more details on the differences between the two variants.\n",
            "UserWarning: None of the inputs have requires_grad=True. Gradients will be None\n",
            "FutureWarning: The `device` argument is deprecated and will be removed in v5 of Transformers.\n",
            "UserWarning: torch.utils.checkpoint: please pass in use_reentrant=True or use_reentrant=False explicitly. The default value of use_reentrant will be updated to be False in the future. To maintain current behavior, pass use_reentrant=True. It is recommended that you use use_reentrant=False. Refer to docs for more details on the differences between the two variants.\n",
            "UserWarning: None of the inputs have requires_grad=True. Gradients will be None\n",
            "FutureWarning: The `device` argument is deprecated and will be removed in v5 of Transformers.\n",
            "UserWarning: torch.utils.checkpoint: please pass in use_reentrant=True or use_reentrant=False explicitly. The default value of use_reentrant will be updated to be False in the future. To maintain current behavior, pass use_reentrant=True. It is recommended that you use use_reentrant=False. Refer to docs for more details on the differences between the two variants.\n",
            "UserWarning: None of the inputs have requires_grad=True. Gradients will be None\n",
            "FutureWarning: The `device` argument is deprecated and will be removed in v5 of Transformers.\n",
            "UserWarning: torch.utils.checkpoint: please pass in use_reentrant=True or use_reentrant=False explicitly. The default value of use_reentrant will be updated to be False in the future. To maintain current behavior, pass use_reentrant=True. It is recommended that you use use_reentrant=False. Refer to docs for more details on the differences between the two variants.\n",
            "UserWarning: None of the inputs have requires_grad=True. Gradients will be None\n",
            "FutureWarning: The `device` argument is deprecated and will be removed in v5 of Transformers.\n",
            "UserWarning: torch.utils.checkpoint: please pass in use_reentrant=True or use_reentrant=False explicitly. The default value of use_reentrant will be updated to be False in the future. To maintain current behavior, pass use_reentrant=True. It is recommended that you use use_reentrant=False. Refer to docs for more details on the differences between the two variants.\n",
            "UserWarning: None of the inputs have requires_grad=True. Gradients will be None\n",
            "FutureWarning: The `device` argument is deprecated and will be removed in v5 of Transformers.\n",
            "UserWarning: torch.utils.checkpoint: please pass in use_reentrant=True or use_reentrant=False explicitly. The default value of use_reentrant will be updated to be False in the future. To maintain current behavior, pass use_reentrant=True. It is recommended that you use use_reentrant=False. Refer to docs for more details on the differences between the two variants.\n",
            "UserWarning: None of the inputs have requires_grad=True. Gradients will be None\n",
            "FutureWarning: The `device` argument is deprecated and will be removed in v5 of Transformers.\n",
            "UserWarning: torch.utils.checkpoint: please pass in use_reentrant=True or use_reentrant=False explicitly. The default value of use_reentrant will be updated to be False in the future. To maintain current behavior, pass use_reentrant=True. It is recommended that you use use_reentrant=False. Refer to docs for more details on the differences between the two variants.\n",
            "UserWarning: None of the inputs have requires_grad=True. Gradients will be None\n",
            "FutureWarning: The `device` argument is deprecated and will be removed in v5 of Transformers.\n",
            "UserWarning: torch.utils.checkpoint: please pass in use_reentrant=True or use_reentrant=False explicitly. The default value of use_reentrant will be updated to be False in the future. To maintain current behavior, pass use_reentrant=True. It is recommended that you use use_reentrant=False. Refer to docs for more details on the differences between the two variants.\n",
            "UserWarning: None of the inputs have requires_grad=True. Gradients will be None\n",
            "FutureWarning: The `device` argument is deprecated and will be removed in v5 of Transformers.\n",
            "UserWarning: torch.utils.checkpoint: please pass in use_reentrant=True or use_reentrant=False explicitly. The default value of use_reentrant will be updated to be False in the future. To maintain current behavior, pass use_reentrant=True. It is recommended that you use use_reentrant=False. Refer to docs for more details on the differences between the two variants.\n",
            "UserWarning: None of the inputs have requires_grad=True. Gradients will be None\n",
            "FutureWarning: The `device` argument is deprecated and will be removed in v5 of Transformers.\n",
            "UserWarning: torch.utils.checkpoint: please pass in use_reentrant=True or use_reentrant=False explicitly. The default value of use_reentrant will be updated to be False in the future. To maintain current behavior, pass use_reentrant=True. It is recommended that you use use_reentrant=False. Refer to docs for more details on the differences between the two variants.\n",
            "UserWarning: None of the inputs have requires_grad=True. Gradients will be None\n",
            "FutureWarning: The `device` argument is deprecated and will be removed in v5 of Transformers.\n",
            "UserWarning: torch.utils.checkpoint: please pass in use_reentrant=True or use_reentrant=False explicitly. The default value of use_reentrant will be updated to be False in the future. To maintain current behavior, pass use_reentrant=True. It is recommended that you use use_reentrant=False. Refer to docs for more details on the differences between the two variants.\n",
            "UserWarning: None of the inputs have requires_grad=True. Gradients will be None\n",
            "FutureWarning: The `device` argument is deprecated and will be removed in v5 of Transformers.\n",
            "UserWarning: torch.utils.checkpoint: please pass in use_reentrant=True or use_reentrant=False explicitly. The default value of use_reentrant will be updated to be False in the future. To maintain current behavior, pass use_reentrant=True. It is recommended that you use use_reentrant=False. Refer to docs for more details on the differences between the two variants.\n",
            "UserWarning: None of the inputs have requires_grad=True. Gradients will be None\n",
            "FutureWarning: The `device` argument is deprecated and will be removed in v5 of Transformers.\n",
            "UserWarning: torch.utils.checkpoint: please pass in use_reentrant=True or use_reentrant=False explicitly. The default value of use_reentrant will be updated to be False in the future. To maintain current behavior, pass use_reentrant=True. It is recommended that you use use_reentrant=False. Refer to docs for more details on the differences between the two variants.\n",
            "UserWarning: None of the inputs have requires_grad=True. Gradients will be None\n",
            "FutureWarning: The `device` argument is deprecated and will be removed in v5 of Transformers.\n",
            "UserWarning: torch.utils.checkpoint: please pass in use_reentrant=True or use_reentrant=False explicitly. The default value of use_reentrant will be updated to be False in the future. To maintain current behavior, pass use_reentrant=True. It is recommended that you use use_reentrant=False. Refer to docs for more details on the differences between the two variants.\n",
            "UserWarning: None of the inputs have requires_grad=True. Gradients will be None\n",
            "FutureWarning: The `device` argument is deprecated and will be removed in v5 of Transformers.\n",
            "UserWarning: torch.utils.checkpoint: please pass in use_reentrant=True or use_reentrant=False explicitly. The default value of use_reentrant will be updated to be False in the future. To maintain current behavior, pass use_reentrant=True. It is recommended that you use use_reentrant=False. Refer to docs for more details on the differences between the two variants.\n",
            "UserWarning: None of the inputs have requires_grad=True. Gradients will be None\n",
            "FutureWarning: The `device` argument is deprecated and will be removed in v5 of Transformers.\n",
            "UserWarning: torch.utils.checkpoint: please pass in use_reentrant=True or use_reentrant=False explicitly. The default value of use_reentrant will be updated to be False in the future. To maintain current behavior, pass use_reentrant=True. It is recommended that you use use_reentrant=False. Refer to docs for more details on the differences between the two variants.\n",
            "UserWarning: None of the inputs have requires_grad=True. Gradients will be None\n",
            "FutureWarning: The `device` argument is deprecated and will be removed in v5 of Transformers.\n",
            "UserWarning: torch.utils.checkpoint: please pass in use_reentrant=True or use_reentrant=False explicitly. The default value of use_reentrant will be updated to be False in the future. To maintain current behavior, pass use_reentrant=True. It is recommended that you use use_reentrant=False. Refer to docs for more details on the differences between the two variants.\n",
            "UserWarning: None of the inputs have requires_grad=True. Gradients will be None\n",
            "FutureWarning: The `device` argument is deprecated and will be removed in v5 of Transformers.\n",
            "UserWarning: torch.utils.checkpoint: please pass in use_reentrant=True or use_reentrant=False explicitly. The default value of use_reentrant will be updated to be False in the future. To maintain current behavior, pass use_reentrant=True. It is recommended that you use use_reentrant=False. Refer to docs for more details on the differences between the two variants.\n",
            "UserWarning: None of the inputs have requires_grad=True. Gradients will be None\n",
            "FutureWarning: The `device` argument is deprecated and will be removed in v5 of Transformers.\n",
            "UserWarning: torch.utils.checkpoint: please pass in use_reentrant=True or use_reentrant=False explicitly. The default value of use_reentrant will be updated to be False in the future. To maintain current behavior, pass use_reentrant=True. It is recommended that you use use_reentrant=False. Refer to docs for more details on the differences between the two variants.\n",
            "UserWarning: None of the inputs have requires_grad=True. Gradients will be None\n",
            "FutureWarning: The `device` argument is deprecated and will be removed in v5 of Transformers.\n",
            "UserWarning: torch.utils.checkpoint: please pass in use_reentrant=True or use_reentrant=False explicitly. The default value of use_reentrant will be updated to be False in the future. To maintain current behavior, pass use_reentrant=True. It is recommended that you use use_reentrant=False. Refer to docs for more details on the differences between the two variants.\n",
            "UserWarning: None of the inputs have requires_grad=True. Gradients will be None\n",
            "FutureWarning: The `device` argument is deprecated and will be removed in v5 of Transformers.\n",
            "UserWarning: torch.utils.checkpoint: please pass in use_reentrant=True or use_reentrant=False explicitly. The default value of use_reentrant will be updated to be False in the future. To maintain current behavior, pass use_reentrant=True. It is recommended that you use use_reentrant=False. Refer to docs for more details on the differences between the two variants.\n",
            "UserWarning: None of the inputs have requires_grad=True. Gradients will be None\n",
            "FutureWarning: The `device` argument is deprecated and will be removed in v5 of Transformers.\n",
            "UserWarning: torch.utils.checkpoint: please pass in use_reentrant=True or use_reentrant=False explicitly. The default value of use_reentrant will be updated to be False in the future. To maintain current behavior, pass use_reentrant=True. It is recommended that you use use_reentrant=False. Refer to docs for more details on the differences between the two variants.\n",
            "UserWarning: None of the inputs have requires_grad=True. Gradients will be None\n",
            "FutureWarning: The `device` argument is deprecated and will be removed in v5 of Transformers.\n",
            "UserWarning: torch.utils.checkpoint: please pass in use_reentrant=True or use_reentrant=False explicitly. The default value of use_reentrant will be updated to be False in the future. To maintain current behavior, pass use_reentrant=True. It is recommended that you use use_reentrant=False. Refer to docs for more details on the differences between the two variants.\n",
            "UserWarning: None of the inputs have requires_grad=True. Gradients will be None\n",
            "FutureWarning: The `device` argument is deprecated and will be removed in v5 of Transformers.\n",
            "UserWarning: torch.utils.checkpoint: please pass in use_reentrant=True or use_reentrant=False explicitly. The default value of use_reentrant will be updated to be False in the future. To maintain current behavior, pass use_reentrant=True. It is recommended that you use use_reentrant=False. Refer to docs for more details on the differences between the two variants.\n",
            "UserWarning: None of the inputs have requires_grad=True. Gradients will be None\n",
            "FutureWarning: The `device` argument is deprecated and will be removed in v5 of Transformers.\n",
            "UserWarning: torch.utils.checkpoint: please pass in use_reentrant=True or use_reentrant=False explicitly. The default value of use_reentrant will be updated to be False in the future. To maintain current behavior, pass use_reentrant=True. It is recommended that you use use_reentrant=False. Refer to docs for more details on the differences between the two variants.\n",
            "UserWarning: None of the inputs have requires_grad=True. Gradients will be None\n",
            "FutureWarning: The `device` argument is deprecated and will be removed in v5 of Transformers.\n",
            "UserWarning: torch.utils.checkpoint: please pass in use_reentrant=True or use_reentrant=False explicitly. The default value of use_reentrant will be updated to be False in the future. To maintain current behavior, pass use_reentrant=True. It is recommended that you use use_reentrant=False. Refer to docs for more details on the differences between the two variants.\n",
            "UserWarning: None of the inputs have requires_grad=True. Gradients will be None\n",
            "FutureWarning: The `device` argument is deprecated and will be removed in v5 of Transformers.\n",
            "UserWarning: torch.utils.checkpoint: please pass in use_reentrant=True or use_reentrant=False explicitly. The default value of use_reentrant will be updated to be False in the future. To maintain current behavior, pass use_reentrant=True. It is recommended that you use use_reentrant=False. Refer to docs for more details on the differences between the two variants.\n",
            "UserWarning: None of the inputs have requires_grad=True. Gradients will be None\n",
            "FutureWarning: The `device` argument is deprecated and will be removed in v5 of Transformers.\n",
            "UserWarning: torch.utils.checkpoint: please pass in use_reentrant=True or use_reentrant=False explicitly. The default value of use_reentrant will be updated to be False in the future. To maintain current behavior, pass use_reentrant=True. It is recommended that you use use_reentrant=False. Refer to docs for more details on the differences between the two variants.\n",
            "UserWarning: None of the inputs have requires_grad=True. Gradients will be None\n",
            "FutureWarning: The `device` argument is deprecated and will be removed in v5 of Transformers.\n",
            "UserWarning: torch.utils.checkpoint: please pass in use_reentrant=True or use_reentrant=False explicitly. The default value of use_reentrant will be updated to be False in the future. To maintain current behavior, pass use_reentrant=True. It is recommended that you use use_reentrant=False. Refer to docs for more details on the differences between the two variants.\n",
            "UserWarning: None of the inputs have requires_grad=True. Gradients will be None\n",
            "FutureWarning: The `device` argument is deprecated and will be removed in v5 of Transformers.\n",
            "UserWarning: torch.utils.checkpoint: please pass in use_reentrant=True or use_reentrant=False explicitly. The default value of use_reentrant will be updated to be False in the future. To maintain current behavior, pass use_reentrant=True. It is recommended that you use use_reentrant=False. Refer to docs for more details on the differences between the two variants.\n",
            "UserWarning: None of the inputs have requires_grad=True. Gradients will be None\n",
            "FutureWarning: The `device` argument is deprecated and will be removed in v5 of Transformers.\n",
            "UserWarning: torch.utils.checkpoint: please pass in use_reentrant=True or use_reentrant=False explicitly. The default value of use_reentrant will be updated to be False in the future. To maintain current behavior, pass use_reentrant=True. It is recommended that you use use_reentrant=False. Refer to docs for more details on the differences between the two variants.\n",
            "UserWarning: None of the inputs have requires_grad=True. Gradients will be None\n",
            "FutureWarning: The `device` argument is deprecated and will be removed in v5 of Transformers.\n",
            "UserWarning: torch.utils.checkpoint: please pass in use_reentrant=True or use_reentrant=False explicitly. The default value of use_reentrant will be updated to be False in the future. To maintain current behavior, pass use_reentrant=True. It is recommended that you use use_reentrant=False. Refer to docs for more details on the differences between the two variants.\n",
            "UserWarning: None of the inputs have requires_grad=True. Gradients will be None\n",
            "FutureWarning: The `device` argument is deprecated and will be removed in v5 of Transformers.\n",
            "UserWarning: torch.utils.checkpoint: please pass in use_reentrant=True or use_reentrant=False explicitly. The default value of use_reentrant will be updated to be False in the future. To maintain current behavior, pass use_reentrant=True. It is recommended that you use use_reentrant=False. Refer to docs for more details on the differences between the two variants.\n",
            "UserWarning: None of the inputs have requires_grad=True. Gradients will be None\n",
            "FutureWarning: The `device` argument is deprecated and will be removed in v5 of Transformers.\n",
            "UserWarning: torch.utils.checkpoint: please pass in use_reentrant=True or use_reentrant=False explicitly. The default value of use_reentrant will be updated to be False in the future. To maintain current behavior, pass use_reentrant=True. It is recommended that you use use_reentrant=False. Refer to docs for more details on the differences between the two variants.\n",
            "UserWarning: None of the inputs have requires_grad=True. Gradients will be None\n",
            "FutureWarning: The `device` argument is deprecated and will be removed in v5 of Transformers.\n",
            "UserWarning: torch.utils.checkpoint: please pass in use_reentrant=True or use_reentrant=False explicitly. The default value of use_reentrant will be updated to be False in the future. To maintain current behavior, pass use_reentrant=True. It is recommended that you use use_reentrant=False. Refer to docs for more details on the differences between the two variants.\n",
            "UserWarning: None of the inputs have requires_grad=True. Gradients will be None\n",
            "FutureWarning: The `device` argument is deprecated and will be removed in v5 of Transformers.\n",
            "UserWarning: torch.utils.checkpoint: please pass in use_reentrant=True or use_reentrant=False explicitly. The default value of use_reentrant will be updated to be False in the future. To maintain current behavior, pass use_reentrant=True. It is recommended that you use use_reentrant=False. Refer to docs for more details on the differences between the two variants.\n",
            "UserWarning: None of the inputs have requires_grad=True. Gradients will be None\n",
            "FutureWarning: The `device` argument is deprecated and will be removed in v5 of Transformers.\n",
            "UserWarning: torch.utils.checkpoint: please pass in use_reentrant=True or use_reentrant=False explicitly. The default value of use_reentrant will be updated to be False in the future. To maintain current behavior, pass use_reentrant=True. It is recommended that you use use_reentrant=False. Refer to docs for more details on the differences between the two variants.\n",
            "UserWarning: None of the inputs have requires_grad=True. Gradients will be None\n",
            "FutureWarning: The `device` argument is deprecated and will be removed in v5 of Transformers.\n",
            "UserWarning: torch.utils.checkpoint: please pass in use_reentrant=True or use_reentrant=False explicitly. The default value of use_reentrant will be updated to be False in the future. To maintain current behavior, pass use_reentrant=True. It is recommended that you use use_reentrant=False. Refer to docs for more details on the differences between the two variants.\n",
            "UserWarning: None of the inputs have requires_grad=True. Gradients will be None\n",
            "FutureWarning: The `device` argument is deprecated and will be removed in v5 of Transformers.\n",
            "UserWarning: torch.utils.checkpoint: please pass in use_reentrant=True or use_reentrant=False explicitly. The default value of use_reentrant will be updated to be False in the future. To maintain current behavior, pass use_reentrant=True. It is recommended that you use use_reentrant=False. Refer to docs for more details on the differences between the two variants.\n",
            "UserWarning: None of the inputs have requires_grad=True. Gradients will be None\n",
            "FutureWarning: The `device` argument is deprecated and will be removed in v5 of Transformers.\n",
            "UserWarning: torch.utils.checkpoint: please pass in use_reentrant=True or use_reentrant=False explicitly. The default value of use_reentrant will be updated to be False in the future. To maintain current behavior, pass use_reentrant=True. It is recommended that you use use_reentrant=False. Refer to docs for more details on the differences between the two variants.\n",
            "UserWarning: None of the inputs have requires_grad=True. Gradients will be None\n",
            "FutureWarning: The `device` argument is deprecated and will be removed in v5 of Transformers.\n",
            "UserWarning: torch.utils.checkpoint: please pass in use_reentrant=True or use_reentrant=False explicitly. The default value of use_reentrant will be updated to be False in the future. To maintain current behavior, pass use_reentrant=True. It is recommended that you use use_reentrant=False. Refer to docs for more details on the differences between the two variants.\n",
            "UserWarning: None of the inputs have requires_grad=True. Gradients will be None\n",
            "FutureWarning: The `device` argument is deprecated and will be removed in v5 of Transformers.\n",
            "UserWarning: torch.utils.checkpoint: please pass in use_reentrant=True or use_reentrant=False explicitly. The default value of use_reentrant will be updated to be False in the future. To maintain current behavior, pass use_reentrant=True. It is recommended that you use use_reentrant=False. Refer to docs for more details on the differences between the two variants.\n",
            "UserWarning: None of the inputs have requires_grad=True. Gradients will be None\n",
            "FutureWarning: The `device` argument is deprecated and will be removed in v5 of Transformers.\n",
            "UserWarning: torch.utils.checkpoint: please pass in use_reentrant=True or use_reentrant=False explicitly. The default value of use_reentrant will be updated to be False in the future. To maintain current behavior, pass use_reentrant=True. It is recommended that you use use_reentrant=False. Refer to docs for more details on the differences between the two variants.\n",
            "UserWarning: None of the inputs have requires_grad=True. Gradients will be None\n",
            "FutureWarning: The `device` argument is deprecated and will be removed in v5 of Transformers.\n",
            "UserWarning: torch.utils.checkpoint: please pass in use_reentrant=True or use_reentrant=False explicitly. The default value of use_reentrant will be updated to be False in the future. To maintain current behavior, pass use_reentrant=True. It is recommended that you use use_reentrant=False. Refer to docs for more details on the differences between the two variants.\n",
            "UserWarning: None of the inputs have requires_grad=True. Gradients will be None\n",
            "FutureWarning: The `device` argument is deprecated and will be removed in v5 of Transformers.\n",
            "UserWarning: torch.utils.checkpoint: please pass in use_reentrant=True or use_reentrant=False explicitly. The default value of use_reentrant will be updated to be False in the future. To maintain current behavior, pass use_reentrant=True. It is recommended that you use use_reentrant=False. Refer to docs for more details on the differences between the two variants.\n",
            "UserWarning: None of the inputs have requires_grad=True. Gradients will be None\n",
            "FutureWarning: The `device` argument is deprecated and will be removed in v5 of Transformers.\n",
            "UserWarning: torch.utils.checkpoint: please pass in use_reentrant=True or use_reentrant=False explicitly. The default value of use_reentrant will be updated to be False in the future. To maintain current behavior, pass use_reentrant=True. It is recommended that you use use_reentrant=False. Refer to docs for more details on the differences between the two variants.\n",
            "UserWarning: None of the inputs have requires_grad=True. Gradients will be None\n",
            "FutureWarning: The `device` argument is deprecated and will be removed in v5 of Transformers.\n",
            "UserWarning: torch.utils.checkpoint: please pass in use_reentrant=True or use_reentrant=False explicitly. The default value of use_reentrant will be updated to be False in the future. To maintain current behavior, pass use_reentrant=True. It is recommended that you use use_reentrant=False. Refer to docs for more details on the differences between the two variants.\n",
            "UserWarning: None of the inputs have requires_grad=True. Gradients will be None\n",
            "FutureWarning: The `device` argument is deprecated and will be removed in v5 of Transformers.\n",
            "UserWarning: torch.utils.checkpoint: please pass in use_reentrant=True or use_reentrant=False explicitly. The default value of use_reentrant will be updated to be False in the future. To maintain current behavior, pass use_reentrant=True. It is recommended that you use use_reentrant=False. Refer to docs for more details on the differences between the two variants.\n",
            "UserWarning: None of the inputs have requires_grad=True. Gradients will be None\n",
            "FutureWarning: The `device` argument is deprecated and will be removed in v5 of Transformers.\n",
            "UserWarning: torch.utils.checkpoint: please pass in use_reentrant=True or use_reentrant=False explicitly. The default value of use_reentrant will be updated to be False in the future. To maintain current behavior, pass use_reentrant=True. It is recommended that you use use_reentrant=False. Refer to docs for more details on the differences between the two variants.\n",
            "UserWarning: None of the inputs have requires_grad=True. Gradients will be None\n",
            "FutureWarning: The `device` argument is deprecated and will be removed in v5 of Transformers.\n",
            "UserWarning: torch.utils.checkpoint: please pass in use_reentrant=True or use_reentrant=False explicitly. The default value of use_reentrant will be updated to be False in the future. To maintain current behavior, pass use_reentrant=True. It is recommended that you use use_reentrant=False. Refer to docs for more details on the differences between the two variants.\n",
            "UserWarning: None of the inputs have requires_grad=True. Gradients will be None\n",
            "FutureWarning: The `device` argument is deprecated and will be removed in v5 of Transformers.\n",
            "UserWarning: torch.utils.checkpoint: please pass in use_reentrant=True or use_reentrant=False explicitly. The default value of use_reentrant will be updated to be False in the future. To maintain current behavior, pass use_reentrant=True. It is recommended that you use use_reentrant=False. Refer to docs for more details on the differences between the two variants.\n",
            "UserWarning: None of the inputs have requires_grad=True. Gradients will be None\n",
            "FutureWarning: The `device` argument is deprecated and will be removed in v5 of Transformers.\n",
            "UserWarning: torch.utils.checkpoint: please pass in use_reentrant=True or use_reentrant=False explicitly. The default value of use_reentrant will be updated to be False in the future. To maintain current behavior, pass use_reentrant=True. It is recommended that you use use_reentrant=False. Refer to docs for more details on the differences between the two variants.\n",
            "UserWarning: None of the inputs have requires_grad=True. Gradients will be None\n",
            "FutureWarning: The `device` argument is deprecated and will be removed in v5 of Transformers.\n",
            "UserWarning: torch.utils.checkpoint: please pass in use_reentrant=True or use_reentrant=False explicitly. The default value of use_reentrant will be updated to be False in the future. To maintain current behavior, pass use_reentrant=True. It is recommended that you use use_reentrant=False. Refer to docs for more details on the differences between the two variants.\n",
            "UserWarning: None of the inputs have requires_grad=True. Gradients will be None\n",
            "FutureWarning: The `device` argument is deprecated and will be removed in v5 of Transformers.\n",
            "UserWarning: torch.utils.checkpoint: please pass in use_reentrant=True or use_reentrant=False explicitly. The default value of use_reentrant will be updated to be False in the future. To maintain current behavior, pass use_reentrant=True. It is recommended that you use use_reentrant=False. Refer to docs for more details on the differences between the two variants.\n",
            "UserWarning: None of the inputs have requires_grad=True. Gradients will be None\n",
            "FutureWarning: The `device` argument is deprecated and will be removed in v5 of Transformers.\n",
            "UserWarning: torch.utils.checkpoint: please pass in use_reentrant=True or use_reentrant=False explicitly. The default value of use_reentrant will be updated to be False in the future. To maintain current behavior, pass use_reentrant=True. It is recommended that you use use_reentrant=False. Refer to docs for more details on the differences between the two variants.\n",
            "UserWarning: None of the inputs have requires_grad=True. Gradients will be None\n",
            "FutureWarning: The `device` argument is deprecated and will be removed in v5 of Transformers.\n",
            "UserWarning: torch.utils.checkpoint: please pass in use_reentrant=True or use_reentrant=False explicitly. The default value of use_reentrant will be updated to be False in the future. To maintain current behavior, pass use_reentrant=True. It is recommended that you use use_reentrant=False. Refer to docs for more details on the differences between the two variants.\n",
            "UserWarning: None of the inputs have requires_grad=True. Gradients will be None\n",
            "FutureWarning: The `device` argument is deprecated and will be removed in v5 of Transformers.\n",
            "UserWarning: torch.utils.checkpoint: please pass in use_reentrant=True or use_reentrant=False explicitly. The default value of use_reentrant will be updated to be False in the future. To maintain current behavior, pass use_reentrant=True. It is recommended that you use use_reentrant=False. Refer to docs for more details on the differences between the two variants.\n",
            "UserWarning: None of the inputs have requires_grad=True. Gradients will be None\n",
            "FutureWarning: The `device` argument is deprecated and will be removed in v5 of Transformers.\n",
            "UserWarning: torch.utils.checkpoint: please pass in use_reentrant=True or use_reentrant=False explicitly. The default value of use_reentrant will be updated to be False in the future. To maintain current behavior, pass use_reentrant=True. It is recommended that you use use_reentrant=False. Refer to docs for more details on the differences between the two variants.\n",
            "UserWarning: None of the inputs have requires_grad=True. Gradients will be None\n",
            "FutureWarning: The `device` argument is deprecated and will be removed in v5 of Transformers.\n",
            "UserWarning: torch.utils.checkpoint: please pass in use_reentrant=True or use_reentrant=False explicitly. The default value of use_reentrant will be updated to be False in the future. To maintain current behavior, pass use_reentrant=True. It is recommended that you use use_reentrant=False. Refer to docs for more details on the differences between the two variants.\n",
            "UserWarning: None of the inputs have requires_grad=True. Gradients will be None\n",
            "FutureWarning: The `device` argument is deprecated and will be removed in v5 of Transformers.\n",
            "UserWarning: torch.utils.checkpoint: please pass in use_reentrant=True or use_reentrant=False explicitly. The default value of use_reentrant will be updated to be False in the future. To maintain current behavior, pass use_reentrant=True. It is recommended that you use use_reentrant=False. Refer to docs for more details on the differences between the two variants.\n",
            "UserWarning: None of the inputs have requires_grad=True. Gradients will be None\n",
            "FutureWarning: The `device` argument is deprecated and will be removed in v5 of Transformers.\n",
            "UserWarning: torch.utils.checkpoint: please pass in use_reentrant=True or use_reentrant=False explicitly. The default value of use_reentrant will be updated to be False in the future. To maintain current behavior, pass use_reentrant=True. It is recommended that you use use_reentrant=False. Refer to docs for more details on the differences between the two variants.\n",
            "UserWarning: None of the inputs have requires_grad=True. Gradients will be None\n",
            "FutureWarning: The `device` argument is deprecated and will be removed in v5 of Transformers.\n",
            "UserWarning: torch.utils.checkpoint: please pass in use_reentrant=True or use_reentrant=False explicitly. The default value of use_reentrant will be updated to be False in the future. To maintain current behavior, pass use_reentrant=True. It is recommended that you use use_reentrant=False. Refer to docs for more details on the differences between the two variants.\n",
            "UserWarning: None of the inputs have requires_grad=True. Gradients will be None\n",
            "FutureWarning: The `device` argument is deprecated and will be removed in v5 of Transformers.\n",
            "UserWarning: torch.utils.checkpoint: please pass in use_reentrant=True or use_reentrant=False explicitly. The default value of use_reentrant will be updated to be False in the future. To maintain current behavior, pass use_reentrant=True. It is recommended that you use use_reentrant=False. Refer to docs for more details on the differences between the two variants.\n",
            "UserWarning: None of the inputs have requires_grad=True. Gradients will be None\n",
            "FutureWarning: The `device` argument is deprecated and will be removed in v5 of Transformers.\n",
            "UserWarning: torch.utils.checkpoint: please pass in use_reentrant=True or use_reentrant=False explicitly. The default value of use_reentrant will be updated to be False in the future. To maintain current behavior, pass use_reentrant=True. It is recommended that you use use_reentrant=False. Refer to docs for more details on the differences between the two variants.\n",
            "UserWarning: None of the inputs have requires_grad=True. Gradients will be None\n",
            "FutureWarning: The `device` argument is deprecated and will be removed in v5 of Transformers.\n",
            "UserWarning: torch.utils.checkpoint: please pass in use_reentrant=True or use_reentrant=False explicitly. The default value of use_reentrant will be updated to be False in the future. To maintain current behavior, pass use_reentrant=True. It is recommended that you use use_reentrant=False. Refer to docs for more details on the differences between the two variants.\n",
            "UserWarning: None of the inputs have requires_grad=True. Gradients will be None\n",
            "FutureWarning: The `device` argument is deprecated and will be removed in v5 of Transformers.\n",
            "UserWarning: torch.utils.checkpoint: please pass in use_reentrant=True or use_reentrant=False explicitly. The default value of use_reentrant will be updated to be False in the future. To maintain current behavior, pass use_reentrant=True. It is recommended that you use use_reentrant=False. Refer to docs for more details on the differences between the two variants.\n",
            "UserWarning: None of the inputs have requires_grad=True. Gradients will be None\n",
            "FutureWarning: The `device` argument is deprecated and will be removed in v5 of Transformers.\n",
            "UserWarning: torch.utils.checkpoint: please pass in use_reentrant=True or use_reentrant=False explicitly. The default value of use_reentrant will be updated to be False in the future. To maintain current behavior, pass use_reentrant=True. It is recommended that you use use_reentrant=False. Refer to docs for more details on the differences between the two variants.\n",
            "UserWarning: None of the inputs have requires_grad=True. Gradients will be None\n",
            "FutureWarning: The `device` argument is deprecated and will be removed in v5 of Transformers.\n",
            "UserWarning: torch.utils.checkpoint: please pass in use_reentrant=True or use_reentrant=False explicitly. The default value of use_reentrant will be updated to be False in the future. To maintain current behavior, pass use_reentrant=True. It is recommended that you use use_reentrant=False. Refer to docs for more details on the differences between the two variants.\n",
            "UserWarning: None of the inputs have requires_grad=True. Gradients will be None\n",
            "FutureWarning: The `device` argument is deprecated and will be removed in v5 of Transformers.\n",
            "UserWarning: torch.utils.checkpoint: please pass in use_reentrant=True or use_reentrant=False explicitly. The default value of use_reentrant will be updated to be False in the future. To maintain current behavior, pass use_reentrant=True. It is recommended that you use use_reentrant=False. Refer to docs for more details on the differences between the two variants.\n",
            "UserWarning: None of the inputs have requires_grad=True. Gradients will be None\n",
            "FutureWarning: The `device` argument is deprecated and will be removed in v5 of Transformers.\n",
            "UserWarning: torch.utils.checkpoint: please pass in use_reentrant=True or use_reentrant=False explicitly. The default value of use_reentrant will be updated to be False in the future. To maintain current behavior, pass use_reentrant=True. It is recommended that you use use_reentrant=False. Refer to docs for more details on the differences between the two variants.\n",
            "UserWarning: None of the inputs have requires_grad=True. Gradients will be None\n",
            "FutureWarning: The `device` argument is deprecated and will be removed in v5 of Transformers.\n",
            "UserWarning: torch.utils.checkpoint: please pass in use_reentrant=True or use_reentrant=False explicitly. The default value of use_reentrant will be updated to be False in the future. To maintain current behavior, pass use_reentrant=True. It is recommended that you use use_reentrant=False. Refer to docs for more details on the differences between the two variants.\n",
            "UserWarning: None of the inputs have requires_grad=True. Gradients will be None\n",
            "FutureWarning: The `device` argument is deprecated and will be removed in v5 of Transformers.\n",
            "UserWarning: torch.utils.checkpoint: please pass in use_reentrant=True or use_reentrant=False explicitly. The default value of use_reentrant will be updated to be False in the future. To maintain current behavior, pass use_reentrant=True. It is recommended that you use use_reentrant=False. Refer to docs for more details on the differences between the two variants.\n",
            "UserWarning: None of the inputs have requires_grad=True. Gradients will be None\n",
            "FutureWarning: The `device` argument is deprecated and will be removed in v5 of Transformers.\n",
            "UserWarning: torch.utils.checkpoint: please pass in use_reentrant=True or use_reentrant=False explicitly. The default value of use_reentrant will be updated to be False in the future. To maintain current behavior, pass use_reentrant=True. It is recommended that you use use_reentrant=False. Refer to docs for more details on the differences between the two variants.\n",
            "UserWarning: None of the inputs have requires_grad=True. Gradients will be None\n",
            "FutureWarning: The `device` argument is deprecated and will be removed in v5 of Transformers.\n",
            "UserWarning: torch.utils.checkpoint: please pass in use_reentrant=True or use_reentrant=False explicitly. The default value of use_reentrant will be updated to be False in the future. To maintain current behavior, pass use_reentrant=True. It is recommended that you use use_reentrant=False. Refer to docs for more details on the differences between the two variants.\n",
            "UserWarning: None of the inputs have requires_grad=True. Gradients will be None\n",
            "FutureWarning: The `device` argument is deprecated and will be removed in v5 of Transformers.\n",
            "UserWarning: torch.utils.checkpoint: please pass in use_reentrant=True or use_reentrant=False explicitly. The default value of use_reentrant will be updated to be False in the future. To maintain current behavior, pass use_reentrant=True. It is recommended that you use use_reentrant=False. Refer to docs for more details on the differences between the two variants.\n",
            "UserWarning: None of the inputs have requires_grad=True. Gradients will be None\n",
            "FutureWarning: The `device` argument is deprecated and will be removed in v5 of Transformers.\n",
            "UserWarning: torch.utils.checkpoint: please pass in use_reentrant=True or use_reentrant=False explicitly. The default value of use_reentrant will be updated to be False in the future. To maintain current behavior, pass use_reentrant=True. It is recommended that you use use_reentrant=False. Refer to docs for more details on the differences between the two variants.\n",
            "UserWarning: None of the inputs have requires_grad=True. Gradients will be None\n",
            "FutureWarning: The `device` argument is deprecated and will be removed in v5 of Transformers.\n",
            "UserWarning: torch.utils.checkpoint: please pass in use_reentrant=True or use_reentrant=False explicitly. The default value of use_reentrant will be updated to be False in the future. To maintain current behavior, pass use_reentrant=True. It is recommended that you use use_reentrant=False. Refer to docs for more details on the differences between the two variants.\n",
            "UserWarning: None of the inputs have requires_grad=True. Gradients will be None\n",
            "FutureWarning: The `device` argument is deprecated and will be removed in v5 of Transformers.\n",
            "UserWarning: torch.utils.checkpoint: please pass in use_reentrant=True or use_reentrant=False explicitly. The default value of use_reentrant will be updated to be False in the future. To maintain current behavior, pass use_reentrant=True. It is recommended that you use use_reentrant=False. Refer to docs for more details on the differences between the two variants.\n",
            "UserWarning: None of the inputs have requires_grad=True. Gradients will be None\n",
            "FutureWarning: The `device` argument is deprecated and will be removed in v5 of Transformers.\n",
            "UserWarning: torch.utils.checkpoint: please pass in use_reentrant=True or use_reentrant=False explicitly. The default value of use_reentrant will be updated to be False in the future. To maintain current behavior, pass use_reentrant=True. It is recommended that you use use_reentrant=False. Refer to docs for more details on the differences between the two variants.\n",
            "UserWarning: None of the inputs have requires_grad=True. Gradients will be None\n",
            "FutureWarning: The `device` argument is deprecated and will be removed in v5 of Transformers.\n",
            "UserWarning: torch.utils.checkpoint: please pass in use_reentrant=True or use_reentrant=False explicitly. The default value of use_reentrant will be updated to be False in the future. To maintain current behavior, pass use_reentrant=True. It is recommended that you use use_reentrant=False. Refer to docs for more details on the differences between the two variants.\n",
            "UserWarning: None of the inputs have requires_grad=True. Gradients will be None\n",
            "FutureWarning: The `device` argument is deprecated and will be removed in v5 of Transformers.\n",
            "UserWarning: torch.utils.checkpoint: please pass in use_reentrant=True or use_reentrant=False explicitly. The default value of use_reentrant will be updated to be False in the future. To maintain current behavior, pass use_reentrant=True. It is recommended that you use use_reentrant=False. Refer to docs for more details on the differences between the two variants.\n",
            "UserWarning: None of the inputs have requires_grad=True. Gradients will be None\n",
            "FutureWarning: The `device` argument is deprecated and will be removed in v5 of Transformers.\n",
            "UserWarning: torch.utils.checkpoint: please pass in use_reentrant=True or use_reentrant=False explicitly. The default value of use_reentrant will be updated to be False in the future. To maintain current behavior, pass use_reentrant=True. It is recommended that you use use_reentrant=False. Refer to docs for more details on the differences between the two variants.\n",
            "UserWarning: None of the inputs have requires_grad=True. Gradients will be None\n",
            "FutureWarning: The `device` argument is deprecated and will be removed in v5 of Transformers.\n",
            "UserWarning: torch.utils.checkpoint: please pass in use_reentrant=True or use_reentrant=False explicitly. The default value of use_reentrant will be updated to be False in the future. To maintain current behavior, pass use_reentrant=True. It is recommended that you use use_reentrant=False. Refer to docs for more details on the differences between the two variants.\n",
            "UserWarning: None of the inputs have requires_grad=True. Gradients will be None\n",
            "FutureWarning: The `device` argument is deprecated and will be removed in v5 of Transformers.\n",
            "UserWarning: torch.utils.checkpoint: please pass in use_reentrant=True or use_reentrant=False explicitly. The default value of use_reentrant will be updated to be False in the future. To maintain current behavior, pass use_reentrant=True. It is recommended that you use use_reentrant=False. Refer to docs for more details on the differences between the two variants.\n",
            "UserWarning: None of the inputs have requires_grad=True. Gradients will be None\n",
            "FutureWarning: The `device` argument is deprecated and will be removed in v5 of Transformers.\n",
            "UserWarning: torch.utils.checkpoint: please pass in use_reentrant=True or use_reentrant=False explicitly. The default value of use_reentrant will be updated to be False in the future. To maintain current behavior, pass use_reentrant=True. It is recommended that you use use_reentrant=False. Refer to docs for more details on the differences between the two variants.\n",
            "UserWarning: None of the inputs have requires_grad=True. Gradients will be None\n",
            "FutureWarning: The `device` argument is deprecated and will be removed in v5 of Transformers.\n",
            "UserWarning: torch.utils.checkpoint: please pass in use_reentrant=True or use_reentrant=False explicitly. The default value of use_reentrant will be updated to be False in the future. To maintain current behavior, pass use_reentrant=True. It is recommended that you use use_reentrant=False. Refer to docs for more details on the differences between the two variants.\n",
            "UserWarning: None of the inputs have requires_grad=True. Gradients will be None\n",
            "FutureWarning: The `device` argument is deprecated and will be removed in v5 of Transformers.\n",
            "UserWarning: torch.utils.checkpoint: please pass in use_reentrant=True or use_reentrant=False explicitly. The default value of use_reentrant will be updated to be False in the future. To maintain current behavior, pass use_reentrant=True. It is recommended that you use use_reentrant=False. Refer to docs for more details on the differences between the two variants.\n",
            "UserWarning: None of the inputs have requires_grad=True. Gradients will be None\n",
            "FutureWarning: The `device` argument is deprecated and will be removed in v5 of Transformers.\n",
            "UserWarning: torch.utils.checkpoint: please pass in use_reentrant=True or use_reentrant=False explicitly. The default value of use_reentrant will be updated to be False in the future. To maintain current behavior, pass use_reentrant=True. It is recommended that you use use_reentrant=False. Refer to docs for more details on the differences between the two variants.\n",
            "UserWarning: None of the inputs have requires_grad=True. Gradients will be None\n",
            "FutureWarning: The `device` argument is deprecated and will be removed in v5 of Transformers.\n",
            "UserWarning: torch.utils.checkpoint: please pass in use_reentrant=True or use_reentrant=False explicitly. The default value of use_reentrant will be updated to be False in the future. To maintain current behavior, pass use_reentrant=True. It is recommended that you use use_reentrant=False. Refer to docs for more details on the differences between the two variants.\n",
            "UserWarning: None of the inputs have requires_grad=True. Gradients will be None\n",
            "FutureWarning: The `device` argument is deprecated and will be removed in v5 of Transformers.\n",
            "UserWarning: torch.utils.checkpoint: please pass in use_reentrant=True or use_reentrant=False explicitly. The default value of use_reentrant will be updated to be False in the future. To maintain current behavior, pass use_reentrant=True. It is recommended that you use use_reentrant=False. Refer to docs for more details on the differences between the two variants.\n",
            "UserWarning: None of the inputs have requires_grad=True. Gradients will be None\n",
            "FutureWarning: The `device` argument is deprecated and will be removed in v5 of Transformers.\n",
            "UserWarning: torch.utils.checkpoint: please pass in use_reentrant=True or use_reentrant=False explicitly. The default value of use_reentrant will be updated to be False in the future. To maintain current behavior, pass use_reentrant=True. It is recommended that you use use_reentrant=False. Refer to docs for more details on the differences between the two variants.\n",
            "UserWarning: None of the inputs have requires_grad=True. Gradients will be None\n",
            "FutureWarning: The `device` argument is deprecated and will be removed in v5 of Transformers.\n",
            "UserWarning: torch.utils.checkpoint: please pass in use_reentrant=True or use_reentrant=False explicitly. The default value of use_reentrant will be updated to be False in the future. To maintain current behavior, pass use_reentrant=True. It is recommended that you use use_reentrant=False. Refer to docs for more details on the differences between the two variants.\n",
            "UserWarning: None of the inputs have requires_grad=True. Gradients will be None\n",
            "FutureWarning: The `device` argument is deprecated and will be removed in v5 of Transformers.\n",
            "UserWarning: torch.utils.checkpoint: please pass in use_reentrant=True or use_reentrant=False explicitly. The default value of use_reentrant will be updated to be False in the future. To maintain current behavior, pass use_reentrant=True. It is recommended that you use use_reentrant=False. Refer to docs for more details on the differences between the two variants.\n",
            "UserWarning: None of the inputs have requires_grad=True. Gradients will be None\n",
            "FutureWarning: The `device` argument is deprecated and will be removed in v5 of Transformers.\n",
            "UserWarning: torch.utils.checkpoint: please pass in use_reentrant=True or use_reentrant=False explicitly. The default value of use_reentrant will be updated to be False in the future. To maintain current behavior, pass use_reentrant=True. It is recommended that you use use_reentrant=False. Refer to docs for more details on the differences between the two variants.\n",
            "UserWarning: None of the inputs have requires_grad=True. Gradients will be None\n",
            "FutureWarning: The `device` argument is deprecated and will be removed in v5 of Transformers.\n",
            "UserWarning: torch.utils.checkpoint: please pass in use_reentrant=True or use_reentrant=False explicitly. The default value of use_reentrant will be updated to be False in the future. To maintain current behavior, pass use_reentrant=True. It is recommended that you use use_reentrant=False. Refer to docs for more details on the differences between the two variants.\n",
            "UserWarning: None of the inputs have requires_grad=True. Gradients will be None\n",
            "FutureWarning: The `device` argument is deprecated and will be removed in v5 of Transformers.\n",
            "UserWarning: torch.utils.checkpoint: please pass in use_reentrant=True or use_reentrant=False explicitly. The default value of use_reentrant will be updated to be False in the future. To maintain current behavior, pass use_reentrant=True. It is recommended that you use use_reentrant=False. Refer to docs for more details on the differences between the two variants.\n",
            "UserWarning: None of the inputs have requires_grad=True. Gradients will be None\n",
            "FutureWarning: The `device` argument is deprecated and will be removed in v5 of Transformers.\n",
            "UserWarning: torch.utils.checkpoint: please pass in use_reentrant=True or use_reentrant=False explicitly. The default value of use_reentrant will be updated to be False in the future. To maintain current behavior, pass use_reentrant=True. It is recommended that you use use_reentrant=False. Refer to docs for more details on the differences between the two variants.\n",
            "UserWarning: None of the inputs have requires_grad=True. Gradients will be None\n",
            "FutureWarning: The `device` argument is deprecated and will be removed in v5 of Transformers.\n",
            "UserWarning: torch.utils.checkpoint: please pass in use_reentrant=True or use_reentrant=False explicitly. The default value of use_reentrant will be updated to be False in the future. To maintain current behavior, pass use_reentrant=True. It is recommended that you use use_reentrant=False. Refer to docs for more details on the differences between the two variants.\n",
            "UserWarning: None of the inputs have requires_grad=True. Gradients will be None\n",
            "FutureWarning: The `device` argument is deprecated and will be removed in v5 of Transformers.\n",
            "UserWarning: torch.utils.checkpoint: please pass in use_reentrant=True or use_reentrant=False explicitly. The default value of use_reentrant will be updated to be False in the future. To maintain current behavior, pass use_reentrant=True. It is recommended that you use use_reentrant=False. Refer to docs for more details on the differences between the two variants.\n",
            "UserWarning: None of the inputs have requires_grad=True. Gradients will be None\n",
            "FutureWarning: The `device` argument is deprecated and will be removed in v5 of Transformers.\n",
            "UserWarning: torch.utils.checkpoint: please pass in use_reentrant=True or use_reentrant=False explicitly. The default value of use_reentrant will be updated to be False in the future. To maintain current behavior, pass use_reentrant=True. It is recommended that you use use_reentrant=False. Refer to docs for more details on the differences between the two variants.\n",
            "UserWarning: None of the inputs have requires_grad=True. Gradients will be None\n",
            "FutureWarning: The `device` argument is deprecated and will be removed in v5 of Transformers.\n",
            "UserWarning: torch.utils.checkpoint: please pass in use_reentrant=True or use_reentrant=False explicitly. The default value of use_reentrant will be updated to be False in the future. To maintain current behavior, pass use_reentrant=True. It is recommended that you use use_reentrant=False. Refer to docs for more details on the differences between the two variants.\n",
            "UserWarning: None of the inputs have requires_grad=True. Gradients will be None\n",
            "FutureWarning: The `device` argument is deprecated and will be removed in v5 of Transformers.\n",
            "UserWarning: torch.utils.checkpoint: please pass in use_reentrant=True or use_reentrant=False explicitly. The default value of use_reentrant will be updated to be False in the future. To maintain current behavior, pass use_reentrant=True. It is recommended that you use use_reentrant=False. Refer to docs for more details on the differences between the two variants.\n",
            "UserWarning: None of the inputs have requires_grad=True. Gradients will be None\n",
            "FutureWarning: The `device` argument is deprecated and will be removed in v5 of Transformers.\n",
            "UserWarning: torch.utils.checkpoint: please pass in use_reentrant=True or use_reentrant=False explicitly. The default value of use_reentrant will be updated to be False in the future. To maintain current behavior, pass use_reentrant=True. It is recommended that you use use_reentrant=False. Refer to docs for more details on the differences between the two variants.\n",
            "UserWarning: None of the inputs have requires_grad=True. Gradients will be None\n",
            "FutureWarning: The `device` argument is deprecated and will be removed in v5 of Transformers.\n",
            "UserWarning: torch.utils.checkpoint: please pass in use_reentrant=True or use_reentrant=False explicitly. The default value of use_reentrant will be updated to be False in the future. To maintain current behavior, pass use_reentrant=True. It is recommended that you use use_reentrant=False. Refer to docs for more details on the differences between the two variants.\n",
            "UserWarning: None of the inputs have requires_grad=True. Gradients will be None\n",
            "FutureWarning: The `device` argument is deprecated and will be removed in v5 of Transformers.\n",
            "UserWarning: torch.utils.checkpoint: please pass in use_reentrant=True or use_reentrant=False explicitly. The default value of use_reentrant will be updated to be False in the future. To maintain current behavior, pass use_reentrant=True. It is recommended that you use use_reentrant=False. Refer to docs for more details on the differences between the two variants.\n",
            "UserWarning: None of the inputs have requires_grad=True. Gradients will be None\n",
            "FutureWarning: The `device` argument is deprecated and will be removed in v5 of Transformers.\n",
            "UserWarning: torch.utils.checkpoint: please pass in use_reentrant=True or use_reentrant=False explicitly. The default value of use_reentrant will be updated to be False in the future. To maintain current behavior, pass use_reentrant=True. It is recommended that you use use_reentrant=False. Refer to docs for more details on the differences between the two variants.\n",
            "UserWarning: None of the inputs have requires_grad=True. Gradients will be None\n",
            "FutureWarning: The `device` argument is deprecated and will be removed in v5 of Transformers.\n",
            "UserWarning: torch.utils.checkpoint: please pass in use_reentrant=True or use_reentrant=False explicitly. The default value of use_reentrant will be updated to be False in the future. To maintain current behavior, pass use_reentrant=True. It is recommended that you use use_reentrant=False. Refer to docs for more details on the differences between the two variants.\n",
            "UserWarning: None of the inputs have requires_grad=True. Gradients will be None\n",
            "FutureWarning: The `device` argument is deprecated and will be removed in v5 of Transformers.\n",
            "UserWarning: torch.utils.checkpoint: please pass in use_reentrant=True or use_reentrant=False explicitly. The default value of use_reentrant will be updated to be False in the future. To maintain current behavior, pass use_reentrant=True. It is recommended that you use use_reentrant=False. Refer to docs for more details on the differences between the two variants.\n",
            "UserWarning: None of the inputs have requires_grad=True. Gradients will be None\n",
            "FutureWarning: The `device` argument is deprecated and will be removed in v5 of Transformers.\n",
            "UserWarning: torch.utils.checkpoint: please pass in use_reentrant=True or use_reentrant=False explicitly. The default value of use_reentrant will be updated to be False in the future. To maintain current behavior, pass use_reentrant=True. It is recommended that you use use_reentrant=False. Refer to docs for more details on the differences between the two variants.\n",
            "UserWarning: None of the inputs have requires_grad=True. Gradients will be None\n",
            "FutureWarning: The `device` argument is deprecated and will be removed in v5 of Transformers.\n",
            "UserWarning: torch.utils.checkpoint: please pass in use_reentrant=True or use_reentrant=False explicitly. The default value of use_reentrant will be updated to be False in the future. To maintain current behavior, pass use_reentrant=True. It is recommended that you use use_reentrant=False. Refer to docs for more details on the differences between the two variants.\n",
            "UserWarning: None of the inputs have requires_grad=True. Gradients will be None\n",
            "FutureWarning: The `device` argument is deprecated and will be removed in v5 of Transformers.\n",
            "UserWarning: torch.utils.checkpoint: please pass in use_reentrant=True or use_reentrant=False explicitly. The default value of use_reentrant will be updated to be False in the future. To maintain current behavior, pass use_reentrant=True. It is recommended that you use use_reentrant=False. Refer to docs for more details on the differences between the two variants.\n",
            "UserWarning: None of the inputs have requires_grad=True. Gradients will be None\n",
            "FutureWarning: The `device` argument is deprecated and will be removed in v5 of Transformers.\n",
            "UserWarning: torch.utils.checkpoint: please pass in use_reentrant=True or use_reentrant=False explicitly. The default value of use_reentrant will be updated to be False in the future. To maintain current behavior, pass use_reentrant=True. It is recommended that you use use_reentrant=False. Refer to docs for more details on the differences between the two variants.\n",
            "UserWarning: None of the inputs have requires_grad=True. Gradients will be None\n",
            "FutureWarning: The `device` argument is deprecated and will be removed in v5 of Transformers.\n",
            "UserWarning: torch.utils.checkpoint: please pass in use_reentrant=True or use_reentrant=False explicitly. The default value of use_reentrant will be updated to be False in the future. To maintain current behavior, pass use_reentrant=True. It is recommended that you use use_reentrant=False. Refer to docs for more details on the differences between the two variants.\n",
            "UserWarning: None of the inputs have requires_grad=True. Gradients will be None\n",
            "FutureWarning: The `device` argument is deprecated and will be removed in v5 of Transformers.\n",
            "UserWarning: torch.utils.checkpoint: please pass in use_reentrant=True or use_reentrant=False explicitly. The default value of use_reentrant will be updated to be False in the future. To maintain current behavior, pass use_reentrant=True. It is recommended that you use use_reentrant=False. Refer to docs for more details on the differences between the two variants.\n",
            "UserWarning: None of the inputs have requires_grad=True. Gradients will be None\n",
            "FutureWarning: The `device` argument is deprecated and will be removed in v5 of Transformers.\n",
            "UserWarning: torch.utils.checkpoint: please pass in use_reentrant=True or use_reentrant=False explicitly. The default value of use_reentrant will be updated to be False in the future. To maintain current behavior, pass use_reentrant=True. It is recommended that you use use_reentrant=False. Refer to docs for more details on the differences between the two variants.\n",
            "UserWarning: None of the inputs have requires_grad=True. Gradients will be None\n",
            "FutureWarning: The `device` argument is deprecated and will be removed in v5 of Transformers.\n",
            "UserWarning: torch.utils.checkpoint: please pass in use_reentrant=True or use_reentrant=False explicitly. The default value of use_reentrant will be updated to be False in the future. To maintain current behavior, pass use_reentrant=True. It is recommended that you use use_reentrant=False. Refer to docs for more details on the differences between the two variants.\n",
            "UserWarning: None of the inputs have requires_grad=True. Gradients will be None\n",
            "FutureWarning: The `device` argument is deprecated and will be removed in v5 of Transformers.\n",
            "UserWarning: torch.utils.checkpoint: please pass in use_reentrant=True or use_reentrant=False explicitly. The default value of use_reentrant will be updated to be False in the future. To maintain current behavior, pass use_reentrant=True. It is recommended that you use use_reentrant=False. Refer to docs for more details on the differences between the two variants.\n",
            "UserWarning: None of the inputs have requires_grad=True. Gradients will be None\n",
            "FutureWarning: The `device` argument is deprecated and will be removed in v5 of Transformers.\n",
            "UserWarning: torch.utils.checkpoint: please pass in use_reentrant=True or use_reentrant=False explicitly. The default value of use_reentrant will be updated to be False in the future. To maintain current behavior, pass use_reentrant=True. It is recommended that you use use_reentrant=False. Refer to docs for more details on the differences between the two variants.\n",
            "UserWarning: None of the inputs have requires_grad=True. Gradients will be None\n",
            "FutureWarning: The `device` argument is deprecated and will be removed in v5 of Transformers.\n",
            "UserWarning: torch.utils.checkpoint: please pass in use_reentrant=True or use_reentrant=False explicitly. The default value of use_reentrant will be updated to be False in the future. To maintain current behavior, pass use_reentrant=True. It is recommended that you use use_reentrant=False. Refer to docs for more details on the differences between the two variants.\n",
            "UserWarning: None of the inputs have requires_grad=True. Gradients will be None\n",
            "FutureWarning: The `device` argument is deprecated and will be removed in v5 of Transformers.\n",
            "UserWarning: torch.utils.checkpoint: please pass in use_reentrant=True or use_reentrant=False explicitly. The default value of use_reentrant will be updated to be False in the future. To maintain current behavior, pass use_reentrant=True. It is recommended that you use use_reentrant=False. Refer to docs for more details on the differences between the two variants.\n",
            "UserWarning: None of the inputs have requires_grad=True. Gradients will be None\n",
            "FutureWarning: The `device` argument is deprecated and will be removed in v5 of Transformers.\n",
            "UserWarning: torch.utils.checkpoint: please pass in use_reentrant=True or use_reentrant=False explicitly. The default value of use_reentrant will be updated to be False in the future. To maintain current behavior, pass use_reentrant=True. It is recommended that you use use_reentrant=False. Refer to docs for more details on the differences between the two variants.\n",
            "UserWarning: None of the inputs have requires_grad=True. Gradients will be None\n",
            "FutureWarning: The `device` argument is deprecated and will be removed in v5 of Transformers.\n",
            "UserWarning: torch.utils.checkpoint: please pass in use_reentrant=True or use_reentrant=False explicitly. The default value of use_reentrant will be updated to be False in the future. To maintain current behavior, pass use_reentrant=True. It is recommended that you use use_reentrant=False. Refer to docs for more details on the differences between the two variants.\n",
            "UserWarning: None of the inputs have requires_grad=True. Gradients will be None\n",
            "FutureWarning: The `device` argument is deprecated and will be removed in v5 of Transformers.\n",
            "UserWarning: torch.utils.checkpoint: please pass in use_reentrant=True or use_reentrant=False explicitly. The default value of use_reentrant will be updated to be False in the future. To maintain current behavior, pass use_reentrant=True. It is recommended that you use use_reentrant=False. Refer to docs for more details on the differences between the two variants.\n",
            "UserWarning: None of the inputs have requires_grad=True. Gradients will be None\n",
            "FutureWarning: The `device` argument is deprecated and will be removed in v5 of Transformers.\n",
            "UserWarning: torch.utils.checkpoint: please pass in use_reentrant=True or use_reentrant=False explicitly. The default value of use_reentrant will be updated to be False in the future. To maintain current behavior, pass use_reentrant=True. It is recommended that you use use_reentrant=False. Refer to docs for more details on the differences between the two variants.\n",
            "UserWarning: None of the inputs have requires_grad=True. Gradients will be None\n",
            "FutureWarning: The `device` argument is deprecated and will be removed in v5 of Transformers.\n",
            "UserWarning: torch.utils.checkpoint: please pass in use_reentrant=True or use_reentrant=False explicitly. The default value of use_reentrant will be updated to be False in the future. To maintain current behavior, pass use_reentrant=True. It is recommended that you use use_reentrant=False. Refer to docs for more details on the differences between the two variants.\n",
            "UserWarning: None of the inputs have requires_grad=True. Gradients will be None\n",
            "FutureWarning: The `device` argument is deprecated and will be removed in v5 of Transformers.\n",
            "UserWarning: torch.utils.checkpoint: please pass in use_reentrant=True or use_reentrant=False explicitly. The default value of use_reentrant will be updated to be False in the future. To maintain current behavior, pass use_reentrant=True. It is recommended that you use use_reentrant=False. Refer to docs for more details on the differences between the two variants.\n",
            "UserWarning: None of the inputs have requires_grad=True. Gradients will be None\n",
            "FutureWarning: The `device` argument is deprecated and will be removed in v5 of Transformers.\n",
            "UserWarning: torch.utils.checkpoint: please pass in use_reentrant=True or use_reentrant=False explicitly. The default value of use_reentrant will be updated to be False in the future. To maintain current behavior, pass use_reentrant=True. It is recommended that you use use_reentrant=False. Refer to docs for more details on the differences between the two variants.\n",
            "UserWarning: None of the inputs have requires_grad=True. Gradients will be None\n",
            "FutureWarning: The `device` argument is deprecated and will be removed in v5 of Transformers.\n",
            "UserWarning: torch.utils.checkpoint: please pass in use_reentrant=True or use_reentrant=False explicitly. The default value of use_reentrant will be updated to be False in the future. To maintain current behavior, pass use_reentrant=True. It is recommended that you use use_reentrant=False. Refer to docs for more details on the differences between the two variants.\n",
            "UserWarning: None of the inputs have requires_grad=True. Gradients will be None\n",
            "FutureWarning: The `device` argument is deprecated and will be removed in v5 of Transformers.\n",
            "UserWarning: torch.utils.checkpoint: please pass in use_reentrant=True or use_reentrant=False explicitly. The default value of use_reentrant will be updated to be False in the future. To maintain current behavior, pass use_reentrant=True. It is recommended that you use use_reentrant=False. Refer to docs for more details on the differences between the two variants.\n",
            "UserWarning: None of the inputs have requires_grad=True. Gradients will be None\n",
            "FutureWarning: The `device` argument is deprecated and will be removed in v5 of Transformers.\n",
            "UserWarning: torch.utils.checkpoint: please pass in use_reentrant=True or use_reentrant=False explicitly. The default value of use_reentrant will be updated to be False in the future. To maintain current behavior, pass use_reentrant=True. It is recommended that you use use_reentrant=False. Refer to docs for more details on the differences between the two variants.\n",
            "UserWarning: None of the inputs have requires_grad=True. Gradients will be None\n",
            "FutureWarning: The `device` argument is deprecated and will be removed in v5 of Transformers.\n",
            "UserWarning: torch.utils.checkpoint: please pass in use_reentrant=True or use_reentrant=False explicitly. The default value of use_reentrant will be updated to be False in the future. To maintain current behavior, pass use_reentrant=True. It is recommended that you use use_reentrant=False. Refer to docs for more details on the differences between the two variants.\n",
            "UserWarning: None of the inputs have requires_grad=True. Gradients will be None\n",
            "FutureWarning: The `device` argument is deprecated and will be removed in v5 of Transformers.\n",
            "UserWarning: torch.utils.checkpoint: please pass in use_reentrant=True or use_reentrant=False explicitly. The default value of use_reentrant will be updated to be False in the future. To maintain current behavior, pass use_reentrant=True. It is recommended that you use use_reentrant=False. Refer to docs for more details on the differences between the two variants.\n",
            "UserWarning: None of the inputs have requires_grad=True. Gradients will be None\n",
            "FutureWarning: The `device` argument is deprecated and will be removed in v5 of Transformers.\n",
            "UserWarning: torch.utils.checkpoint: please pass in use_reentrant=True or use_reentrant=False explicitly. The default value of use_reentrant will be updated to be False in the future. To maintain current behavior, pass use_reentrant=True. It is recommended that you use use_reentrant=False. Refer to docs for more details on the differences between the two variants.\n",
            "UserWarning: None of the inputs have requires_grad=True. Gradients will be None\n",
            "FutureWarning: The `device` argument is deprecated and will be removed in v5 of Transformers.\n",
            "UserWarning: torch.utils.checkpoint: please pass in use_reentrant=True or use_reentrant=False explicitly. The default value of use_reentrant will be updated to be False in the future. To maintain current behavior, pass use_reentrant=True. It is recommended that you use use_reentrant=False. Refer to docs for more details on the differences between the two variants.\n",
            "UserWarning: None of the inputs have requires_grad=True. Gradients will be None\n",
            "FutureWarning: The `device` argument is deprecated and will be removed in v5 of Transformers.\n",
            "UserWarning: torch.utils.checkpoint: please pass in use_reentrant=True or use_reentrant=False explicitly. The default value of use_reentrant will be updated to be False in the future. To maintain current behavior, pass use_reentrant=True. It is recommended that you use use_reentrant=False. Refer to docs for more details on the differences between the two variants.\n",
            "UserWarning: None of the inputs have requires_grad=True. Gradients will be None\n",
            "FutureWarning: The `device` argument is deprecated and will be removed in v5 of Transformers.\n",
            "UserWarning: torch.utils.checkpoint: please pass in use_reentrant=True or use_reentrant=False explicitly. The default value of use_reentrant will be updated to be False in the future. To maintain current behavior, pass use_reentrant=True. It is recommended that you use use_reentrant=False. Refer to docs for more details on the differences between the two variants.\n",
            "UserWarning: None of the inputs have requires_grad=True. Gradients will be None\n",
            "FutureWarning: The `device` argument is deprecated and will be removed in v5 of Transformers.\n",
            "UserWarning: torch.utils.checkpoint: please pass in use_reentrant=True or use_reentrant=False explicitly. The default value of use_reentrant will be updated to be False in the future. To maintain current behavior, pass use_reentrant=True. It is recommended that you use use_reentrant=False. Refer to docs for more details on the differences between the two variants.\n",
            "UserWarning: None of the inputs have requires_grad=True. Gradients will be None\n",
            "FutureWarning: The `device` argument is deprecated and will be removed in v5 of Transformers.\n",
            "UserWarning: torch.utils.checkpoint: please pass in use_reentrant=True or use_reentrant=False explicitly. The default value of use_reentrant will be updated to be False in the future. To maintain current behavior, pass use_reentrant=True. It is recommended that you use use_reentrant=False. Refer to docs for more details on the differences between the two variants.\n",
            "UserWarning: None of the inputs have requires_grad=True. Gradients will be None\n",
            "FutureWarning: The `device` argument is deprecated and will be removed in v5 of Transformers.\n",
            "UserWarning: torch.utils.checkpoint: please pass in use_reentrant=True or use_reentrant=False explicitly. The default value of use_reentrant will be updated to be False in the future. To maintain current behavior, pass use_reentrant=True. It is recommended that you use use_reentrant=False. Refer to docs for more details on the differences between the two variants.\n",
            "UserWarning: None of the inputs have requires_grad=True. Gradients will be None\n",
            "FutureWarning: The `device` argument is deprecated and will be removed in v5 of Transformers.\n",
            "UserWarning: torch.utils.checkpoint: please pass in use_reentrant=True or use_reentrant=False explicitly. The default value of use_reentrant will be updated to be False in the future. To maintain current behavior, pass use_reentrant=True. It is recommended that you use use_reentrant=False. Refer to docs for more details on the differences between the two variants.\n",
            "UserWarning: None of the inputs have requires_grad=True. Gradients will be None\n",
            "FutureWarning: The `device` argument is deprecated and will be removed in v5 of Transformers.\n",
            "UserWarning: torch.utils.checkpoint: please pass in use_reentrant=True or use_reentrant=False explicitly. The default value of use_reentrant will be updated to be False in the future. To maintain current behavior, pass use_reentrant=True. It is recommended that you use use_reentrant=False. Refer to docs for more details on the differences between the two variants.\n",
            "UserWarning: None of the inputs have requires_grad=True. Gradients will be None\n",
            "FutureWarning: The `device` argument is deprecated and will be removed in v5 of Transformers.\n",
            "UserWarning: torch.utils.checkpoint: please pass in use_reentrant=True or use_reentrant=False explicitly. The default value of use_reentrant will be updated to be False in the future. To maintain current behavior, pass use_reentrant=True. It is recommended that you use use_reentrant=False. Refer to docs for more details on the differences between the two variants.\n",
            "UserWarning: None of the inputs have requires_grad=True. Gradients will be None\n",
            "FutureWarning: The `device` argument is deprecated and will be removed in v5 of Transformers.\n",
            "UserWarning: torch.utils.checkpoint: please pass in use_reentrant=True or use_reentrant=False explicitly. The default value of use_reentrant will be updated to be False in the future. To maintain current behavior, pass use_reentrant=True. It is recommended that you use use_reentrant=False. Refer to docs for more details on the differences between the two variants.\n",
            "UserWarning: None of the inputs have requires_grad=True. Gradients will be None\n",
            "FutureWarning: The `device` argument is deprecated and will be removed in v5 of Transformers.\n",
            "UserWarning: torch.utils.checkpoint: please pass in use_reentrant=True or use_reentrant=False explicitly. The default value of use_reentrant will be updated to be False in the future. To maintain current behavior, pass use_reentrant=True. It is recommended that you use use_reentrant=False. Refer to docs for more details on the differences between the two variants.\n",
            "UserWarning: None of the inputs have requires_grad=True. Gradients will be None\n",
            "FutureWarning: The `device` argument is deprecated and will be removed in v5 of Transformers.\n",
            "UserWarning: torch.utils.checkpoint: please pass in use_reentrant=True or use_reentrant=False explicitly. The default value of use_reentrant will be updated to be False in the future. To maintain current behavior, pass use_reentrant=True. It is recommended that you use use_reentrant=False. Refer to docs for more details on the differences between the two variants.\n",
            "UserWarning: None of the inputs have requires_grad=True. Gradients will be None\n",
            "FutureWarning: The `device` argument is deprecated and will be removed in v5 of Transformers.\n",
            "UserWarning: torch.utils.checkpoint: please pass in use_reentrant=True or use_reentrant=False explicitly. The default value of use_reentrant will be updated to be False in the future. To maintain current behavior, pass use_reentrant=True. It is recommended that you use use_reentrant=False. Refer to docs for more details on the differences between the two variants.\n",
            "UserWarning: None of the inputs have requires_grad=True. Gradients will be None\n",
            "FutureWarning: The `device` argument is deprecated and will be removed in v5 of Transformers.\n",
            "UserWarning: torch.utils.checkpoint: please pass in use_reentrant=True or use_reentrant=False explicitly. The default value of use_reentrant will be updated to be False in the future. To maintain current behavior, pass use_reentrant=True. It is recommended that you use use_reentrant=False. Refer to docs for more details on the differences between the two variants.\n",
            "UserWarning: None of the inputs have requires_grad=True. Gradients will be None\n",
            "FutureWarning: The `device` argument is deprecated and will be removed in v5 of Transformers.\n",
            "UserWarning: torch.utils.checkpoint: please pass in use_reentrant=True or use_reentrant=False explicitly. The default value of use_reentrant will be updated to be False in the future. To maintain current behavior, pass use_reentrant=True. It is recommended that you use use_reentrant=False. Refer to docs for more details on the differences between the two variants.\n",
            "UserWarning: None of the inputs have requires_grad=True. Gradients will be None\n",
            "FutureWarning: The `device` argument is deprecated and will be removed in v5 of Transformers.\n",
            "UserWarning: torch.utils.checkpoint: please pass in use_reentrant=True or use_reentrant=False explicitly. The default value of use_reentrant will be updated to be False in the future. To maintain current behavior, pass use_reentrant=True. It is recommended that you use use_reentrant=False. Refer to docs for more details on the differences between the two variants.\n",
            "UserWarning: None of the inputs have requires_grad=True. Gradients will be None\n",
            "FutureWarning: The `device` argument is deprecated and will be removed in v5 of Transformers.\n",
            "UserWarning: torch.utils.checkpoint: please pass in use_reentrant=True or use_reentrant=False explicitly. The default value of use_reentrant will be updated to be False in the future. To maintain current behavior, pass use_reentrant=True. It is recommended that you use use_reentrant=False. Refer to docs for more details on the differences between the two variants.\n",
            "UserWarning: None of the inputs have requires_grad=True. Gradients will be None\n",
            "FutureWarning: The `device` argument is deprecated and will be removed in v5 of Transformers.\n",
            "UserWarning: torch.utils.checkpoint: please pass in use_reentrant=True or use_reentrant=False explicitly. The default value of use_reentrant will be updated to be False in the future. To maintain current behavior, pass use_reentrant=True. It is recommended that you use use_reentrant=False. Refer to docs for more details on the differences between the two variants.\n",
            "UserWarning: None of the inputs have requires_grad=True. Gradients will be None\n",
            "FutureWarning: The `device` argument is deprecated and will be removed in v5 of Transformers.\n",
            "UserWarning: torch.utils.checkpoint: please pass in use_reentrant=True or use_reentrant=False explicitly. The default value of use_reentrant will be updated to be False in the future. To maintain current behavior, pass use_reentrant=True. It is recommended that you use use_reentrant=False. Refer to docs for more details on the differences between the two variants.\n",
            "UserWarning: None of the inputs have requires_grad=True. Gradients will be None\n",
            "FutureWarning: The `device` argument is deprecated and will be removed in v5 of Transformers.\n",
            "UserWarning: torch.utils.checkpoint: please pass in use_reentrant=True or use_reentrant=False explicitly. The default value of use_reentrant will be updated to be False in the future. To maintain current behavior, pass use_reentrant=True. It is recommended that you use use_reentrant=False. Refer to docs for more details on the differences between the two variants.\n",
            "UserWarning: None of the inputs have requires_grad=True. Gradients will be None\n",
            "FutureWarning: The `device` argument is deprecated and will be removed in v5 of Transformers.\n",
            "UserWarning: torch.utils.checkpoint: please pass in use_reentrant=True or use_reentrant=False explicitly. The default value of use_reentrant will be updated to be False in the future. To maintain current behavior, pass use_reentrant=True. It is recommended that you use use_reentrant=False. Refer to docs for more details on the differences between the two variants.\n",
            "UserWarning: None of the inputs have requires_grad=True. Gradients will be None\n",
            "FutureWarning: The `device` argument is deprecated and will be removed in v5 of Transformers.\n",
            "UserWarning: torch.utils.checkpoint: please pass in use_reentrant=True or use_reentrant=False explicitly. The default value of use_reentrant will be updated to be False in the future. To maintain current behavior, pass use_reentrant=True. It is recommended that you use use_reentrant=False. Refer to docs for more details on the differences between the two variants.\n",
            "UserWarning: None of the inputs have requires_grad=True. Gradients will be None\n",
            "FutureWarning: The `device` argument is deprecated and will be removed in v5 of Transformers.\n",
            "UserWarning: torch.utils.checkpoint: please pass in use_reentrant=True or use_reentrant=False explicitly. The default value of use_reentrant will be updated to be False in the future. To maintain current behavior, pass use_reentrant=True. It is recommended that you use use_reentrant=False. Refer to docs for more details on the differences between the two variants.\n",
            "UserWarning: None of the inputs have requires_grad=True. Gradients will be None\n",
            "FutureWarning: The `device` argument is deprecated and will be removed in v5 of Transformers.\n",
            "UserWarning: torch.utils.checkpoint: please pass in use_reentrant=True or use_reentrant=False explicitly. The default value of use_reentrant will be updated to be False in the future. To maintain current behavior, pass use_reentrant=True. It is recommended that you use use_reentrant=False. Refer to docs for more details on the differences between the two variants.\n",
            "UserWarning: None of the inputs have requires_grad=True. Gradients will be None\n",
            "FutureWarning: The `device` argument is deprecated and will be removed in v5 of Transformers.\n",
            "UserWarning: torch.utils.checkpoint: please pass in use_reentrant=True or use_reentrant=False explicitly. The default value of use_reentrant will be updated to be False in the future. To maintain current behavior, pass use_reentrant=True. It is recommended that you use use_reentrant=False. Refer to docs for more details on the differences between the two variants.\n",
            "UserWarning: None of the inputs have requires_grad=True. Gradients will be None\n",
            "FutureWarning: The `device` argument is deprecated and will be removed in v5 of Transformers.\n",
            "UserWarning: torch.utils.checkpoint: please pass in use_reentrant=True or use_reentrant=False explicitly. The default value of use_reentrant will be updated to be False in the future. To maintain current behavior, pass use_reentrant=True. It is recommended that you use use_reentrant=False. Refer to docs for more details on the differences between the two variants.\n",
            "UserWarning: None of the inputs have requires_grad=True. Gradients will be None\n",
            "FutureWarning: The `device` argument is deprecated and will be removed in v5 of Transformers.\n",
            "UserWarning: torch.utils.checkpoint: please pass in use_reentrant=True or use_reentrant=False explicitly. The default value of use_reentrant will be updated to be False in the future. To maintain current behavior, pass use_reentrant=True. It is recommended that you use use_reentrant=False. Refer to docs for more details on the differences between the two variants.\n",
            "UserWarning: None of the inputs have requires_grad=True. Gradients will be None\n",
            "FutureWarning: The `device` argument is deprecated and will be removed in v5 of Transformers.\n",
            "UserWarning: torch.utils.checkpoint: please pass in use_reentrant=True or use_reentrant=False explicitly. The default value of use_reentrant will be updated to be False in the future. To maintain current behavior, pass use_reentrant=True. It is recommended that you use use_reentrant=False. Refer to docs for more details on the differences between the two variants.\n",
            "UserWarning: None of the inputs have requires_grad=True. Gradients will be None\n",
            "FutureWarning: The `device` argument is deprecated and will be removed in v5 of Transformers.\n",
            "UserWarning: torch.utils.checkpoint: please pass in use_reentrant=True or use_reentrant=False explicitly. The default value of use_reentrant will be updated to be False in the future. To maintain current behavior, pass use_reentrant=True. It is recommended that you use use_reentrant=False. Refer to docs for more details on the differences between the two variants.\n",
            "UserWarning: None of the inputs have requires_grad=True. Gradients will be None\n",
            "FutureWarning: The `device` argument is deprecated and will be removed in v5 of Transformers.\n",
            "UserWarning: torch.utils.checkpoint: please pass in use_reentrant=True or use_reentrant=False explicitly. The default value of use_reentrant will be updated to be False in the future. To maintain current behavior, pass use_reentrant=True. It is recommended that you use use_reentrant=False. Refer to docs for more details on the differences between the two variants.\n",
            "UserWarning: None of the inputs have requires_grad=True. Gradients will be None\n",
            "FutureWarning: The `device` argument is deprecated and will be removed in v5 of Transformers.\n",
            "UserWarning: torch.utils.checkpoint: please pass in use_reentrant=True or use_reentrant=False explicitly. The default value of use_reentrant will be updated to be False in the future. To maintain current behavior, pass use_reentrant=True. It is recommended that you use use_reentrant=False. Refer to docs for more details on the differences between the two variants.\n",
            "UserWarning: None of the inputs have requires_grad=True. Gradients will be None\n",
            "FutureWarning: The `device` argument is deprecated and will be removed in v5 of Transformers.\n",
            "UserWarning: torch.utils.checkpoint: please pass in use_reentrant=True or use_reentrant=False explicitly. The default value of use_reentrant will be updated to be False in the future. To maintain current behavior, pass use_reentrant=True. It is recommended that you use use_reentrant=False. Refer to docs for more details on the differences between the two variants.\n",
            "UserWarning: None of the inputs have requires_grad=True. Gradients will be None\n",
            "FutureWarning: The `device` argument is deprecated and will be removed in v5 of Transformers.\n",
            "UserWarning: torch.utils.checkpoint: please pass in use_reentrant=True or use_reentrant=False explicitly. The default value of use_reentrant will be updated to be False in the future. To maintain current behavior, pass use_reentrant=True. It is recommended that you use use_reentrant=False. Refer to docs for more details on the differences between the two variants.\n",
            "UserWarning: None of the inputs have requires_grad=True. Gradients will be None\n",
            "FutureWarning: The `device` argument is deprecated and will be removed in v5 of Transformers.\n",
            "UserWarning: torch.utils.checkpoint: please pass in use_reentrant=True or use_reentrant=False explicitly. The default value of use_reentrant will be updated to be False in the future. To maintain current behavior, pass use_reentrant=True. It is recommended that you use use_reentrant=False. Refer to docs for more details on the differences between the two variants.\n",
            "UserWarning: None of the inputs have requires_grad=True. Gradients will be None\n",
            "FutureWarning: The `device` argument is deprecated and will be removed in v5 of Transformers.\n",
            "UserWarning: torch.utils.checkpoint: please pass in use_reentrant=True or use_reentrant=False explicitly. The default value of use_reentrant will be updated to be False in the future. To maintain current behavior, pass use_reentrant=True. It is recommended that you use use_reentrant=False. Refer to docs for more details on the differences between the two variants.\n",
            "UserWarning: None of the inputs have requires_grad=True. Gradients will be None\n",
            "FutureWarning: The `device` argument is deprecated and will be removed in v5 of Transformers.\n",
            "UserWarning: torch.utils.checkpoint: please pass in use_reentrant=True or use_reentrant=False explicitly. The default value of use_reentrant will be updated to be False in the future. To maintain current behavior, pass use_reentrant=True. It is recommended that you use use_reentrant=False. Refer to docs for more details on the differences between the two variants.\n",
            "UserWarning: None of the inputs have requires_grad=True. Gradients will be None\n",
            "FutureWarning: The `device` argument is deprecated and will be removed in v5 of Transformers.\n",
            "UserWarning: torch.utils.checkpoint: please pass in use_reentrant=True or use_reentrant=False explicitly. The default value of use_reentrant will be updated to be False in the future. To maintain current behavior, pass use_reentrant=True. It is recommended that you use use_reentrant=False. Refer to docs for more details on the differences between the two variants.\n",
            "UserWarning: None of the inputs have requires_grad=True. Gradients will be None\n",
            "FutureWarning: The `device` argument is deprecated and will be removed in v5 of Transformers.\n",
            "UserWarning: torch.utils.checkpoint: please pass in use_reentrant=True or use_reentrant=False explicitly. The default value of use_reentrant will be updated to be False in the future. To maintain current behavior, pass use_reentrant=True. It is recommended that you use use_reentrant=False. Refer to docs for more details on the differences between the two variants.\n",
            "UserWarning: None of the inputs have requires_grad=True. Gradients will be None\n",
            "FutureWarning: The `device` argument is deprecated and will be removed in v5 of Transformers.\n",
            "UserWarning: torch.utils.checkpoint: please pass in use_reentrant=True or use_reentrant=False explicitly. The default value of use_reentrant will be updated to be False in the future. To maintain current behavior, pass use_reentrant=True. It is recommended that you use use_reentrant=False. Refer to docs for more details on the differences between the two variants.\n",
            "UserWarning: None of the inputs have requires_grad=True. Gradients will be None\n",
            "FutureWarning: The `device` argument is deprecated and will be removed in v5 of Transformers.\n",
            "UserWarning: torch.utils.checkpoint: please pass in use_reentrant=True or use_reentrant=False explicitly. The default value of use_reentrant will be updated to be False in the future. To maintain current behavior, pass use_reentrant=True. It is recommended that you use use_reentrant=False. Refer to docs for more details on the differences between the two variants.\n",
            "UserWarning: None of the inputs have requires_grad=True. Gradients will be None\n",
            "FutureWarning: The `device` argument is deprecated and will be removed in v5 of Transformers.\n",
            "UserWarning: torch.utils.checkpoint: please pass in use_reentrant=True or use_reentrant=False explicitly. The default value of use_reentrant will be updated to be False in the future. To maintain current behavior, pass use_reentrant=True. It is recommended that you use use_reentrant=False. Refer to docs for more details on the differences between the two variants.\n",
            "UserWarning: None of the inputs have requires_grad=True. Gradients will be None\n",
            "FutureWarning: The `device` argument is deprecated and will be removed in v5 of Transformers.\n",
            "UserWarning: torch.utils.checkpoint: please pass in use_reentrant=True or use_reentrant=False explicitly. The default value of use_reentrant will be updated to be False in the future. To maintain current behavior, pass use_reentrant=True. It is recommended that you use use_reentrant=False. Refer to docs for more details on the differences between the two variants.\n",
            "UserWarning: None of the inputs have requires_grad=True. Gradients will be None\n",
            "FutureWarning: The `device` argument is deprecated and will be removed in v5 of Transformers.\n",
            "UserWarning: torch.utils.checkpoint: please pass in use_reentrant=True or use_reentrant=False explicitly. The default value of use_reentrant will be updated to be False in the future. To maintain current behavior, pass use_reentrant=True. It is recommended that you use use_reentrant=False. Refer to docs for more details on the differences between the two variants.\n",
            "UserWarning: None of the inputs have requires_grad=True. Gradients will be None\n",
            "FutureWarning: The `device` argument is deprecated and will be removed in v5 of Transformers.\n",
            "UserWarning: torch.utils.checkpoint: please pass in use_reentrant=True or use_reentrant=False explicitly. The default value of use_reentrant will be updated to be False in the future. To maintain current behavior, pass use_reentrant=True. It is recommended that you use use_reentrant=False. Refer to docs for more details on the differences between the two variants.\n",
            "UserWarning: None of the inputs have requires_grad=True. Gradients will be None\n",
            "FutureWarning: The `device` argument is deprecated and will be removed in v5 of Transformers.\n",
            "UserWarning: torch.utils.checkpoint: please pass in use_reentrant=True or use_reentrant=False explicitly. The default value of use_reentrant will be updated to be False in the future. To maintain current behavior, pass use_reentrant=True. It is recommended that you use use_reentrant=False. Refer to docs for more details on the differences between the two variants.\n",
            "UserWarning: None of the inputs have requires_grad=True. Gradients will be None\n",
            "FutureWarning: The `device` argument is deprecated and will be removed in v5 of Transformers.\n",
            "UserWarning: torch.utils.checkpoint: please pass in use_reentrant=True or use_reentrant=False explicitly. The default value of use_reentrant will be updated to be False in the future. To maintain current behavior, pass use_reentrant=True. It is recommended that you use use_reentrant=False. Refer to docs for more details on the differences between the two variants.\n",
            "UserWarning: None of the inputs have requires_grad=True. Gradients will be None\n",
            "FutureWarning: The `device` argument is deprecated and will be removed in v5 of Transformers.\n",
            "UserWarning: torch.utils.checkpoint: please pass in use_reentrant=True or use_reentrant=False explicitly. The default value of use_reentrant will be updated to be False in the future. To maintain current behavior, pass use_reentrant=True. It is recommended that you use use_reentrant=False. Refer to docs for more details on the differences between the two variants.\n",
            "UserWarning: None of the inputs have requires_grad=True. Gradients will be None\n",
            "FutureWarning: The `device` argument is deprecated and will be removed in v5 of Transformers.\n",
            "UserWarning: torch.utils.checkpoint: please pass in use_reentrant=True or use_reentrant=False explicitly. The default value of use_reentrant will be updated to be False in the future. To maintain current behavior, pass use_reentrant=True. It is recommended that you use use_reentrant=False. Refer to docs for more details on the differences between the two variants.\n",
            "UserWarning: None of the inputs have requires_grad=True. Gradients will be None\n",
            "FutureWarning: The `device` argument is deprecated and will be removed in v5 of Transformers.\n",
            "UserWarning: torch.utils.checkpoint: please pass in use_reentrant=True or use_reentrant=False explicitly. The default value of use_reentrant will be updated to be False in the future. To maintain current behavior, pass use_reentrant=True. It is recommended that you use use_reentrant=False. Refer to docs for more details on the differences between the two variants.\n",
            "UserWarning: None of the inputs have requires_grad=True. Gradients will be None\n",
            "FutureWarning: The `device` argument is deprecated and will be removed in v5 of Transformers.\n",
            "UserWarning: torch.utils.checkpoint: please pass in use_reentrant=True or use_reentrant=False explicitly. The default value of use_reentrant will be updated to be False in the future. To maintain current behavior, pass use_reentrant=True. It is recommended that you use use_reentrant=False. Refer to docs for more details on the differences between the two variants.\n",
            "UserWarning: None of the inputs have requires_grad=True. Gradients will be None\n",
            "FutureWarning: The `device` argument is deprecated and will be removed in v5 of Transformers.\n",
            "UserWarning: torch.utils.checkpoint: please pass in use_reentrant=True or use_reentrant=False explicitly. The default value of use_reentrant will be updated to be False in the future. To maintain current behavior, pass use_reentrant=True. It is recommended that you use use_reentrant=False. Refer to docs for more details on the differences between the two variants.\n",
            "UserWarning: None of the inputs have requires_grad=True. Gradients will be None\n",
            "FutureWarning: The `device` argument is deprecated and will be removed in v5 of Transformers.\n",
            "UserWarning: torch.utils.checkpoint: please pass in use_reentrant=True or use_reentrant=False explicitly. The default value of use_reentrant will be updated to be False in the future. To maintain current behavior, pass use_reentrant=True. It is recommended that you use use_reentrant=False. Refer to docs for more details on the differences between the two variants.\n",
            "UserWarning: None of the inputs have requires_grad=True. Gradients will be None\n",
            "FutureWarning: The `device` argument is deprecated and will be removed in v5 of Transformers.\n",
            "UserWarning: torch.utils.checkpoint: please pass in use_reentrant=True or use_reentrant=False explicitly. The default value of use_reentrant will be updated to be False in the future. To maintain current behavior, pass use_reentrant=True. It is recommended that you use use_reentrant=False. Refer to docs for more details on the differences between the two variants.\n",
            "UserWarning: None of the inputs have requires_grad=True. Gradients will be None\n",
            "FutureWarning: The `device` argument is deprecated and will be removed in v5 of Transformers.\n",
            "UserWarning: torch.utils.checkpoint: please pass in use_reentrant=True or use_reentrant=False explicitly. The default value of use_reentrant will be updated to be False in the future. To maintain current behavior, pass use_reentrant=True. It is recommended that you use use_reentrant=False. Refer to docs for more details on the differences between the two variants.\n",
            "UserWarning: None of the inputs have requires_grad=True. Gradients will be None\n",
            "FutureWarning: The `device` argument is deprecated and will be removed in v5 of Transformers.\n",
            "UserWarning: torch.utils.checkpoint: please pass in use_reentrant=True or use_reentrant=False explicitly. The default value of use_reentrant will be updated to be False in the future. To maintain current behavior, pass use_reentrant=True. It is recommended that you use use_reentrant=False. Refer to docs for more details on the differences between the two variants.\n",
            "UserWarning: None of the inputs have requires_grad=True. Gradients will be None\n"
          ]
        },
        {
          "name": "stdout",
          "output_type": "stream",
          "text": [
            "Время обработки: 2 мин. 13 сек.\n"
          ]
        }
      ],
      "source": [
        "with timex():\n",
        "  # Создаем датафрейм pandas для сохранения данных\n",
        "  Data_df = pd.DataFrame(columns=['filename','box', 'logit', 'phrase'])\n",
        "\n",
        "  files_list = os.listdir(IMAGE_PATH)\n",
        "\n",
        "  for f in files_list:\n",
        "    path = os.path.join(IMAGE_PATH, f)\n",
        "    ext = os.path.splitext(path)[1]\n",
        "    if ext in ['.png','.jpg']:\n",
        "      boxes, logits, phrases = extract_data(os.path.join(IMAGE_PATH, f), 'price tag')\n",
        "      for n in range(len(boxes)):\n",
        "        # Добавляем данные в датафрейм\n",
        "        Data_df.loc[len(Data_df.index)] = [f, boxes[n].tolist(), logits[n].tolist(), phrases[n]]"
      ]
    },
    {
      "cell_type": "code",
      "execution_count": null,
      "metadata": {
        "id": "Zp3Qph8kwyeO"
      },
      "outputs": [],
      "source": [
        "import pathlib\n",
        "\n",
        "directory = pathlib.Path(DATA_PATH)\n",
        "\n",
        "with zipfile.ZipFile(\"images_with_annotations.zip\", mode=\"w\") as archive:\n",
        "  for file_path in directory.rglob(\"*\"):\n",
        "    archive.write(file_path,\n",
        "                  arcname=file_path.relative_to(directory)\n",
        "                 )"
      ]
    },
    {
      "cell_type": "code",
      "execution_count": null,
      "metadata": {
        "id": "_NrGOP9IMZfp"
      },
      "outputs": [],
      "source": [
        "# Сохранияем датафрейм Pandas в формате pickle, чтобы после загрузки сохралились списки\n",
        "Data_df.to_pickle(os.path.join(DATA_PATH, 'Images_Data.pickle'))"
      ]
    },
    {
      "cell_type": "code",
      "source": [
        "os.path.join(DATA_PATH, 'Images_Data.pickle')"
      ],
      "metadata": {
        "id": "5gQWH7LqSccu",
        "outputId": "98e87d1a-1073-439d-c5a1-004d00efaacc",
        "colab": {
          "base_uri": "https://localhost:8080/",
          "height": 35
        }
      },
      "execution_count": null,
      "outputs": [
        {
          "output_type": "execute_result",
          "data": {
            "text/plain": [
              "'/content/drive/MyDrive/HAKATON/data/Images_Data.pickle'"
            ],
            "application/vnd.google.colaboratory.intrinsic+json": {
              "type": "string"
            }
          },
          "metadata": {},
          "execution_count": 9
        }
      ]
    },
    {
      "cell_type": "code",
      "source": [
        "'/content/drive/MyDrive/HAKATON/data/Images_Data.pickle'"
      ],
      "metadata": {
        "id": "yQg-CfEsSZ2C"
      },
      "execution_count": null,
      "outputs": []
    },
    {
      "cell_type": "code",
      "execution_count": null,
      "metadata": {
        "colab": {
          "base_uri": "https://localhost:8080/",
          "height": 70
        },
        "id": "VfG-cgyrM4gv",
        "outputId": "e4649f8b-7678-4038-807b-ecbab041dfd0"
      },
      "outputs": [
        {
          "output_type": "display_data",
          "data": {
            "text/plain": [
              "Empty DataFrame\n",
              "Columns: [filename, box, logit, phrase]\n",
              "Index: []"
            ],
            "text/html": [
              "\n",
              "  <div id=\"df-59e9cd76-d03a-4505-8d44-bec8755add12\" class=\"colab-df-container\">\n",
              "    <div>\n",
              "<style scoped>\n",
              "    .dataframe tbody tr th:only-of-type {\n",
              "        vertical-align: middle;\n",
              "    }\n",
              "\n",
              "    .dataframe tbody tr th {\n",
              "        vertical-align: top;\n",
              "    }\n",
              "\n",
              "    .dataframe thead th {\n",
              "        text-align: right;\n",
              "    }\n",
              "</style>\n",
              "<table border=\"1\" class=\"dataframe\">\n",
              "  <thead>\n",
              "    <tr style=\"text-align: right;\">\n",
              "      <th></th>\n",
              "      <th>filename</th>\n",
              "      <th>box</th>\n",
              "      <th>logit</th>\n",
              "      <th>phrase</th>\n",
              "    </tr>\n",
              "  </thead>\n",
              "  <tbody>\n",
              "  </tbody>\n",
              "</table>\n",
              "</div>\n",
              "    <div class=\"colab-df-buttons\">\n",
              "\n",
              "  <div class=\"colab-df-container\">\n",
              "    <button class=\"colab-df-convert\" onclick=\"convertToInteractive('df-59e9cd76-d03a-4505-8d44-bec8755add12')\"\n",
              "            title=\"Convert this dataframe to an interactive table.\"\n",
              "            style=\"display:none;\">\n",
              "\n",
              "  <svg xmlns=\"http://www.w3.org/2000/svg\" height=\"24px\" viewBox=\"0 -960 960 960\">\n",
              "    <path d=\"M120-120v-720h720v720H120Zm60-500h600v-160H180v160Zm220 220h160v-160H400v160Zm0 220h160v-160H400v160ZM180-400h160v-160H180v160Zm440 0h160v-160H620v160ZM180-180h160v-160H180v160Zm440 0h160v-160H620v160Z\"/>\n",
              "  </svg>\n",
              "    </button>\n",
              "\n",
              "  <style>\n",
              "    .colab-df-container {\n",
              "      display:flex;\n",
              "      gap: 12px;\n",
              "    }\n",
              "\n",
              "    .colab-df-convert {\n",
              "      background-color: #E8F0FE;\n",
              "      border: none;\n",
              "      border-radius: 50%;\n",
              "      cursor: pointer;\n",
              "      display: none;\n",
              "      fill: #1967D2;\n",
              "      height: 32px;\n",
              "      padding: 0 0 0 0;\n",
              "      width: 32px;\n",
              "    }\n",
              "\n",
              "    .colab-df-convert:hover {\n",
              "      background-color: #E2EBFA;\n",
              "      box-shadow: 0px 1px 2px rgba(60, 64, 67, 0.3), 0px 1px 3px 1px rgba(60, 64, 67, 0.15);\n",
              "      fill: #174EA6;\n",
              "    }\n",
              "\n",
              "    .colab-df-buttons div {\n",
              "      margin-bottom: 4px;\n",
              "    }\n",
              "\n",
              "    [theme=dark] .colab-df-convert {\n",
              "      background-color: #3B4455;\n",
              "      fill: #D2E3FC;\n",
              "    }\n",
              "\n",
              "    [theme=dark] .colab-df-convert:hover {\n",
              "      background-color: #434B5C;\n",
              "      box-shadow: 0px 1px 3px 1px rgba(0, 0, 0, 0.15);\n",
              "      filter: drop-shadow(0px 1px 2px rgba(0, 0, 0, 0.3));\n",
              "      fill: #FFFFFF;\n",
              "    }\n",
              "  </style>\n",
              "\n",
              "    <script>\n",
              "      const buttonEl =\n",
              "        document.querySelector('#df-59e9cd76-d03a-4505-8d44-bec8755add12 button.colab-df-convert');\n",
              "      buttonEl.style.display =\n",
              "        google.colab.kernel.accessAllowed ? 'block' : 'none';\n",
              "\n",
              "      async function convertToInteractive(key) {\n",
              "        const element = document.querySelector('#df-59e9cd76-d03a-4505-8d44-bec8755add12');\n",
              "        const dataTable =\n",
              "          await google.colab.kernel.invokeFunction('convertToInteractive',\n",
              "                                                    [key], {});\n",
              "        if (!dataTable) return;\n",
              "\n",
              "        const docLinkHtml = 'Like what you see? Visit the ' +\n",
              "          '<a target=\"_blank\" href=https://colab.research.google.com/notebooks/data_table.ipynb>data table notebook</a>'\n",
              "          + ' to learn more about interactive tables.';\n",
              "        element.innerHTML = '';\n",
              "        dataTable['output_type'] = 'display_data';\n",
              "        await google.colab.output.renderOutput(dataTable, element);\n",
              "        const docLink = document.createElement('div');\n",
              "        docLink.innerHTML = docLinkHtml;\n",
              "        element.appendChild(docLink);\n",
              "      }\n",
              "    </script>\n",
              "  </div>\n",
              "\n",
              "    </div>\n",
              "  </div>\n"
            ],
            "application/vnd.google.colaboratory.intrinsic+json": {
              "type": "dataframe",
              "repr_error": "Out of range float values are not JSON compliant: nan"
            }
          },
          "metadata": {}
        },
        {
          "output_type": "stream",
          "name": "stdout",
          "text": [
            "Список классов: []\n"
          ]
        }
      ],
      "source": [
        "# Считываем датафрейм Pandas в формате pickle\n",
        "Data_df = pd.read_pickle(os.path.join(DATA_PATH, 'Images_Data.pickle'))\n",
        "\n",
        "# Отображаем формат данных\n",
        "display(Data_df.head())\n",
        "\n",
        "CLASS_LIST = Data_df['phrase'].unique().tolist()\n",
        "print(f'Список классов: {CLASS_LIST}')"
      ]
    },
    {
      "cell_type": "markdown",
      "source": [
        "**ВНИМАНИЕ, ФУНКЦИЯ НИЖЕ С ОШИБКОЙ! ПРОВЕРИТЬ ЕСЛИ БУДЕШЬ ИСПОЛЬЗОВАТЬ**"
      ],
      "metadata": {
        "id": "MAhM2NZHZCKt"
      }
    },
    {
      "cell_type": "code",
      "execution_count": null,
      "metadata": {
        "id": "GtioblsrOD2J"
      },
      "outputs": [],
      "source": [
        "for f in files_list:\n",
        "  try:\n",
        "    sub_df = Data_df[Data_df['filename'] == f]\n",
        "    with open(os.path.join(LABEL_PATH,f[:-3]+\"txt\"), 'w') as annotation:\n",
        "      for i in sub_df.index:\n",
        "        #print(f, i)\n",
        "        line = str(CLASS_LIST.index(sub_df.loc[i]['phrase']))\n",
        "        for coord in Data_df.loc[i]['box']:\n",
        "          line += ' '+ str(coord)\n",
        "        #print(line)\n",
        "        annotation.write(line)\n",
        "  except:\n",
        "    print(f'Файла {f} нет в таблице!')"
      ]
    },
    {
      "cell_type": "code",
      "source": [
        "import cv2\n",
        "from google.colab.patches import cv2_imshow\n",
        "\n",
        "type_object = '.txt'\n",
        "counter = 0\n",
        "max_counter = 5\n",
        "\n",
        "for ii in os.walk(IMAGE_PATH):\n",
        "    for j in ii[2]:\n",
        "        ext = j.split(\".\")[1]\n",
        "        if ext not in ['jpg','png']:\n",
        "            continue\n",
        "        counter +=1\n",
        "        if counter > max_counter: break\n",
        "        path_img = os.path.join(IMAGE_PATH, j)\n",
        "        label_name = j[:-4] + type_object\n",
        "        path_label = os.path.join(LABEL_PATH, label_name)\n",
        "        if os.path.exists(path_label) != True:\n",
        "            continue\n",
        "        f = open(path_label, 'r+', encoding='utf-8')\n",
        "        print(path_img)\n",
        "        img = cv2.imread(path_img)\n",
        "        w = img.shape[1]\n",
        "        h = img.shape[0]\n",
        "        new_lines = []\n",
        "        hands_lines = []\n",
        "        img_tmp = img.copy()\n",
        "        while True:\n",
        "            line = f.readline()\n",
        "            if line:\n",
        "                msg = line.split(\" \")\n",
        "                # print(x_center,\",\",y_center,\",\",width,\",\",height)\n",
        "                x1 = int((float(msg[1]) - float(msg[3]) / 2) * w)  # x_center - width/2\n",
        "                y1 = int((float(msg[2]) - float(msg[4]) / 2) * h)  # y_center - height/2\n",
        "                x2 = int((float(msg[1]) + float(msg[3]) / 2) * w)  # x_center + width/2\n",
        "                y2 = int((float(msg[2]) + float(msg[4]) / 2) * h)  # y_center + height/2\n",
        "                # print(x1, \",\", y1, \",\", x2, \",\", y2)\n",
        "                cv2.rectangle(img_tmp, (x1, y1), (x2, y2), (0, 0, 255), 5)\n",
        "            else: break\n",
        "        cv2_imshow(img_tmp)"
      ],
      "metadata": {
        "id": "FJsFbeePULtI"
      },
      "execution_count": null,
      "outputs": []
    },
    {
      "cell_type": "markdown",
      "metadata": {
        "id": "YmubTJSATsm-"
      },
      "source": [
        "## 🏆 Congratulations\n",
        "\n",
        "### Learning Resources\n",
        "\n",
        "Roboflow has produced many resources that you may find interesting as you advance your knowledge of computer vision:\n",
        "\n",
        "- [Roboflow Notebooks](https://github.com/roboflow/notebooks): A repository of over 20 notebooks that walk through how to train custom models with a range of model types, from YOLOv7 to SegFormer.\n",
        "- [Roboflow YouTube](https://www.youtube.com/c/Roboflow): Our library of videos featuring deep dives into the latest in computer vision, detailed tutorials that accompany our notebooks, and more.\n",
        "- [Roboflow Discuss](https://discuss.roboflow.com/): Have a question about how to do something on Roboflow? Ask your question on our discussion forum.\n",
        "- [Roboflow Models](https://roboflow.com): Learn about state-of-the-art models and their performance. Find links and tutorials to guide your learning.\n",
        "\n",
        "### Convert data formats\n",
        "\n",
        "Roboflow provides free utilities to convert data between dozens of popular computer vision formats. Check out [Roboflow Formats](https://roboflow.com/formats) to find tutorials on how to convert data between formats in a few clicks.\n",
        "\n",
        "### Connect computer vision to your project logic\n",
        "\n",
        "[Roboflow Templates](https://roboflow.com/templates) is a public gallery of code snippets that you can use to connect computer vision to your project logic. Code snippets range from sending emails after inference to measuring object distance between detections."
      ]
    },
    {
      "cell_type": "markdown",
      "metadata": {
        "id": "ngao05oNyy83"
      },
      "source": [
        "# Подготовка данных для обучения YOLO8n"
      ]
    },
    {
      "cell_type": "code",
      "execution_count": null,
      "metadata": {
        "colab": {
          "background_save": true
        },
        "id": "5FLrWMOwy9qs"
      },
      "outputs": [],
      "source": [
        "import shutil\n",
        "\n",
        "# Где хранятся картинки\n",
        "images_dir = IMAGE_PATH\n",
        "\n",
        "# Где хранятся метки\n",
        "bbox_dir = LABEL_PATH\n",
        "\n",
        "# Папки для датасета\n",
        "dataset_path = os.path.join(HOME,'DataSet_1')\n",
        "train_box = os.path.join(dataset_path, 'train')\n",
        "val_box = os.path.join(dataset_path,'valid')\n",
        "\n",
        "os.makedirs(val_box, exist_ok=True)\n",
        "os.makedirs(os.path.join(val_box,'images'), exist_ok=True)\n",
        "os.makedirs(os.path.join(val_box,'labels'), exist_ok=True)\n",
        "os.makedirs(train_box, exist_ok=True)\n",
        "os.makedirs(os.path.join(train_box,'images'), exist_ok=True)\n",
        "os.makedirs(os.path.join(train_box,'labels'), exist_ok=True)"
      ]
    },
    {
      "cell_type": "code",
      "execution_count": null,
      "metadata": {
        "colab": {
          "base_uri": "https://localhost:8080/"
        },
        "id": "clGqlVu80Kc5",
        "outputId": "512ae025-a518-4a66-ecf7-e6ceb09fd687"
      },
      "outputs": [
        {
          "name": "stdout",
          "output_type": "stream",
          "text": [
            "Файлов в data всего 5\n",
            "Файлов в GroundingDINO всего 248\n",
            "Файлов в weights всего 1\n",
            "Файлов в DataSet_1 всего 2\n"
          ]
        }
      ],
      "source": [
        "test_path = HOME\n",
        "for path in os.listdir(test_path):\n",
        "  full_path = os.path.join(test_path ,path)\n",
        "  if os.path.isdir(full_path):\n",
        "    print('Файлов в', path, 'всего', len(os.listdir(full_path)))"
      ]
    },
    {
      "cell_type": "code",
      "execution_count": null,
      "metadata": {
        "id": "gaq28yb90N7R"
      },
      "outputs": [],
      "source": [
        "# Создаем датасет для сегментации\n",
        "files_list = os.listdir(bbox_dir)\n",
        "files_list.sort()\n",
        "\n",
        "for i in range(len(files_list)):\n",
        "  # Каждый 9 из 10 в val\n",
        "  if i%10 == 9:\n",
        "    shutil.move(os.path.join(bbox_dir,files_list[i]), os.path.join(val_box,'labels'))\n",
        "    shutil.move(os.path.join(images_dir,files_list[i][:-3]+'jpg'),os.path.join(val_box,'images'))\n",
        "  else:\n",
        "    shutil.move(os.path.join(bbox_dir,files_list[i]), os.path.join(train_box,'labels'))\n",
        "    shutil.move(os.path.join(images_dir,files_list[i][:-3]+'jpg'),os.path.join(train_box,'images'))"
      ]
    },
    {
      "cell_type": "code",
      "execution_count": null,
      "metadata": {
        "id": "DobmrvYT043Q"
      },
      "outputs": [],
      "source": [
        "# Создание файла yaml\n",
        "with open(os.path.join(dataset_path,'data.yaml'), 'w') as f:\n",
        "  f.write('path: '+str(dataset_path))\n",
        "  f.write('\\ntrain: '+str(os.path.join(dataset_path,'train')))\n",
        "  #f.write('\\ntest: '+str(os.path.join(dataset_path,'test')))\n",
        "  f.write('\\nval: '+str(os.path.join(dataset_path,'val')))\n",
        "\n",
        "  f.write('\\nnc: '+ str(len(CLASS_LIST)))\n",
        "\n",
        "  f.write('\\nnames: ' + str(CLASS_LIST))\n",
        "\n",
        "with open(os.path.join(dataset_path,'data.yaml'), 'r') as f:\n",
        "  print(f.read())"
      ]
    },
    {
      "cell_type": "markdown",
      "metadata": {
        "id": "GhHNOZEq2f_5"
      },
      "source": [
        "# Архивирование датасета"
      ]
    },
    {
      "cell_type": "code",
      "execution_count": null,
      "metadata": {
        "id": "QysVcspu2le5"
      },
      "outputs": [],
      "source": [
        "with zipfile.ZipFile(\"dataset_price_tags.zip\", mode=\"w\") as archive:\n",
        "  for file_path in dataset_path.rglob(\"*\"):\n",
        "    archive.write(file_path,\n",
        "                  arcname=file_path.relative_to(dataset_path)\n",
        "                 )"
      ]
    },
    {
      "cell_type": "markdown",
      "metadata": {
        "id": "MKdyuRS2oC2N"
      },
      "source": [
        "## Загрузка пользовательского набора данных (размеченного датасета) для дообучения YOLOv8"
      ]
    },
    {
      "cell_type": "markdown",
      "metadata": {
        "id": "VB20lfw1omvc"
      },
      "source": [
        "<h3>Структура пользовательского набора данных</h3>\n",
        "\n",
        ">Обратите внимание, что для дообучения Yolov8 нужна определенная структура папок и файлов:\n",
        "\n",
        "![image.png](data:image/png;base64,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)"
      ]
    },
    {
      "cell_type": "markdown",
      "metadata": {
        "id": "8WlfjKB9wryO"
      },
      "source": [
        "<h3>В файле конфигурации data.yaml для yolov8 показывается:</h3>\n",
        "\n",
        "- количество классов\n",
        "- название классов\n",
        "- расположение изображений и аннотации к ним для тренировочного, валидационного и тестового набора\n",
        "\n",
        "\n",
        "> Пример:\n",
        "\n",
        "`train: ../train/images`\n",
        "\n",
        "`val: ../valid/images`\n",
        "\n",
        "`test: ../test/images`\n",
        "\n",
        "\n",
        "`nc: 1`\n",
        "\n",
        "`names: ['pencil']`\n",
        "\n",
        "\n",
        "\n",
        "\n",
        "\n",
        "\n",
        "\n",
        "\n"
      ]
    },
    {
      "cell_type": "code",
      "execution_count": null,
      "metadata": {
        "id": "JUrsW7UI2urL"
      },
      "outputs": [],
      "source": [
        "import os\n",
        "import glob\n",
        "\n",
        "# Путь к папке с файлами labels\n",
        "labels_path = \"/content/drive/MyDrive/WEB/DataSetSeg/train/labels/\"\n",
        "\n",
        "# Путь к папке с файлами images\n",
        "images_path = \"/content/drive/MyDrive/WEB/DataSetSeg/train/images/\"\n",
        "\n",
        "# Получаем список всех файлов в папке labels с расширением .txt\n",
        "labels_files = glob.glob(labels_path + \"*.txt\")\n",
        "\n",
        "# Получаем список всех файлов в папке images с расширением .jpg\n",
        "images_files = glob.glob(images_path + \"*.jpg\")\n",
        "\n",
        "# Переменные для подсчета количества файлов\n",
        "total_labels = len(labels_files)\n",
        "total_images = len(images_files)\n",
        "\n",
        "# Цикл для проверки и удаления файлов\n",
        "for label_file in labels_files:\n",
        "    # Получаем название файла без расширения\n",
        "    filename = os.path.splitext(os.path.basename(label_file))[0]\n",
        "\n",
        "    # Проверяем, есть ли файл с таким же названием в папке images\n",
        "    if not any(filename in image_file for image_file in images_files):\n",
        "        # Если файла нет, удаляем файл из папки labels\n",
        "        os.remove(label_file)\n",
        "        total_labels -= 1\n",
        "\n",
        "# Выводим итоговое количество файлов\n",
        "print(\"Количество файлов в папке labels:\", total_labels)\n",
        "print(\"Количество файлов в папке images:\", total_images)"
      ]
    },
    {
      "cell_type": "markdown",
      "metadata": {
        "id": "HSuq16d3zjPR"
      },
      "source": [
        "<h3>Пример изображения из тестого набора и аннотации для этого изображения:</h3>"
      ]
    },
    {
      "cell_type": "markdown",
      "metadata": {
        "id": "G4OjzmJQ5Ni0"
      },
      "source": [
        "Изображение:"
      ]
    },
    {
      "cell_type": "code",
      "execution_count": null,
      "metadata": {
        "id": "_CKr-z2C0GRf"
      },
      "outputs": [],
      "source": [
        "from IPython.display import display, Image\n",
        "import random"
      ]
    },
    {
      "cell_type": "code",
      "execution_count": null,
      "metadata": {
        "id": "b4guqkzJ0aMY"
      },
      "outputs": [],
      "source": [
        "from IPython.display import display, Image\n",
        "index = random.randint(0,total_images-1)\n",
        "Image(filename=images_files[index], height=400)\n"
      ]
    },
    {
      "cell_type": "markdown",
      "metadata": {
        "id": "eQOosnAn4vs3"
      },
      "source": [
        "Аннотация\n"
      ]
    },
    {
      "cell_type": "code",
      "execution_count": null,
      "metadata": {
        "id": "iYeh0i-xHlCw"
      },
      "outputs": [],
      "source": [
        "print('Аннотация')\n",
        "with open(labels_files[index]) as f:\n",
        "  print(f.read())"
      ]
    },
    {
      "cell_type": "markdown",
      "metadata": {
        "id": "5me7hL3N6e_U"
      },
      "source": [
        "## Дообучение YOLOv8 на пользовательском датасете\n",
        "\n"
      ]
    },
    {
      "cell_type": "markdown",
      "metadata": {
        "id": "XT4iKDvN3u96"
      },
      "source": [
        "Загрузка библиотеки `ultralytics` для Yolov8"
      ]
    },
    {
      "cell_type": "code",
      "execution_count": null,
      "metadata": {
        "id": "XHxG5pzRIVz9"
      },
      "outputs": [],
      "source": [
        "!pip install ultralytics"
      ]
    },
    {
      "cell_type": "code",
      "execution_count": null,
      "metadata": {
        "id": "tdSMcABDNKW-"
      },
      "outputs": [],
      "source": [
        "import ultralytics\n",
        "ultralytics.checks()"
      ]
    },
    {
      "cell_type": "code",
      "execution_count": null,
      "metadata": {
        "id": "VOEYrlBoP9-E"
      },
      "outputs": [],
      "source": [
        "from ultralytics import YOLO"
      ]
    },
    {
      "cell_type": "code",
      "execution_count": null,
      "metadata": {
        "id": "LD2rV9M87CNM"
      },
      "outputs": [],
      "source": [
        "model = YOLO('yolov8n.pt')\n",
        "results = model.train(data=\"/content/drive/MyDrive/WEB/DataSetSeg/data.yaml\", epochs=100)"
      ]
    },
    {
      "cell_type": "markdown",
      "metadata": {
        "id": "8KNZuGLBAA6u"
      },
      "source": [
        "Графики обучения"
      ]
    },
    {
      "cell_type": "code",
      "execution_count": null,
      "metadata": {
        "id": "A-urTWUkhRmn"
      },
      "outputs": [],
      "source": [
        "Image(filename=f'/content/runs/segment/train/results.png', width=1000)"
      ]
    },
    {
      "cell_type": "code",
      "execution_count": null,
      "metadata": {
        "id": "xUtHEZIbpGdy"
      },
      "outputs": [],
      "source": [
        "Image(filename=f'/content/runs/segment/train/confusion_matrix_normalized.png', width=1000)"
      ]
    },
    {
      "cell_type": "markdown",
      "metadata": {
        "id": "i4eASbcWkQBq"
      },
      "source": [
        "Предсказание для тестового набора"
      ]
    },
    {
      "cell_type": "markdown",
      "metadata": {
        "id": "BOFNT3ldQOr3"
      },
      "source": [
        ">ВНИМАНИЕ!!! Перед запуском следующей ячейки перезапустите среду выполнения. Иначе может возникнуть ошибка:\n",
        "\n",
        "![image.png](data:image/png;base64,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)\n",
        "\n",
        "\n"
      ]
    },
    {
      "cell_type": "code",
      "execution_count": null,
      "metadata": {
        "id": "oqT4qNtjN081"
      },
      "outputs": [],
      "source": [
        "import locale\n",
        "print(locale.getpreferredencoding())\n",
        "locale.getpreferredencoding = lambda: \"UTF-8\"\n",
        "print(locale.getpreferredencoding())"
      ]
    },
    {
      "cell_type": "code",
      "execution_count": null,
      "metadata": {
        "id": "Wjc1ctZykYuf"
      },
      "outputs": [],
      "source": [
        "!yolo task=detect mode=predict model=/content/runs/detect/train/weights/best.pt conf=0.5 source=/content/datasets/test/images save=True"
      ]
    },
    {
      "cell_type": "markdown",
      "metadata": {
        "id": "S1PsAnD9q6CJ"
      },
      "source": [
        "## Предикт"
      ]
    },
    {
      "cell_type": "markdown",
      "metadata": {
        "id": "Qnl_SzSyEaoA"
      },
      "source": [
        "Загрузим веса ранее дообученной модели на 100 эпохах\n",
        "\n"
      ]
    },
    {
      "cell_type": "code",
      "execution_count": null,
      "metadata": {
        "id": "pAiX9P5NELzb"
      },
      "outputs": [],
      "source": [
        "import gdown\n",
        "import zipfile\n",
        "\n",
        "url = \"https://drive.google.com/uc?id=1eD9AOZIC9YCr8TfN3yRoMbbFNloW3m-R\"\n",
        "output = \"ves.zip\"\n",
        "\n",
        "# Скачиваем zip архив\n",
        "gdown.download(url, output, quiet=False)\n",
        "\n",
        "# Распаковываем архив в текущую директорию\n",
        "with zipfile.ZipFile(output, 'r') as zip_ref:\n",
        "    zip_ref.extractall()"
      ]
    },
    {
      "cell_type": "code",
      "execution_count": null,
      "metadata": {
        "id": "En_DRrnZo12P"
      },
      "outputs": [],
      "source": [
        "from ultralytics import YOLO\n",
        "model = YOLO('/content/runs/segment/train/weights/best.pt') # загружаем наши веса в модель"
      ]
    },
    {
      "cell_type": "markdown",
      "metadata": {
        "id": "Nrr8os9MT8Ql"
      },
      "source": [
        "Предсказание"
      ]
    },
    {
      "cell_type": "code",
      "execution_count": null,
      "metadata": {
        "id": "WFvoARSQo7on"
      },
      "outputs": [],
      "source": [
        "results = model.predict(source='/content/drive/MyDrive/WEB/Images/IMG_0498_000881.jpg', conf=0.6)"
      ]
    },
    {
      "cell_type": "markdown",
      "metadata": {
        "id": "PMHNpXrAUcry"
      },
      "source": [
        "Расшифровка объекта `results`"
      ]
    },
    {
      "cell_type": "code",
      "execution_count": null,
      "metadata": {
        "id": "9ah8TW_7pMqI"
      },
      "outputs": [],
      "source": [
        "bboxes_ = results[0].boxes.xyxy.tolist()\n",
        "bboxes = list(map(lambda x: list(map(lambda y: int(y), x)), bboxes_))\n",
        "confs_ = results[0].boxes.conf.tolist()\n",
        "confs = list(map(lambda x: int(x*100), confs_))\n",
        "classes_ = results[0].boxes.cls.tolist()\n",
        "classes = list(map(lambda x: int(x), classes_))\n",
        "cls_dict = results[0].names\n",
        "class_names = list(map(lambda x: cls_dict[x], classes))"
      ]
    },
    {
      "cell_type": "code",
      "execution_count": null,
      "metadata": {
        "id": "mU3kat0bUUdT"
      },
      "outputs": [],
      "source": [
        "print('координаты рамки:',bboxes)\n",
        "print('уверенность:', confs)\n",
        "print('класс объекта:', classes)\n",
        "print('имя класса:', class_names)"
      ]
    },
    {
      "cell_type": "markdown",
      "metadata": {
        "id": "3ql_ANaUTK5z"
      },
      "source": [
        "Координаты ограничивающей рамки"
      ]
    },
    {
      "cell_type": "code",
      "execution_count": null,
      "metadata": {
        "id": "wu-ENL1gr5wC"
      },
      "outputs": [],
      "source": [
        "x1 = int(bboxes_[0][0])\n",
        "y1 = int(bboxes_[0][1])\n",
        "x2 = int(bboxes_[0][2])\n",
        "y2 = int(bboxes_[0][3])"
      ]
    },
    {
      "cell_type": "markdown",
      "metadata": {
        "id": "UJd2ZJ_9Taxs"
      },
      "source": [
        "Изображение вместе с предсказанной ограничивающей рамкой\n",
        "\n"
      ]
    },
    {
      "cell_type": "code",
      "execution_count": null,
      "metadata": {
        "id": "uOp0gt1sr_wa"
      },
      "outputs": [],
      "source": [
        "import cv2\n",
        "from google.colab.patches import cv2_imshow\n",
        "# Загрузка изображения\n",
        "img = cv2.imread('/content/drive/MyDrive/WEB/Images/IMG_0498_000881.jpg')\n",
        "\n",
        "# Создание bounding box\n",
        "cv2.rectangle(img, (x1, y1), (x2, y2), (0, 255, 0), 3)\n",
        "\n",
        "# Вывод результата на экран\n",
        "cv2_imshow(img)\n",
        "cv2.waitKey(0)\n",
        "cv2.destroyAllWindows()"
      ]
    }
  ],
  "metadata": {
    "colab": {
      "provenance": []
    },
    "kernelspec": {
      "display_name": "Python 3",
      "name": "python3"
    },
    "language_info": {
      "name": "python"
    },
    "widgets": {
      "application/vnd.jupyter.widget-state+json": {
        "06a32189c59a453ea0f69ecc4dc3f064": {
          "model_module": "@jupyter-widgets/controls",
          "model_module_version": "1.5.0",
          "model_name": "HTMLModel",
          "state": {
            "_dom_classes": [],
            "_model_module": "@jupyter-widgets/controls",
            "_model_module_version": "1.5.0",
            "_model_name": "HTMLModel",
            "_view_count": null,
            "_view_module": "@jupyter-widgets/controls",
            "_view_module_version": "1.5.0",
            "_view_name": "HTMLView",
            "description": "",
            "description_tooltip": null,
            "layout": "IPY_MODEL_b23d02c9ca73443fa483261666ffbdf7",
            "placeholder": "​",
            "style": "IPY_MODEL_8631228025584ddba60b921b29a006c0",
            "value": " 570/570 [00:00&lt;00:00, 39.1kB/s]"
          }
        },
        "06d3af9020b745cbb729aba19cf65486": {
          "model_module": "@jupyter-widgets/controls",
          "model_module_version": "1.5.0",
          "model_name": "HBoxModel",
          "state": {
            "_dom_classes": [],
            "_model_module": "@jupyter-widgets/controls",
            "_model_module_version": "1.5.0",
            "_model_name": "HBoxModel",
            "_view_count": null,
            "_view_module": "@jupyter-widgets/controls",
            "_view_module_version": "1.5.0",
            "_view_name": "HBoxView",
            "box_style": "",
            "children": [
              "IPY_MODEL_af101509501444648209a00d1dd600f5",
              "IPY_MODEL_55e4395f0eff48eb8e34dc28a3c339c2",
              "IPY_MODEL_06a32189c59a453ea0f69ecc4dc3f064"
            ],
            "layout": "IPY_MODEL_70c7b2e9be7a4edcad0ed82f4f9cb21b"
          }
        },
        "0b4120aff4064a9f9922514a707c5f7f": {
          "model_module": "@jupyter-widgets/base",
          "model_module_version": "1.2.0",
          "model_name": "LayoutModel",
          "state": {
            "_model_module": "@jupyter-widgets/base",
            "_model_module_version": "1.2.0",
            "_model_name": "LayoutModel",
            "_view_count": null,
            "_view_module": "@jupyter-widgets/base",
            "_view_module_version": "1.2.0",
            "_view_name": "LayoutView",
            "align_content": null,
            "align_items": null,
            "align_self": null,
            "border": null,
            "bottom": null,
            "display": null,
            "flex": null,
            "flex_flow": null,
            "grid_area": null,
            "grid_auto_columns": null,
            "grid_auto_flow": null,
            "grid_auto_rows": null,
            "grid_column": null,
            "grid_gap": null,
            "grid_row": null,
            "grid_template_areas": null,
            "grid_template_columns": null,
            "grid_template_rows": null,
            "height": null,
            "justify_content": null,
            "justify_items": null,
            "left": null,
            "margin": null,
            "max_height": null,
            "max_width": null,
            "min_height": null,
            "min_width": null,
            "object_fit": null,
            "object_position": null,
            "order": null,
            "overflow": null,
            "overflow_x": null,
            "overflow_y": null,
            "padding": null,
            "right": null,
            "top": null,
            "visibility": null,
            "width": null
          }
        },
        "0df68d99967b471faead7238d18a37c7": {
          "model_module": "@jupyter-widgets/base",
          "model_module_version": "1.2.0",
          "model_name": "LayoutModel",
          "state": {
            "_model_module": "@jupyter-widgets/base",
            "_model_module_version": "1.2.0",
            "_model_name": "LayoutModel",
            "_view_count": null,
            "_view_module": "@jupyter-widgets/base",
            "_view_module_version": "1.2.0",
            "_view_name": "LayoutView",
            "align_content": null,
            "align_items": null,
            "align_self": null,
            "border": null,
            "bottom": null,
            "display": null,
            "flex": null,
            "flex_flow": null,
            "grid_area": null,
            "grid_auto_columns": null,
            "grid_auto_flow": null,
            "grid_auto_rows": null,
            "grid_column": null,
            "grid_gap": null,
            "grid_row": null,
            "grid_template_areas": null,
            "grid_template_columns": null,
            "grid_template_rows": null,
            "height": null,
            "justify_content": null,
            "justify_items": null,
            "left": null,
            "margin": null,
            "max_height": null,
            "max_width": null,
            "min_height": null,
            "min_width": null,
            "object_fit": null,
            "object_position": null,
            "order": null,
            "overflow": null,
            "overflow_x": null,
            "overflow_y": null,
            "padding": null,
            "right": null,
            "top": null,
            "visibility": null,
            "width": null
          }
        },
        "0f320e202568496a817aa9bcc07f66f3": {
          "model_module": "@jupyter-widgets/controls",
          "model_module_version": "1.5.0",
          "model_name": "FloatProgressModel",
          "state": {
            "_dom_classes": [],
            "_model_module": "@jupyter-widgets/controls",
            "_model_module_version": "1.5.0",
            "_model_name": "FloatProgressModel",
            "_view_count": null,
            "_view_module": "@jupyter-widgets/controls",
            "_view_module_version": "1.5.0",
            "_view_name": "ProgressView",
            "bar_style": "success",
            "description": "",
            "description_tooltip": null,
            "layout": "IPY_MODEL_8f08a08fa7be434b832802f2560ac1d7",
            "max": 440449768,
            "min": 0,
            "orientation": "horizontal",
            "style": "IPY_MODEL_d828a95dfe14461eaab8c2f1c4dab02f",
            "value": 440449768
          }
        },
        "228ff703608e4a40849eda56f6b44330": {
          "model_module": "@jupyter-widgets/controls",
          "model_module_version": "1.5.0",
          "model_name": "DescriptionStyleModel",
          "state": {
            "_model_module": "@jupyter-widgets/controls",
            "_model_module_version": "1.5.0",
            "_model_name": "DescriptionStyleModel",
            "_view_count": null,
            "_view_module": "@jupyter-widgets/base",
            "_view_module_version": "1.2.0",
            "_view_name": "StyleView",
            "description_width": ""
          }
        },
        "2f72d8ec6c1f409d9508e11c4fa74a55": {
          "model_module": "@jupyter-widgets/controls",
          "model_module_version": "1.5.0",
          "model_name": "DescriptionStyleModel",
          "state": {
            "_model_module": "@jupyter-widgets/controls",
            "_model_module_version": "1.5.0",
            "_model_name": "DescriptionStyleModel",
            "_view_count": null,
            "_view_module": "@jupyter-widgets/base",
            "_view_module_version": "1.2.0",
            "_view_name": "StyleView",
            "description_width": ""
          }
        },
        "335db62c3669443e80650617c2677c29": {
          "model_module": "@jupyter-widgets/base",
          "model_module_version": "1.2.0",
          "model_name": "LayoutModel",
          "state": {
            "_model_module": "@jupyter-widgets/base",
            "_model_module_version": "1.2.0",
            "_model_name": "LayoutModel",
            "_view_count": null,
            "_view_module": "@jupyter-widgets/base",
            "_view_module_version": "1.2.0",
            "_view_name": "LayoutView",
            "align_content": null,
            "align_items": null,
            "align_self": null,
            "border": null,
            "bottom": null,
            "display": null,
            "flex": null,
            "flex_flow": null,
            "grid_area": null,
            "grid_auto_columns": null,
            "grid_auto_flow": null,
            "grid_auto_rows": null,
            "grid_column": null,
            "grid_gap": null,
            "grid_row": null,
            "grid_template_areas": null,
            "grid_template_columns": null,
            "grid_template_rows": null,
            "height": null,
            "justify_content": null,
            "justify_items": null,
            "left": null,
            "margin": null,
            "max_height": null,
            "max_width": null,
            "min_height": null,
            "min_width": null,
            "object_fit": null,
            "object_position": null,
            "order": null,
            "overflow": null,
            "overflow_x": null,
            "overflow_y": null,
            "padding": null,
            "right": null,
            "top": null,
            "visibility": null,
            "width": null
          }
        },
        "3751ecbaceb24d6eac90965b7babaae8": {
          "model_module": "@jupyter-widgets/controls",
          "model_module_version": "1.5.0",
          "model_name": "DescriptionStyleModel",
          "state": {
            "_model_module": "@jupyter-widgets/controls",
            "_model_module_version": "1.5.0",
            "_model_name": "DescriptionStyleModel",
            "_view_count": null,
            "_view_module": "@jupyter-widgets/base",
            "_view_module_version": "1.2.0",
            "_view_name": "StyleView",
            "description_width": ""
          }
        },
        "3c546c0de695420685065550e0f51b99": {
          "model_module": "@jupyter-widgets/base",
          "model_module_version": "1.2.0",
          "model_name": "LayoutModel",
          "state": {
            "_model_module": "@jupyter-widgets/base",
            "_model_module_version": "1.2.0",
            "_model_name": "LayoutModel",
            "_view_count": null,
            "_view_module": "@jupyter-widgets/base",
            "_view_module_version": "1.2.0",
            "_view_name": "LayoutView",
            "align_content": null,
            "align_items": null,
            "align_self": null,
            "border": null,
            "bottom": null,
            "display": null,
            "flex": null,
            "flex_flow": null,
            "grid_area": null,
            "grid_auto_columns": null,
            "grid_auto_flow": null,
            "grid_auto_rows": null,
            "grid_column": null,
            "grid_gap": null,
            "grid_row": null,
            "grid_template_areas": null,
            "grid_template_columns": null,
            "grid_template_rows": null,
            "height": null,
            "justify_content": null,
            "justify_items": null,
            "left": null,
            "margin": null,
            "max_height": null,
            "max_width": null,
            "min_height": null,
            "min_width": null,
            "object_fit": null,
            "object_position": null,
            "order": null,
            "overflow": null,
            "overflow_x": null,
            "overflow_y": null,
            "padding": null,
            "right": null,
            "top": null,
            "visibility": null,
            "width": null
          }
        },
        "4436725c1e9847c7b39fb16d112a68eb": {
          "model_module": "@jupyter-widgets/base",
          "model_module_version": "1.2.0",
          "model_name": "LayoutModel",
          "state": {
            "_model_module": "@jupyter-widgets/base",
            "_model_module_version": "1.2.0",
            "_model_name": "LayoutModel",
            "_view_count": null,
            "_view_module": "@jupyter-widgets/base",
            "_view_module_version": "1.2.0",
            "_view_name": "LayoutView",
            "align_content": null,
            "align_items": null,
            "align_self": null,
            "border": null,
            "bottom": null,
            "display": null,
            "flex": null,
            "flex_flow": null,
            "grid_area": null,
            "grid_auto_columns": null,
            "grid_auto_flow": null,
            "grid_auto_rows": null,
            "grid_column": null,
            "grid_gap": null,
            "grid_row": null,
            "grid_template_areas": null,
            "grid_template_columns": null,
            "grid_template_rows": null,
            "height": null,
            "justify_content": null,
            "justify_items": null,
            "left": null,
            "margin": null,
            "max_height": null,
            "max_width": null,
            "min_height": null,
            "min_width": null,
            "object_fit": null,
            "object_position": null,
            "order": null,
            "overflow": null,
            "overflow_x": null,
            "overflow_y": null,
            "padding": null,
            "right": null,
            "top": null,
            "visibility": null,
            "width": null
          }
        },
        "4794c57e7cc3471497920d6f410db1bd": {
          "model_module": "@jupyter-widgets/controls",
          "model_module_version": "1.5.0",
          "model_name": "FloatProgressModel",
          "state": {
            "_dom_classes": [],
            "_model_module": "@jupyter-widgets/controls",
            "_model_module_version": "1.5.0",
            "_model_name": "FloatProgressModel",
            "_view_count": null,
            "_view_module": "@jupyter-widgets/controls",
            "_view_module_version": "1.5.0",
            "_view_name": "ProgressView",
            "bar_style": "success",
            "description": "",
            "description_tooltip": null,
            "layout": "IPY_MODEL_81ee9242bd744974b6821e76c7570ea5",
            "max": 231508,
            "min": 0,
            "orientation": "horizontal",
            "style": "IPY_MODEL_83ec722b8950444c96fb519f50d8f32c",
            "value": 231508
          }
        },
        "4d4402dc8cee4b80922394cf7d97e152": {
          "model_module": "@jupyter-widgets/controls",
          "model_module_version": "1.5.0",
          "model_name": "HTMLModel",
          "state": {
            "_dom_classes": [],
            "_model_module": "@jupyter-widgets/controls",
            "_model_module_version": "1.5.0",
            "_model_name": "HTMLModel",
            "_view_count": null,
            "_view_module": "@jupyter-widgets/controls",
            "_view_module_version": "1.5.0",
            "_view_name": "HTMLView",
            "description": "",
            "description_tooltip": null,
            "layout": "IPY_MODEL_0b4120aff4064a9f9922514a707c5f7f",
            "placeholder": "​",
            "style": "IPY_MODEL_bc57e281be1b4d27afa868355529faad",
            "value": "model.safetensors: 100%"
          }
        },
        "55e4395f0eff48eb8e34dc28a3c339c2": {
          "model_module": "@jupyter-widgets/controls",
          "model_module_version": "1.5.0",
          "model_name": "FloatProgressModel",
          "state": {
            "_dom_classes": [],
            "_model_module": "@jupyter-widgets/controls",
            "_model_module_version": "1.5.0",
            "_model_name": "FloatProgressModel",
            "_view_count": null,
            "_view_module": "@jupyter-widgets/controls",
            "_view_module_version": "1.5.0",
            "_view_name": "ProgressView",
            "bar_style": "success",
            "description": "",
            "description_tooltip": null,
            "layout": "IPY_MODEL_0df68d99967b471faead7238d18a37c7",
            "max": 570,
            "min": 0,
            "orientation": "horizontal",
            "style": "IPY_MODEL_dd9b23d03c714d4ca2f61c1e38390bbd",
            "value": 570
          }
        },
        "58451693bfb84469ac6be230bd26c742": {
          "model_module": "@jupyter-widgets/controls",
          "model_module_version": "1.5.0",
          "model_name": "HBoxModel",
          "state": {
            "_dom_classes": [],
            "_model_module": "@jupyter-widgets/controls",
            "_model_module_version": "1.5.0",
            "_model_name": "HBoxModel",
            "_view_count": null,
            "_view_module": "@jupyter-widgets/controls",
            "_view_module_version": "1.5.0",
            "_view_name": "HBoxView",
            "box_style": "",
            "children": [
              "IPY_MODEL_8f54c859da1748c585fa8ed38b9f6d3d",
              "IPY_MODEL_e0d5520c570d463cbdd1162619928731",
              "IPY_MODEL_e4919e38e7914fd1b6f34f418288a97f"
            ],
            "layout": "IPY_MODEL_94ea585a2f7b40718e5cb0a0259a3e8c"
          }
        },
        "5c8f5608486b49dd87fe1473cc2f0df3": {
          "model_module": "@jupyter-widgets/controls",
          "model_module_version": "1.5.0",
          "model_name": "ProgressStyleModel",
          "state": {
            "_model_module": "@jupyter-widgets/controls",
            "_model_module_version": "1.5.0",
            "_model_name": "ProgressStyleModel",
            "_view_count": null,
            "_view_module": "@jupyter-widgets/base",
            "_view_module_version": "1.2.0",
            "_view_name": "StyleView",
            "bar_color": null,
            "description_width": ""
          }
        },
        "60748112968f4af098b2c86cb10d59d1": {
          "model_module": "@jupyter-widgets/base",
          "model_module_version": "1.2.0",
          "model_name": "LayoutModel",
          "state": {
            "_model_module": "@jupyter-widgets/base",
            "_model_module_version": "1.2.0",
            "_model_name": "LayoutModel",
            "_view_count": null,
            "_view_module": "@jupyter-widgets/base",
            "_view_module_version": "1.2.0",
            "_view_name": "LayoutView",
            "align_content": null,
            "align_items": null,
            "align_self": null,
            "border": null,
            "bottom": null,
            "display": null,
            "flex": null,
            "flex_flow": null,
            "grid_area": null,
            "grid_auto_columns": null,
            "grid_auto_flow": null,
            "grid_auto_rows": null,
            "grid_column": null,
            "grid_gap": null,
            "grid_row": null,
            "grid_template_areas": null,
            "grid_template_columns": null,
            "grid_template_rows": null,
            "height": null,
            "justify_content": null,
            "justify_items": null,
            "left": null,
            "margin": null,
            "max_height": null,
            "max_width": null,
            "min_height": null,
            "min_width": null,
            "object_fit": null,
            "object_position": null,
            "order": null,
            "overflow": null,
            "overflow_x": null,
            "overflow_y": null,
            "padding": null,
            "right": null,
            "top": null,
            "visibility": null,
            "width": null
          }
        },
        "63d950112fe345c89d7fa9f13a1e7636": {
          "model_module": "@jupyter-widgets/controls",
          "model_module_version": "1.5.0",
          "model_name": "DescriptionStyleModel",
          "state": {
            "_model_module": "@jupyter-widgets/controls",
            "_model_module_version": "1.5.0",
            "_model_name": "DescriptionStyleModel",
            "_view_count": null,
            "_view_module": "@jupyter-widgets/base",
            "_view_module_version": "1.2.0",
            "_view_name": "StyleView",
            "description_width": ""
          }
        },
        "64577a5df7df418c91b34b7364d04671": {
          "model_module": "@jupyter-widgets/controls",
          "model_module_version": "1.5.0",
          "model_name": "FloatProgressModel",
          "state": {
            "_dom_classes": [],
            "_model_module": "@jupyter-widgets/controls",
            "_model_module_version": "1.5.0",
            "_model_name": "FloatProgressModel",
            "_view_count": null,
            "_view_module": "@jupyter-widgets/controls",
            "_view_module_version": "1.5.0",
            "_view_name": "ProgressView",
            "bar_style": "success",
            "description": "",
            "description_tooltip": null,
            "layout": "IPY_MODEL_3c546c0de695420685065550e0f51b99",
            "max": 466062,
            "min": 0,
            "orientation": "horizontal",
            "style": "IPY_MODEL_5c8f5608486b49dd87fe1473cc2f0df3",
            "value": 466062
          }
        },
        "6904f395d74c43c38d94f44fbe193a28": {
          "model_module": "@jupyter-widgets/base",
          "model_module_version": "1.2.0",
          "model_name": "LayoutModel",
          "state": {
            "_model_module": "@jupyter-widgets/base",
            "_model_module_version": "1.2.0",
            "_model_name": "LayoutModel",
            "_view_count": null,
            "_view_module": "@jupyter-widgets/base",
            "_view_module_version": "1.2.0",
            "_view_name": "LayoutView",
            "align_content": null,
            "align_items": null,
            "align_self": null,
            "border": null,
            "bottom": null,
            "display": null,
            "flex": null,
            "flex_flow": null,
            "grid_area": null,
            "grid_auto_columns": null,
            "grid_auto_flow": null,
            "grid_auto_rows": null,
            "grid_column": null,
            "grid_gap": null,
            "grid_row": null,
            "grid_template_areas": null,
            "grid_template_columns": null,
            "grid_template_rows": null,
            "height": null,
            "justify_content": null,
            "justify_items": null,
            "left": null,
            "margin": null,
            "max_height": null,
            "max_width": null,
            "min_height": null,
            "min_width": null,
            "object_fit": null,
            "object_position": null,
            "order": null,
            "overflow": null,
            "overflow_x": null,
            "overflow_y": null,
            "padding": null,
            "right": null,
            "top": null,
            "visibility": null,
            "width": null
          }
        },
        "6a736b42168d45d8b98bfda33d396443": {
          "model_module": "@jupyter-widgets/controls",
          "model_module_version": "1.5.0",
          "model_name": "HTMLModel",
          "state": {
            "_dom_classes": [],
            "_model_module": "@jupyter-widgets/controls",
            "_model_module_version": "1.5.0",
            "_model_name": "HTMLModel",
            "_view_count": null,
            "_view_module": "@jupyter-widgets/controls",
            "_view_module_version": "1.5.0",
            "_view_name": "HTMLView",
            "description": "",
            "description_tooltip": null,
            "layout": "IPY_MODEL_7c012a0aa0b14c368fca083613641ea4",
            "placeholder": "​",
            "style": "IPY_MODEL_cbadfddb5c124c1a9838fd115aa16d0e",
            "value": "tokenizer.json: 100%"
          }
        },
        "70c7b2e9be7a4edcad0ed82f4f9cb21b": {
          "model_module": "@jupyter-widgets/base",
          "model_module_version": "1.2.0",
          "model_name": "LayoutModel",
          "state": {
            "_model_module": "@jupyter-widgets/base",
            "_model_module_version": "1.2.0",
            "_model_name": "LayoutModel",
            "_view_count": null,
            "_view_module": "@jupyter-widgets/base",
            "_view_module_version": "1.2.0",
            "_view_name": "LayoutView",
            "align_content": null,
            "align_items": null,
            "align_self": null,
            "border": null,
            "bottom": null,
            "display": null,
            "flex": null,
            "flex_flow": null,
            "grid_area": null,
            "grid_auto_columns": null,
            "grid_auto_flow": null,
            "grid_auto_rows": null,
            "grid_column": null,
            "grid_gap": null,
            "grid_row": null,
            "grid_template_areas": null,
            "grid_template_columns": null,
            "grid_template_rows": null,
            "height": null,
            "justify_content": null,
            "justify_items": null,
            "left": null,
            "margin": null,
            "max_height": null,
            "max_width": null,
            "min_height": null,
            "min_width": null,
            "object_fit": null,
            "object_position": null,
            "order": null,
            "overflow": null,
            "overflow_x": null,
            "overflow_y": null,
            "padding": null,
            "right": null,
            "top": null,
            "visibility": null,
            "width": null
          }
        },
        "731f6db8ae8c48749df41ceacf35c082": {
          "model_module": "@jupyter-widgets/base",
          "model_module_version": "1.2.0",
          "model_name": "LayoutModel",
          "state": {
            "_model_module": "@jupyter-widgets/base",
            "_model_module_version": "1.2.0",
            "_model_name": "LayoutModel",
            "_view_count": null,
            "_view_module": "@jupyter-widgets/base",
            "_view_module_version": "1.2.0",
            "_view_name": "LayoutView",
            "align_content": null,
            "align_items": null,
            "align_self": null,
            "border": null,
            "bottom": null,
            "display": null,
            "flex": null,
            "flex_flow": null,
            "grid_area": null,
            "grid_auto_columns": null,
            "grid_auto_flow": null,
            "grid_auto_rows": null,
            "grid_column": null,
            "grid_gap": null,
            "grid_row": null,
            "grid_template_areas": null,
            "grid_template_columns": null,
            "grid_template_rows": null,
            "height": null,
            "justify_content": null,
            "justify_items": null,
            "left": null,
            "margin": null,
            "max_height": null,
            "max_width": null,
            "min_height": null,
            "min_width": null,
            "object_fit": null,
            "object_position": null,
            "order": null,
            "overflow": null,
            "overflow_x": null,
            "overflow_y": null,
            "padding": null,
            "right": null,
            "top": null,
            "visibility": null,
            "width": null
          }
        },
        "753c49aa90904a7398120c51cf0ecab9": {
          "model_module": "@jupyter-widgets/controls",
          "model_module_version": "1.5.0",
          "model_name": "DescriptionStyleModel",
          "state": {
            "_model_module": "@jupyter-widgets/controls",
            "_model_module_version": "1.5.0",
            "_model_name": "DescriptionStyleModel",
            "_view_count": null,
            "_view_module": "@jupyter-widgets/base",
            "_view_module_version": "1.2.0",
            "_view_name": "StyleView",
            "description_width": ""
          }
        },
        "78d7364a61eb4f43a70c9ffe01ce4453": {
          "model_module": "@jupyter-widgets/controls",
          "model_module_version": "1.5.0",
          "model_name": "HBoxModel",
          "state": {
            "_dom_classes": [],
            "_model_module": "@jupyter-widgets/controls",
            "_model_module_version": "1.5.0",
            "_model_name": "HBoxModel",
            "_view_count": null,
            "_view_module": "@jupyter-widgets/controls",
            "_view_module_version": "1.5.0",
            "_view_name": "HBoxView",
            "box_style": "",
            "children": [
              "IPY_MODEL_4d4402dc8cee4b80922394cf7d97e152",
              "IPY_MODEL_0f320e202568496a817aa9bcc07f66f3",
              "IPY_MODEL_b6c941496baf4148b8b546f38ca28b47"
            ],
            "layout": "IPY_MODEL_8e9d7ef72c714b2fa25993426fa9af1d"
          }
        },
        "7c012a0aa0b14c368fca083613641ea4": {
          "model_module": "@jupyter-widgets/base",
          "model_module_version": "1.2.0",
          "model_name": "LayoutModel",
          "state": {
            "_model_module": "@jupyter-widgets/base",
            "_model_module_version": "1.2.0",
            "_model_name": "LayoutModel",
            "_view_count": null,
            "_view_module": "@jupyter-widgets/base",
            "_view_module_version": "1.2.0",
            "_view_name": "LayoutView",
            "align_content": null,
            "align_items": null,
            "align_self": null,
            "border": null,
            "bottom": null,
            "display": null,
            "flex": null,
            "flex_flow": null,
            "grid_area": null,
            "grid_auto_columns": null,
            "grid_auto_flow": null,
            "grid_auto_rows": null,
            "grid_column": null,
            "grid_gap": null,
            "grid_row": null,
            "grid_template_areas": null,
            "grid_template_columns": null,
            "grid_template_rows": null,
            "height": null,
            "justify_content": null,
            "justify_items": null,
            "left": null,
            "margin": null,
            "max_height": null,
            "max_width": null,
            "min_height": null,
            "min_width": null,
            "object_fit": null,
            "object_position": null,
            "order": null,
            "overflow": null,
            "overflow_x": null,
            "overflow_y": null,
            "padding": null,
            "right": null,
            "top": null,
            "visibility": null,
            "width": null
          }
        },
        "7c293a952a694c0d8f431d5d33183c28": {
          "model_module": "@jupyter-widgets/controls",
          "model_module_version": "1.5.0",
          "model_name": "DescriptionStyleModel",
          "state": {
            "_model_module": "@jupyter-widgets/controls",
            "_model_module_version": "1.5.0",
            "_model_name": "DescriptionStyleModel",
            "_view_count": null,
            "_view_module": "@jupyter-widgets/base",
            "_view_module_version": "1.2.0",
            "_view_name": "StyleView",
            "description_width": ""
          }
        },
        "80c905800dd04d4883d89ef81d872d96": {
          "model_module": "@jupyter-widgets/base",
          "model_module_version": "1.2.0",
          "model_name": "LayoutModel",
          "state": {
            "_model_module": "@jupyter-widgets/base",
            "_model_module_version": "1.2.0",
            "_model_name": "LayoutModel",
            "_view_count": null,
            "_view_module": "@jupyter-widgets/base",
            "_view_module_version": "1.2.0",
            "_view_name": "LayoutView",
            "align_content": null,
            "align_items": null,
            "align_self": null,
            "border": null,
            "bottom": null,
            "display": null,
            "flex": null,
            "flex_flow": null,
            "grid_area": null,
            "grid_auto_columns": null,
            "grid_auto_flow": null,
            "grid_auto_rows": null,
            "grid_column": null,
            "grid_gap": null,
            "grid_row": null,
            "grid_template_areas": null,
            "grid_template_columns": null,
            "grid_template_rows": null,
            "height": null,
            "justify_content": null,
            "justify_items": null,
            "left": null,
            "margin": null,
            "max_height": null,
            "max_width": null,
            "min_height": null,
            "min_width": null,
            "object_fit": null,
            "object_position": null,
            "order": null,
            "overflow": null,
            "overflow_x": null,
            "overflow_y": null,
            "padding": null,
            "right": null,
            "top": null,
            "visibility": null,
            "width": null
          }
        },
        "816b098b431f43ad8c8586e8f3f10f04": {
          "model_module": "@jupyter-widgets/controls",
          "model_module_version": "1.5.0",
          "model_name": "HBoxModel",
          "state": {
            "_dom_classes": [],
            "_model_module": "@jupyter-widgets/controls",
            "_model_module_version": "1.5.0",
            "_model_name": "HBoxModel",
            "_view_count": null,
            "_view_module": "@jupyter-widgets/controls",
            "_view_module_version": "1.5.0",
            "_view_name": "HBoxView",
            "box_style": "",
            "children": [
              "IPY_MODEL_6a736b42168d45d8b98bfda33d396443",
              "IPY_MODEL_64577a5df7df418c91b34b7364d04671",
              "IPY_MODEL_eb949dcec50c423b8a8c3f0881625c04"
            ],
            "layout": "IPY_MODEL_9fa138e917af4dbe81ff711f6018189b"
          }
        },
        "81ee9242bd744974b6821e76c7570ea5": {
          "model_module": "@jupyter-widgets/base",
          "model_module_version": "1.2.0",
          "model_name": "LayoutModel",
          "state": {
            "_model_module": "@jupyter-widgets/base",
            "_model_module_version": "1.2.0",
            "_model_name": "LayoutModel",
            "_view_count": null,
            "_view_module": "@jupyter-widgets/base",
            "_view_module_version": "1.2.0",
            "_view_name": "LayoutView",
            "align_content": null,
            "align_items": null,
            "align_self": null,
            "border": null,
            "bottom": null,
            "display": null,
            "flex": null,
            "flex_flow": null,
            "grid_area": null,
            "grid_auto_columns": null,
            "grid_auto_flow": null,
            "grid_auto_rows": null,
            "grid_column": null,
            "grid_gap": null,
            "grid_row": null,
            "grid_template_areas": null,
            "grid_template_columns": null,
            "grid_template_rows": null,
            "height": null,
            "justify_content": null,
            "justify_items": null,
            "left": null,
            "margin": null,
            "max_height": null,
            "max_width": null,
            "min_height": null,
            "min_width": null,
            "object_fit": null,
            "object_position": null,
            "order": null,
            "overflow": null,
            "overflow_x": null,
            "overflow_y": null,
            "padding": null,
            "right": null,
            "top": null,
            "visibility": null,
            "width": null
          }
        },
        "83ec722b8950444c96fb519f50d8f32c": {
          "model_module": "@jupyter-widgets/controls",
          "model_module_version": "1.5.0",
          "model_name": "ProgressStyleModel",
          "state": {
            "_model_module": "@jupyter-widgets/controls",
            "_model_module_version": "1.5.0",
            "_model_name": "ProgressStyleModel",
            "_view_count": null,
            "_view_module": "@jupyter-widgets/base",
            "_view_module_version": "1.2.0",
            "_view_name": "StyleView",
            "bar_color": null,
            "description_width": ""
          }
        },
        "8631228025584ddba60b921b29a006c0": {
          "model_module": "@jupyter-widgets/controls",
          "model_module_version": "1.5.0",
          "model_name": "DescriptionStyleModel",
          "state": {
            "_model_module": "@jupyter-widgets/controls",
            "_model_module_version": "1.5.0",
            "_model_name": "DescriptionStyleModel",
            "_view_count": null,
            "_view_module": "@jupyter-widgets/base",
            "_view_module_version": "1.2.0",
            "_view_name": "StyleView",
            "description_width": ""
          }
        },
        "8e9d7ef72c714b2fa25993426fa9af1d": {
          "model_module": "@jupyter-widgets/base",
          "model_module_version": "1.2.0",
          "model_name": "LayoutModel",
          "state": {
            "_model_module": "@jupyter-widgets/base",
            "_model_module_version": "1.2.0",
            "_model_name": "LayoutModel",
            "_view_count": null,
            "_view_module": "@jupyter-widgets/base",
            "_view_module_version": "1.2.0",
            "_view_name": "LayoutView",
            "align_content": null,
            "align_items": null,
            "align_self": null,
            "border": null,
            "bottom": null,
            "display": null,
            "flex": null,
            "flex_flow": null,
            "grid_area": null,
            "grid_auto_columns": null,
            "grid_auto_flow": null,
            "grid_auto_rows": null,
            "grid_column": null,
            "grid_gap": null,
            "grid_row": null,
            "grid_template_areas": null,
            "grid_template_columns": null,
            "grid_template_rows": null,
            "height": null,
            "justify_content": null,
            "justify_items": null,
            "left": null,
            "margin": null,
            "max_height": null,
            "max_width": null,
            "min_height": null,
            "min_width": null,
            "object_fit": null,
            "object_position": null,
            "order": null,
            "overflow": null,
            "overflow_x": null,
            "overflow_y": null,
            "padding": null,
            "right": null,
            "top": null,
            "visibility": null,
            "width": null
          }
        },
        "8f08a08fa7be434b832802f2560ac1d7": {
          "model_module": "@jupyter-widgets/base",
          "model_module_version": "1.2.0",
          "model_name": "LayoutModel",
          "state": {
            "_model_module": "@jupyter-widgets/base",
            "_model_module_version": "1.2.0",
            "_model_name": "LayoutModel",
            "_view_count": null,
            "_view_module": "@jupyter-widgets/base",
            "_view_module_version": "1.2.0",
            "_view_name": "LayoutView",
            "align_content": null,
            "align_items": null,
            "align_self": null,
            "border": null,
            "bottom": null,
            "display": null,
            "flex": null,
            "flex_flow": null,
            "grid_area": null,
            "grid_auto_columns": null,
            "grid_auto_flow": null,
            "grid_auto_rows": null,
            "grid_column": null,
            "grid_gap": null,
            "grid_row": null,
            "grid_template_areas": null,
            "grid_template_columns": null,
            "grid_template_rows": null,
            "height": null,
            "justify_content": null,
            "justify_items": null,
            "left": null,
            "margin": null,
            "max_height": null,
            "max_width": null,
            "min_height": null,
            "min_width": null,
            "object_fit": null,
            "object_position": null,
            "order": null,
            "overflow": null,
            "overflow_x": null,
            "overflow_y": null,
            "padding": null,
            "right": null,
            "top": null,
            "visibility": null,
            "width": null
          }
        },
        "8f54c859da1748c585fa8ed38b9f6d3d": {
          "model_module": "@jupyter-widgets/controls",
          "model_module_version": "1.5.0",
          "model_name": "HTMLModel",
          "state": {
            "_dom_classes": [],
            "_model_module": "@jupyter-widgets/controls",
            "_model_module_version": "1.5.0",
            "_model_name": "HTMLModel",
            "_view_count": null,
            "_view_module": "@jupyter-widgets/controls",
            "_view_module_version": "1.5.0",
            "_view_name": "HTMLView",
            "description": "",
            "description_tooltip": null,
            "layout": "IPY_MODEL_731f6db8ae8c48749df41ceacf35c082",
            "placeholder": "​",
            "style": "IPY_MODEL_3751ecbaceb24d6eac90965b7babaae8",
            "value": "tokenizer_config.json: 100%"
          }
        },
        "94ea585a2f7b40718e5cb0a0259a3e8c": {
          "model_module": "@jupyter-widgets/base",
          "model_module_version": "1.2.0",
          "model_name": "LayoutModel",
          "state": {
            "_model_module": "@jupyter-widgets/base",
            "_model_module_version": "1.2.0",
            "_model_name": "LayoutModel",
            "_view_count": null,
            "_view_module": "@jupyter-widgets/base",
            "_view_module_version": "1.2.0",
            "_view_name": "LayoutView",
            "align_content": null,
            "align_items": null,
            "align_self": null,
            "border": null,
            "bottom": null,
            "display": null,
            "flex": null,
            "flex_flow": null,
            "grid_area": null,
            "grid_auto_columns": null,
            "grid_auto_flow": null,
            "grid_auto_rows": null,
            "grid_column": null,
            "grid_gap": null,
            "grid_row": null,
            "grid_template_areas": null,
            "grid_template_columns": null,
            "grid_template_rows": null,
            "height": null,
            "justify_content": null,
            "justify_items": null,
            "left": null,
            "margin": null,
            "max_height": null,
            "max_width": null,
            "min_height": null,
            "min_width": null,
            "object_fit": null,
            "object_position": null,
            "order": null,
            "overflow": null,
            "overflow_x": null,
            "overflow_y": null,
            "padding": null,
            "right": null,
            "top": null,
            "visibility": null,
            "width": null
          }
        },
        "9adaeaf34eeb4ef0a30a5564668737d1": {
          "model_module": "@jupyter-widgets/controls",
          "model_module_version": "1.5.0",
          "model_name": "ProgressStyleModel",
          "state": {
            "_model_module": "@jupyter-widgets/controls",
            "_model_module_version": "1.5.0",
            "_model_name": "ProgressStyleModel",
            "_view_count": null,
            "_view_module": "@jupyter-widgets/base",
            "_view_module_version": "1.2.0",
            "_view_name": "StyleView",
            "bar_color": null,
            "description_width": ""
          }
        },
        "9fa138e917af4dbe81ff711f6018189b": {
          "model_module": "@jupyter-widgets/base",
          "model_module_version": "1.2.0",
          "model_name": "LayoutModel",
          "state": {
            "_model_module": "@jupyter-widgets/base",
            "_model_module_version": "1.2.0",
            "_model_name": "LayoutModel",
            "_view_count": null,
            "_view_module": "@jupyter-widgets/base",
            "_view_module_version": "1.2.0",
            "_view_name": "LayoutView",
            "align_content": null,
            "align_items": null,
            "align_self": null,
            "border": null,
            "bottom": null,
            "display": null,
            "flex": null,
            "flex_flow": null,
            "grid_area": null,
            "grid_auto_columns": null,
            "grid_auto_flow": null,
            "grid_auto_rows": null,
            "grid_column": null,
            "grid_gap": null,
            "grid_row": null,
            "grid_template_areas": null,
            "grid_template_columns": null,
            "grid_template_rows": null,
            "height": null,
            "justify_content": null,
            "justify_items": null,
            "left": null,
            "margin": null,
            "max_height": null,
            "max_width": null,
            "min_height": null,
            "min_width": null,
            "object_fit": null,
            "object_position": null,
            "order": null,
            "overflow": null,
            "overflow_x": null,
            "overflow_y": null,
            "padding": null,
            "right": null,
            "top": null,
            "visibility": null,
            "width": null
          }
        },
        "a402362ba3ea4d45bf06b7e7050e9b82": {
          "model_module": "@jupyter-widgets/base",
          "model_module_version": "1.2.0",
          "model_name": "LayoutModel",
          "state": {
            "_model_module": "@jupyter-widgets/base",
            "_model_module_version": "1.2.0",
            "_model_name": "LayoutModel",
            "_view_count": null,
            "_view_module": "@jupyter-widgets/base",
            "_view_module_version": "1.2.0",
            "_view_name": "LayoutView",
            "align_content": null,
            "align_items": null,
            "align_self": null,
            "border": null,
            "bottom": null,
            "display": null,
            "flex": null,
            "flex_flow": null,
            "grid_area": null,
            "grid_auto_columns": null,
            "grid_auto_flow": null,
            "grid_auto_rows": null,
            "grid_column": null,
            "grid_gap": null,
            "grid_row": null,
            "grid_template_areas": null,
            "grid_template_columns": null,
            "grid_template_rows": null,
            "height": null,
            "justify_content": null,
            "justify_items": null,
            "left": null,
            "margin": null,
            "max_height": null,
            "max_width": null,
            "min_height": null,
            "min_width": null,
            "object_fit": null,
            "object_position": null,
            "order": null,
            "overflow": null,
            "overflow_x": null,
            "overflow_y": null,
            "padding": null,
            "right": null,
            "top": null,
            "visibility": null,
            "width": null
          }
        },
        "aec6b0d14f5643169a11a97cea2daf29": {
          "model_module": "@jupyter-widgets/base",
          "model_module_version": "1.2.0",
          "model_name": "LayoutModel",
          "state": {
            "_model_module": "@jupyter-widgets/base",
            "_model_module_version": "1.2.0",
            "_model_name": "LayoutModel",
            "_view_count": null,
            "_view_module": "@jupyter-widgets/base",
            "_view_module_version": "1.2.0",
            "_view_name": "LayoutView",
            "align_content": null,
            "align_items": null,
            "align_self": null,
            "border": null,
            "bottom": null,
            "display": null,
            "flex": null,
            "flex_flow": null,
            "grid_area": null,
            "grid_auto_columns": null,
            "grid_auto_flow": null,
            "grid_auto_rows": null,
            "grid_column": null,
            "grid_gap": null,
            "grid_row": null,
            "grid_template_areas": null,
            "grid_template_columns": null,
            "grid_template_rows": null,
            "height": null,
            "justify_content": null,
            "justify_items": null,
            "left": null,
            "margin": null,
            "max_height": null,
            "max_width": null,
            "min_height": null,
            "min_width": null,
            "object_fit": null,
            "object_position": null,
            "order": null,
            "overflow": null,
            "overflow_x": null,
            "overflow_y": null,
            "padding": null,
            "right": null,
            "top": null,
            "visibility": null,
            "width": null
          }
        },
        "af101509501444648209a00d1dd600f5": {
          "model_module": "@jupyter-widgets/controls",
          "model_module_version": "1.5.0",
          "model_name": "HTMLModel",
          "state": {
            "_dom_classes": [],
            "_model_module": "@jupyter-widgets/controls",
            "_model_module_version": "1.5.0",
            "_model_name": "HTMLModel",
            "_view_count": null,
            "_view_module": "@jupyter-widgets/controls",
            "_view_module_version": "1.5.0",
            "_view_name": "HTMLView",
            "description": "",
            "description_tooltip": null,
            "layout": "IPY_MODEL_60748112968f4af098b2c86cb10d59d1",
            "placeholder": "​",
            "style": "IPY_MODEL_63d950112fe345c89d7fa9f13a1e7636",
            "value": "config.json: 100%"
          }
        },
        "b23d02c9ca73443fa483261666ffbdf7": {
          "model_module": "@jupyter-widgets/base",
          "model_module_version": "1.2.0",
          "model_name": "LayoutModel",
          "state": {
            "_model_module": "@jupyter-widgets/base",
            "_model_module_version": "1.2.0",
            "_model_name": "LayoutModel",
            "_view_count": null,
            "_view_module": "@jupyter-widgets/base",
            "_view_module_version": "1.2.0",
            "_view_name": "LayoutView",
            "align_content": null,
            "align_items": null,
            "align_self": null,
            "border": null,
            "bottom": null,
            "display": null,
            "flex": null,
            "flex_flow": null,
            "grid_area": null,
            "grid_auto_columns": null,
            "grid_auto_flow": null,
            "grid_auto_rows": null,
            "grid_column": null,
            "grid_gap": null,
            "grid_row": null,
            "grid_template_areas": null,
            "grid_template_columns": null,
            "grid_template_rows": null,
            "height": null,
            "justify_content": null,
            "justify_items": null,
            "left": null,
            "margin": null,
            "max_height": null,
            "max_width": null,
            "min_height": null,
            "min_width": null,
            "object_fit": null,
            "object_position": null,
            "order": null,
            "overflow": null,
            "overflow_x": null,
            "overflow_y": null,
            "padding": null,
            "right": null,
            "top": null,
            "visibility": null,
            "width": null
          }
        },
        "b6c941496baf4148b8b546f38ca28b47": {
          "model_module": "@jupyter-widgets/controls",
          "model_module_version": "1.5.0",
          "model_name": "HTMLModel",
          "state": {
            "_dom_classes": [],
            "_model_module": "@jupyter-widgets/controls",
            "_model_module_version": "1.5.0",
            "_model_name": "HTMLModel",
            "_view_count": null,
            "_view_module": "@jupyter-widgets/controls",
            "_view_module_version": "1.5.0",
            "_view_name": "HTMLView",
            "description": "",
            "description_tooltip": null,
            "layout": "IPY_MODEL_335db62c3669443e80650617c2677c29",
            "placeholder": "​",
            "style": "IPY_MODEL_c8362e4208c64b0886fd9d279ea4aecf",
            "value": " 440M/440M [00:01&lt;00:00, 295MB/s]"
          }
        },
        "bc57e281be1b4d27afa868355529faad": {
          "model_module": "@jupyter-widgets/controls",
          "model_module_version": "1.5.0",
          "model_name": "DescriptionStyleModel",
          "state": {
            "_model_module": "@jupyter-widgets/controls",
            "_model_module_version": "1.5.0",
            "_model_name": "DescriptionStyleModel",
            "_view_count": null,
            "_view_module": "@jupyter-widgets/base",
            "_view_module_version": "1.2.0",
            "_view_name": "StyleView",
            "description_width": ""
          }
        },
        "bc9b826900be4937ab240def85a083c4": {
          "model_module": "@jupyter-widgets/controls",
          "model_module_version": "1.5.0",
          "model_name": "HTMLModel",
          "state": {
            "_dom_classes": [],
            "_model_module": "@jupyter-widgets/controls",
            "_model_module_version": "1.5.0",
            "_model_name": "HTMLModel",
            "_view_count": null,
            "_view_module": "@jupyter-widgets/controls",
            "_view_module_version": "1.5.0",
            "_view_name": "HTMLView",
            "description": "",
            "description_tooltip": null,
            "layout": "IPY_MODEL_c2af45bd353d433685b6b1a22dcdd9cf",
            "placeholder": "​",
            "style": "IPY_MODEL_7c293a952a694c0d8f431d5d33183c28",
            "value": " 232k/232k [00:00&lt;00:00, 1.43MB/s]"
          }
        },
        "c2af45bd353d433685b6b1a22dcdd9cf": {
          "model_module": "@jupyter-widgets/base",
          "model_module_version": "1.2.0",
          "model_name": "LayoutModel",
          "state": {
            "_model_module": "@jupyter-widgets/base",
            "_model_module_version": "1.2.0",
            "_model_name": "LayoutModel",
            "_view_count": null,
            "_view_module": "@jupyter-widgets/base",
            "_view_module_version": "1.2.0",
            "_view_name": "LayoutView",
            "align_content": null,
            "align_items": null,
            "align_self": null,
            "border": null,
            "bottom": null,
            "display": null,
            "flex": null,
            "flex_flow": null,
            "grid_area": null,
            "grid_auto_columns": null,
            "grid_auto_flow": null,
            "grid_auto_rows": null,
            "grid_column": null,
            "grid_gap": null,
            "grid_row": null,
            "grid_template_areas": null,
            "grid_template_columns": null,
            "grid_template_rows": null,
            "height": null,
            "justify_content": null,
            "justify_items": null,
            "left": null,
            "margin": null,
            "max_height": null,
            "max_width": null,
            "min_height": null,
            "min_width": null,
            "object_fit": null,
            "object_position": null,
            "order": null,
            "overflow": null,
            "overflow_x": null,
            "overflow_y": null,
            "padding": null,
            "right": null,
            "top": null,
            "visibility": null,
            "width": null
          }
        },
        "c8362e4208c64b0886fd9d279ea4aecf": {
          "model_module": "@jupyter-widgets/controls",
          "model_module_version": "1.5.0",
          "model_name": "DescriptionStyleModel",
          "state": {
            "_model_module": "@jupyter-widgets/controls",
            "_model_module_version": "1.5.0",
            "_model_name": "DescriptionStyleModel",
            "_view_count": null,
            "_view_module": "@jupyter-widgets/base",
            "_view_module_version": "1.2.0",
            "_view_name": "StyleView",
            "description_width": ""
          }
        },
        "cbadfddb5c124c1a9838fd115aa16d0e": {
          "model_module": "@jupyter-widgets/controls",
          "model_module_version": "1.5.0",
          "model_name": "DescriptionStyleModel",
          "state": {
            "_model_module": "@jupyter-widgets/controls",
            "_model_module_version": "1.5.0",
            "_model_name": "DescriptionStyleModel",
            "_view_count": null,
            "_view_module": "@jupyter-widgets/base",
            "_view_module_version": "1.2.0",
            "_view_name": "StyleView",
            "description_width": ""
          }
        },
        "d828a95dfe14461eaab8c2f1c4dab02f": {
          "model_module": "@jupyter-widgets/controls",
          "model_module_version": "1.5.0",
          "model_name": "ProgressStyleModel",
          "state": {
            "_model_module": "@jupyter-widgets/controls",
            "_model_module_version": "1.5.0",
            "_model_name": "ProgressStyleModel",
            "_view_count": null,
            "_view_module": "@jupyter-widgets/base",
            "_view_module_version": "1.2.0",
            "_view_name": "StyleView",
            "bar_color": null,
            "description_width": ""
          }
        },
        "dd9b23d03c714d4ca2f61c1e38390bbd": {
          "model_module": "@jupyter-widgets/controls",
          "model_module_version": "1.5.0",
          "model_name": "ProgressStyleModel",
          "state": {
            "_model_module": "@jupyter-widgets/controls",
            "_model_module_version": "1.5.0",
            "_model_name": "ProgressStyleModel",
            "_view_count": null,
            "_view_module": "@jupyter-widgets/base",
            "_view_module_version": "1.2.0",
            "_view_name": "StyleView",
            "bar_color": null,
            "description_width": ""
          }
        },
        "e0d5520c570d463cbdd1162619928731": {
          "model_module": "@jupyter-widgets/controls",
          "model_module_version": "1.5.0",
          "model_name": "FloatProgressModel",
          "state": {
            "_dom_classes": [],
            "_model_module": "@jupyter-widgets/controls",
            "_model_module_version": "1.5.0",
            "_model_name": "FloatProgressModel",
            "_view_count": null,
            "_view_module": "@jupyter-widgets/controls",
            "_view_module_version": "1.5.0",
            "_view_name": "ProgressView",
            "bar_style": "success",
            "description": "",
            "description_tooltip": null,
            "layout": "IPY_MODEL_4436725c1e9847c7b39fb16d112a68eb",
            "max": 48,
            "min": 0,
            "orientation": "horizontal",
            "style": "IPY_MODEL_9adaeaf34eeb4ef0a30a5564668737d1",
            "value": 48
          }
        },
        "e4919e38e7914fd1b6f34f418288a97f": {
          "model_module": "@jupyter-widgets/controls",
          "model_module_version": "1.5.0",
          "model_name": "HTMLModel",
          "state": {
            "_dom_classes": [],
            "_model_module": "@jupyter-widgets/controls",
            "_model_module_version": "1.5.0",
            "_model_name": "HTMLModel",
            "_view_count": null,
            "_view_module": "@jupyter-widgets/controls",
            "_view_module_version": "1.5.0",
            "_view_name": "HTMLView",
            "description": "",
            "description_tooltip": null,
            "layout": "IPY_MODEL_aec6b0d14f5643169a11a97cea2daf29",
            "placeholder": "​",
            "style": "IPY_MODEL_228ff703608e4a40849eda56f6b44330",
            "value": " 48.0/48.0 [00:00&lt;00:00, 3.10kB/s]"
          }
        },
        "eb949dcec50c423b8a8c3f0881625c04": {
          "model_module": "@jupyter-widgets/controls",
          "model_module_version": "1.5.0",
          "model_name": "HTMLModel",
          "state": {
            "_dom_classes": [],
            "_model_module": "@jupyter-widgets/controls",
            "_model_module_version": "1.5.0",
            "_model_name": "HTMLModel",
            "_view_count": null,
            "_view_module": "@jupyter-widgets/controls",
            "_view_module_version": "1.5.0",
            "_view_name": "HTMLView",
            "description": "",
            "description_tooltip": null,
            "layout": "IPY_MODEL_6904f395d74c43c38d94f44fbe193a28",
            "placeholder": "​",
            "style": "IPY_MODEL_2f72d8ec6c1f409d9508e11c4fa74a55",
            "value": " 466k/466k [00:00&lt;00:00, 1.90MB/s]"
          }
        },
        "ebb7bf66face4616ad851cff5edda982": {
          "model_module": "@jupyter-widgets/controls",
          "model_module_version": "1.5.0",
          "model_name": "HBoxModel",
          "state": {
            "_dom_classes": [],
            "_model_module": "@jupyter-widgets/controls",
            "_model_module_version": "1.5.0",
            "_model_name": "HBoxModel",
            "_view_count": null,
            "_view_module": "@jupyter-widgets/controls",
            "_view_module_version": "1.5.0",
            "_view_name": "HBoxView",
            "box_style": "",
            "children": [
              "IPY_MODEL_f3d87b9c0b0c4ee08f6aac890561555b",
              "IPY_MODEL_4794c57e7cc3471497920d6f410db1bd",
              "IPY_MODEL_bc9b826900be4937ab240def85a083c4"
            ],
            "layout": "IPY_MODEL_80c905800dd04d4883d89ef81d872d96"
          }
        },
        "f3d87b9c0b0c4ee08f6aac890561555b": {
          "model_module": "@jupyter-widgets/controls",
          "model_module_version": "1.5.0",
          "model_name": "HTMLModel",
          "state": {
            "_dom_classes": [],
            "_model_module": "@jupyter-widgets/controls",
            "_model_module_version": "1.5.0",
            "_model_name": "HTMLModel",
            "_view_count": null,
            "_view_module": "@jupyter-widgets/controls",
            "_view_module_version": "1.5.0",
            "_view_name": "HTMLView",
            "description": "",
            "description_tooltip": null,
            "layout": "IPY_MODEL_a402362ba3ea4d45bf06b7e7050e9b82",
            "placeholder": "​",
            "style": "IPY_MODEL_753c49aa90904a7398120c51cf0ecab9",
            "value": "vocab.txt: 100%"
          }
        }
      }
    }
  },
  "nbformat": 4,
  "nbformat_minor": 0
}