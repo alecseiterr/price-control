{
  "nbformat": 4,
  "nbformat_minor": 0,
  "metadata": {
    "colab": {
      "provenance": []
    },
    "kernelspec": {
      "name": "python3",
      "display_name": "Python 3"
    },
    "language_info": {
      "name": "python"
    }
  },
  "cells": [
    {
      "cell_type": "code",
      "source": [
        "import gdown\n",
        "import zipfile\n",
        "import os\n",
        "import json\n",
        "import shutil\n",
        "import cv2"
      ],
      "metadata": {
        "id": "sxZEhsmZ0iow"
      },
      "execution_count": null,
      "outputs": []
    },
    {
      "cell_type": "code",
      "source": [
        "IMAGE_PATH = '/content/Dataset/Images'\n",
        "LABEL_PATH = '/content/Dataset/Labels'\n",
        "\n",
        "\n",
        "if not os.path.exists(IMAGE_PATH):\n",
        "    os.makedirs(IMAGE_PATH)\n",
        "\n",
        "if not os.path.exists(LABEL_PATH):\n",
        "    os.makedirs(LABEL_PATH)"
      ],
      "metadata": {
        "id": "yadxeQgm1DQG"
      },
      "execution_count": null,
      "outputs": []
    },
    {
      "cell_type": "code",
      "source": [
        "output = gdown.download('https://drive.google.com/uc?id=1c1xi5pvwEh1vGLvainJfXrzJn-EjfenX', None, quiet=True)\n",
        "print(output)\n",
        "\n",
        "# Распаковываем архив в текущую директорию\n",
        "with zipfile.ZipFile(output, 'r') as zip_ref:\n",
        "    zip_ref.extractall(IMAGE_PATH)"
      ],
      "metadata": {
        "colab": {
          "base_uri": "https://localhost:8080/"
        },
        "id": "m7eJTuQH1Mn4",
        "outputId": "9c57b520-afd1-4fed-cce9-2cd7399ba7d6"
      },
      "execution_count": null,
      "outputs": [
        {
          "output_type": "stream",
          "name": "stdout",
          "text": [
            "price_tags_images.zip\n"
          ]
        }
      ]
    },
    {
      "cell_type": "code",
      "source": [
        "# load json and save directory for labels train/val/test\n",
        "json_file = '/content/via_project_13Apr2024_16h38m_json.json'\n",
        "save_folder = LABEL_PATH\n",
        "\n",
        "#source of all the images and destination folder for train/test/val\n",
        "source_path = IMAGE_PATH\n",
        "destination_path = os.path.join(IMAGE_PATH,'val')\n",
        "\n",
        "\n",
        "# Use os.listdir() to get a list of filenames in the folder\n",
        "file_names = os.listdir(source_path)\n",
        "\n",
        "with open(json_file ) as f:\n",
        "   data = json.load(f)"
      ],
      "metadata": {
        "id": "SBqjQaUW1yWp"
      },
      "execution_count": null,
      "outputs": []
    },
    {
      "cell_type": "code",
      "source": [
        "for value in data.values():\n",
        "  filename = value['filename']\n",
        "  img = cv2.imread(os.path.join(source_path,filename))\n",
        "\n",
        "  # fetching the dimensions\n",
        "  wid = img.shape[1]\n",
        "  hgt = img.shape[0]\n",
        "\n",
        "  with open(os.path.join(LABEL_PATH,os.path.splitext(filename)[0]+\".txt\"), 'w') as annotation:\n",
        "    line = ''\n",
        "    for region in value['regions']:\n",
        "      w = region['shape_attributes']['width']/wid\n",
        "      h = region['shape_attributes']['height']/hgt\n",
        "      x = region['shape_attributes']['x']/wid + w/2\n",
        "      y = region['shape_attributes']['y']/hgt + h/2\n",
        "      line +='0 '+ str(x) + ' ' + str(y) + ' '+ str(w) + ' '+ str(h) + '\\n'\n",
        "    annotation.write(line)"
      ],
      "metadata": {
        "id": "hV0ZuTo33Mtk"
      },
      "execution_count": null,
      "outputs": []
    },
    {
      "cell_type": "markdown",
      "metadata": {
        "id": "ngao05oNyy83"
      },
      "source": [
        "# Подготовка данных для обучения YOLO8n"
      ]
    },
    {
      "cell_type": "code",
      "execution_count": null,
      "metadata": {
        "id": "5FLrWMOwy9qs"
      },
      "outputs": [],
      "source": [
        "HOME = '/content/'\n",
        "\n",
        "# Где хранятся картинки\n",
        "images_dir = IMAGE_PATH\n",
        "\n",
        "# Где хранятся метки\n",
        "bbox_dir = LABEL_PATH\n",
        "\n",
        "# Папки для датасета\n",
        "dataset_path = os.path.join(HOME,'DataSetForYolo8')\n",
        "train_box = os.path.join(dataset_path, 'train')\n",
        "val_box = os.path.join(dataset_path,'valid')\n",
        "\n",
        "os.makedirs(val_box, exist_ok=True)\n",
        "os.makedirs(os.path.join(val_box,'images'), exist_ok=True)\n",
        "os.makedirs(os.path.join(val_box,'labels'), exist_ok=True)\n",
        "os.makedirs(train_box, exist_ok=True)\n",
        "os.makedirs(os.path.join(train_box,'images'), exist_ok=True)\n",
        "os.makedirs(os.path.join(train_box,'labels'), exist_ok=True)"
      ]
    },
    {
      "cell_type": "code",
      "execution_count": null,
      "metadata": {
        "colab": {
          "base_uri": "https://localhost:8080/"
        },
        "id": "clGqlVu80Kc5",
        "outputId": "eba9a949-48eb-46c1-a267-5786f042b896"
      },
      "outputs": [
        {
          "output_type": "stream",
          "name": "stdout",
          "text": [
            "Файлов в Labels всего 228\n",
            "Файлов в Images всего 231\n"
          ]
        }
      ],
      "source": [
        "test_path = '/content/Dataset'\n",
        "for path in os.listdir(test_path):\n",
        "  full_path = os.path.join(test_path ,path)\n",
        "  if os.path.isdir(full_path):\n",
        "    print('Файлов в', path, 'всего', len(os.listdir(full_path)))"
      ]
    },
    {
      "cell_type": "code",
      "execution_count": null,
      "metadata": {
        "id": "gaq28yb90N7R"
      },
      "outputs": [],
      "source": [
        "# Создаем датасет для сегментации\n",
        "files_list = os.listdir(bbox_dir)\n",
        "files_list.sort()\n",
        "\n",
        "for i in range(len(files_list)):\n",
        "  # Каждый 9 из 10 в val\n",
        "  if i%10 == 9:\n",
        "    shutil.move(os.path.join(bbox_dir,files_list[i]), os.path.join(val_box,'labels'))\n",
        "    shutil.move(os.path.join(images_dir,files_list[i][:-3]+'jpg'),os.path.join(val_box,'images'))\n",
        "  else:\n",
        "    shutil.move(os.path.join(bbox_dir,files_list[i]), os.path.join(train_box,'labels'))\n",
        "    shutil.move(os.path.join(images_dir,files_list[i][:-3]+'jpg'),os.path.join(train_box,'images'))"
      ]
    },
    {
      "cell_type": "code",
      "source": [
        "CLASS_LIST = ['price tag']"
      ],
      "metadata": {
        "id": "UpHBjOStBdpW"
      },
      "execution_count": null,
      "outputs": []
    },
    {
      "cell_type": "code",
      "execution_count": null,
      "metadata": {
        "id": "DobmrvYT043Q",
        "colab": {
          "base_uri": "https://localhost:8080/"
        },
        "outputId": "731b383a-7da7-49ac-9cc3-abd3d6de4a8f"
      },
      "outputs": [
        {
          "output_type": "stream",
          "name": "stdout",
          "text": [
            "path: /content/DataSetForYolo8\n",
            "train: /content/DataSetForYolo8/train\n",
            "val: /content/DataSetForYolo8/valid\n",
            "nc: 1\n",
            "names: ['price tag']\n"
          ]
        }
      ],
      "source": [
        "# Создание файла yaml\n",
        "with open(os.path.join(dataset_path,'data.yaml'), 'w') as f:\n",
        "  f.write('path: '+str(dataset_path))\n",
        "  f.write('\\ntrain: '+str(os.path.join(dataset_path,'train')))\n",
        "  #f.write('\\ntest: '+str(os.path.join(dataset_path,'test')))\n",
        "  f.write('\\nval: '+str(os.path.join(dataset_path,'valid')))\n",
        "\n",
        "  f.write('\\nnc: '+ str(len(CLASS_LIST)))\n",
        "\n",
        "  f.write('\\nnames: ' + str(CLASS_LIST))\n",
        "\n",
        "with open(os.path.join(dataset_path,'data.yaml'), 'r') as f:\n",
        "  print(f.read())"
      ]
    },
    {
      "cell_type": "code",
      "source": [
        "import pathlib\n",
        "\n",
        "directory = pathlib.Path('/content/DataSetForYolo8')\n",
        "\n",
        "with zipfile.ZipFile(\"DataSet_for_PriceTags.zip\", mode=\"w\") as archive:\n",
        "  for file_path in directory.rglob(\"*\"):\n",
        "    archive.write(file_path,\n",
        "                  arcname=file_path.relative_to(directory)\n",
        "                 )"
      ],
      "metadata": {
        "id": "r_t6eADxAS09"
      },
      "execution_count": null,
      "outputs": []
    }
  ]
}